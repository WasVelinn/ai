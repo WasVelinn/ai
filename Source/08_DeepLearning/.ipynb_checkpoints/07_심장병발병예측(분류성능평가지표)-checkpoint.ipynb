{
 "cells": [
  {
   "cell_type": "code",
   "execution_count": 2,
   "id": "a216b275",
   "metadata": {
    "ExecuteTime": {
     "end_time": "2024-12-18T01:47:16.374194Z",
     "start_time": "2024-12-18T01:47:15.871904Z"
    }
   },
   "outputs": [],
   "source": [
    "import numpy as np\n",
    "import pandas as pd\n",
    "from sklearn.preprocessing import MinMaxScaler\n",
    "from sklearn.model_selection import train_test_split # 훈련셋과 테스트셋을 분리\n",
    "from tensorflow.keras.models import Sequential # 모델 생성\n",
    "from tensorflow.keras.layers import Dense, Dropout \n",
    "import matplotlib.pyplot as plt\n",
    "from tensorflow.keras import metrics # 성능지표들"
   ]
  },
  {
   "cell_type": "markdown",
   "id": "3e58717a",
   "metadata": {},
   "source": [
    "- 심장병 발병 예측\n",
    "\n",
    "- 1. 데이터 셋 생성 & 전처리\n",
    "     엑셀데이터 -> (?)을 nan으로 교체 -> nan 처리 -> X, y 분리 -> X 스케일조정 -> 훈련셋과 테스트셋분리\n",
    "- 2. 모델 생성 & 구성(과적합 줄이기 단계 추가)\n",
    "- 3. 학습과정설정 (accuracy, precision, recall)\n",
    "- 4. 모델 학습시키기 (훈련셋의 일부를 검증셋으로 학습)\n",
    "- 5. 모델 평가 - 과정살펴보기(그래프), evaluate, pd.crosstab/confusion_matrix(혼돈행렬)\n",
    "- 6. 모델 사용하기"
   ]
  },
  {
   "cell_type": "markdown",
   "id": "fd36b721",
   "metadata": {},
   "source": [
    "## 1. 데이터 셋 생성 & 전처리\n",
    "- 엑셀데이터 -> (?)을 nan으로 교체 -> nan 처리 -> X, y 분리 -> X 스케일조정 -> 훈련셋과 테스트셋분리"
   ]
  },
  {
   "cell_type": "code",
   "execution_count": 3,
   "id": "47dbce4b",
   "metadata": {
    "ExecuteTime": {
     "end_time": "2024-12-18T02:05:53.649689Z",
     "start_time": "2024-12-18T02:05:52.815749Z"
    }
   },
   "outputs": [
    {
     "data": {
      "text/html": [
       "<div>\n",
       "<style scoped>\n",
       "    .dataframe tbody tr th:only-of-type {\n",
       "        vertical-align: middle;\n",
       "    }\n",
       "\n",
       "    .dataframe tbody tr th {\n",
       "        vertical-align: top;\n",
       "    }\n",
       "\n",
       "    .dataframe thead th {\n",
       "        text-align: right;\n",
       "    }\n",
       "</style>\n",
       "<table border=\"1\" class=\"dataframe\">\n",
       "  <thead>\n",
       "    <tr style=\"text-align: right;\">\n",
       "      <th></th>\n",
       "      <th>age</th>\n",
       "      <th>sex</th>\n",
       "      <th>cp</th>\n",
       "      <th>treshtbps</th>\n",
       "      <th>chol</th>\n",
       "      <th>fbs</th>\n",
       "      <th>restecg</th>\n",
       "      <th>thalach</th>\n",
       "      <th>exang</th>\n",
       "      <th>oldpeak</th>\n",
       "      <th>slope</th>\n",
       "      <th>ca</th>\n",
       "      <th>hsl</th>\n",
       "      <th>heartDisease</th>\n",
       "    </tr>\n",
       "  </thead>\n",
       "  <tbody>\n",
       "    <tr>\n",
       "      <th>0</th>\n",
       "      <td>63</td>\n",
       "      <td>1</td>\n",
       "      <td>1</td>\n",
       "      <td>145</td>\n",
       "      <td>233</td>\n",
       "      <td>1</td>\n",
       "      <td>2</td>\n",
       "      <td>150</td>\n",
       "      <td>0</td>\n",
       "      <td>2.3</td>\n",
       "      <td>3</td>\n",
       "      <td>0</td>\n",
       "      <td>6</td>\n",
       "      <td>0</td>\n",
       "    </tr>\n",
       "    <tr>\n",
       "      <th>1</th>\n",
       "      <td>67</td>\n",
       "      <td>1</td>\n",
       "      <td>4</td>\n",
       "      <td>160</td>\n",
       "      <td>286</td>\n",
       "      <td>0</td>\n",
       "      <td>0</td>\n",
       "      <td>108</td>\n",
       "      <td>1</td>\n",
       "      <td>1.5</td>\n",
       "      <td>2</td>\n",
       "      <td>3</td>\n",
       "      <td>3</td>\n",
       "      <td>1</td>\n",
       "    </tr>\n",
       "    <tr>\n",
       "      <th>2</th>\n",
       "      <td>67</td>\n",
       "      <td>1</td>\n",
       "      <td>4</td>\n",
       "      <td>120</td>\n",
       "      <td>?</td>\n",
       "      <td>0</td>\n",
       "      <td>2</td>\n",
       "      <td>129</td>\n",
       "      <td>1</td>\n",
       "      <td>2.6</td>\n",
       "      <td>2</td>\n",
       "      <td>2</td>\n",
       "      <td>7</td>\n",
       "      <td>1</td>\n",
       "    </tr>\n",
       "    <tr>\n",
       "      <th>3</th>\n",
       "      <td>37</td>\n",
       "      <td>1</td>\n",
       "      <td>3</td>\n",
       "      <td>130</td>\n",
       "      <td>250</td>\n",
       "      <td>0</td>\n",
       "      <td>0</td>\n",
       "      <td>187</td>\n",
       "      <td>0</td>\n",
       "      <td>3.5</td>\n",
       "      <td>3</td>\n",
       "      <td>0</td>\n",
       "      <td>3</td>\n",
       "      <td>0</td>\n",
       "    </tr>\n",
       "    <tr>\n",
       "      <th>4</th>\n",
       "      <td>41</td>\n",
       "      <td>0</td>\n",
       "      <td>2</td>\n",
       "      <td>130</td>\n",
       "      <td>204</td>\n",
       "      <td>0</td>\n",
       "      <td>2</td>\n",
       "      <td>172</td>\n",
       "      <td>0</td>\n",
       "      <td>1.4</td>\n",
       "      <td>1</td>\n",
       "      <td>0</td>\n",
       "      <td>3</td>\n",
       "      <td>0</td>\n",
       "    </tr>\n",
       "    <tr>\n",
       "      <th>...</th>\n",
       "      <td>...</td>\n",
       "      <td>...</td>\n",
       "      <td>...</td>\n",
       "      <td>...</td>\n",
       "      <td>...</td>\n",
       "      <td>...</td>\n",
       "      <td>...</td>\n",
       "      <td>...</td>\n",
       "      <td>...</td>\n",
       "      <td>...</td>\n",
       "      <td>...</td>\n",
       "      <td>...</td>\n",
       "      <td>...</td>\n",
       "      <td>...</td>\n",
       "    </tr>\n",
       "    <tr>\n",
       "      <th>298</th>\n",
       "      <td>45</td>\n",
       "      <td>1</td>\n",
       "      <td>1</td>\n",
       "      <td>110</td>\n",
       "      <td>264</td>\n",
       "      <td>0</td>\n",
       "      <td>0</td>\n",
       "      <td>132</td>\n",
       "      <td>0</td>\n",
       "      <td>1.2</td>\n",
       "      <td>2</td>\n",
       "      <td>0</td>\n",
       "      <td>7</td>\n",
       "      <td>1</td>\n",
       "    </tr>\n",
       "    <tr>\n",
       "      <th>299</th>\n",
       "      <td>68</td>\n",
       "      <td>1</td>\n",
       "      <td>4</td>\n",
       "      <td>144</td>\n",
       "      <td>193</td>\n",
       "      <td>1</td>\n",
       "      <td>0</td>\n",
       "      <td>141</td>\n",
       "      <td>0</td>\n",
       "      <td>3.4</td>\n",
       "      <td>2</td>\n",
       "      <td>2</td>\n",
       "      <td>7</td>\n",
       "      <td>1</td>\n",
       "    </tr>\n",
       "    <tr>\n",
       "      <th>300</th>\n",
       "      <td>57</td>\n",
       "      <td>1</td>\n",
       "      <td>4</td>\n",
       "      <td>130</td>\n",
       "      <td>131</td>\n",
       "      <td>0</td>\n",
       "      <td>0</td>\n",
       "      <td>115</td>\n",
       "      <td>1</td>\n",
       "      <td>1.2</td>\n",
       "      <td>2</td>\n",
       "      <td>1</td>\n",
       "      <td>7</td>\n",
       "      <td>1</td>\n",
       "    </tr>\n",
       "    <tr>\n",
       "      <th>301</th>\n",
       "      <td>57</td>\n",
       "      <td>0</td>\n",
       "      <td>2</td>\n",
       "      <td>130</td>\n",
       "      <td>236</td>\n",
       "      <td>0</td>\n",
       "      <td>2</td>\n",
       "      <td>174</td>\n",
       "      <td>0</td>\n",
       "      <td>0.0</td>\n",
       "      <td>2</td>\n",
       "      <td>1</td>\n",
       "      <td>3</td>\n",
       "      <td>1</td>\n",
       "    </tr>\n",
       "    <tr>\n",
       "      <th>302</th>\n",
       "      <td>38</td>\n",
       "      <td>1</td>\n",
       "      <td>3</td>\n",
       "      <td>138</td>\n",
       "      <td>175</td>\n",
       "      <td>0</td>\n",
       "      <td>0</td>\n",
       "      <td>173</td>\n",
       "      <td>0</td>\n",
       "      <td>0.0</td>\n",
       "      <td>1</td>\n",
       "      <td>?</td>\n",
       "      <td>3</td>\n",
       "      <td>0</td>\n",
       "    </tr>\n",
       "  </tbody>\n",
       "</table>\n",
       "<p>303 rows × 14 columns</p>\n",
       "</div>"
      ],
      "text/plain": [
       "     age  sex  cp  treshtbps chol  fbs  restecg  thalach  exang  oldpeak  \\\n",
       "0     63    1   1        145  233    1        2      150      0      2.3   \n",
       "1     67    1   4        160  286    0        0      108      1      1.5   \n",
       "2     67    1   4        120    ?    0        2      129      1      2.6   \n",
       "3     37    1   3        130  250    0        0      187      0      3.5   \n",
       "4     41    0   2        130  204    0        2      172      0      1.4   \n",
       "..   ...  ...  ..        ...  ...  ...      ...      ...    ...      ...   \n",
       "298   45    1   1        110  264    0        0      132      0      1.2   \n",
       "299   68    1   4        144  193    1        0      141      0      3.4   \n",
       "300   57    1   4        130  131    0        0      115      1      1.2   \n",
       "301   57    0   2        130  236    0        2      174      0      0.0   \n",
       "302   38    1   3        138  175    0        0      173      0      0.0   \n",
       "\n",
       "     slope ca hsl  heartDisease  \n",
       "0        3  0   6             0  \n",
       "1        2  3   3             1  \n",
       "2        2  2   7             1  \n",
       "3        3  0   3             0  \n",
       "4        1  0   3             0  \n",
       "..     ... ..  ..           ...  \n",
       "298      2  0   7             1  \n",
       "299      2  2   7             1  \n",
       "300      2  1   7             1  \n",
       "301      2  1   3             1  \n",
       "302      1  ?   3             0  \n",
       "\n",
       "[303 rows x 14 columns]"
      ]
     },
     "execution_count": 3,
     "metadata": {},
     "output_type": "execute_result"
    }
   ],
   "source": [
    "raw_data = pd.read_excel('./data/heart-disease.xlsx')\n",
    "raw_data"
   ]
  },
  {
   "cell_type": "code",
   "execution_count": 4,
   "id": "ba765a36",
   "metadata": {
    "ExecuteTime": {
     "end_time": "2024-12-18T02:07:28.945718Z",
     "start_time": "2024-12-18T02:07:28.928537Z"
    }
   },
   "outputs": [
    {
     "name": "stdout",
     "output_type": "stream",
     "text": [
      "<class 'pandas.core.frame.DataFrame'>\n",
      "RangeIndex: 303 entries, 0 to 302\n",
      "Data columns (total 14 columns):\n",
      " #   Column        Non-Null Count  Dtype  \n",
      "---  ------        --------------  -----  \n",
      " 0   age           303 non-null    int64  \n",
      " 1   sex           303 non-null    int64  \n",
      " 2   cp            303 non-null    int64  \n",
      " 3   treshtbps     303 non-null    int64  \n",
      " 4   chol          303 non-null    object \n",
      " 5   fbs           303 non-null    int64  \n",
      " 6   restecg       303 non-null    int64  \n",
      " 7   thalach       303 non-null    int64  \n",
      " 8   exang         303 non-null    int64  \n",
      " 9   oldpeak       303 non-null    float64\n",
      " 10  slope         303 non-null    int64  \n",
      " 11  ca            303 non-null    object \n",
      " 12  hsl           303 non-null    object \n",
      " 13  heartDisease  303 non-null    int64  \n",
      "dtypes: float64(1), int64(10), object(3)\n",
      "memory usage: 33.3+ KB\n"
     ]
    }
   ],
   "source": [
    "raw_data.info()"
   ]
  },
  {
   "cell_type": "code",
   "execution_count": 8,
   "id": "12b8928e",
   "metadata": {
    "ExecuteTime": {
     "end_time": "2024-12-18T02:13:13.191661Z",
     "start_time": "2024-12-18T02:13:13.175309Z"
    }
   },
   "outputs": [
    {
     "data": {
      "text/html": [
       "<div>\n",
       "<style scoped>\n",
       "    .dataframe tbody tr th:only-of-type {\n",
       "        vertical-align: middle;\n",
       "    }\n",
       "\n",
       "    .dataframe tbody tr th {\n",
       "        vertical-align: top;\n",
       "    }\n",
       "\n",
       "    .dataframe thead th {\n",
       "        text-align: right;\n",
       "    }\n",
       "</style>\n",
       "<table border=\"1\" class=\"dataframe\">\n",
       "  <thead>\n",
       "    <tr style=\"text-align: right;\">\n",
       "      <th></th>\n",
       "      <th>age</th>\n",
       "      <th>sex</th>\n",
       "      <th>cp</th>\n",
       "      <th>treshtbps</th>\n",
       "      <th>chol</th>\n",
       "      <th>fbs</th>\n",
       "      <th>restecg</th>\n",
       "      <th>thalach</th>\n",
       "      <th>exang</th>\n",
       "      <th>oldpeak</th>\n",
       "      <th>slope</th>\n",
       "      <th>ca</th>\n",
       "      <th>hsl</th>\n",
       "      <th>heartDisease</th>\n",
       "    </tr>\n",
       "  </thead>\n",
       "  <tbody>\n",
       "    <tr>\n",
       "      <th>2</th>\n",
       "      <td>67</td>\n",
       "      <td>1</td>\n",
       "      <td>4</td>\n",
       "      <td>120</td>\n",
       "      <td>?</td>\n",
       "      <td>0</td>\n",
       "      <td>2</td>\n",
       "      <td>129</td>\n",
       "      <td>1</td>\n",
       "      <td>2.6</td>\n",
       "      <td>2</td>\n",
       "      <td>2</td>\n",
       "      <td>7</td>\n",
       "      <td>1</td>\n",
       "    </tr>\n",
       "    <tr>\n",
       "      <th>87</th>\n",
       "      <td>53</td>\n",
       "      <td>0</td>\n",
       "      <td>3</td>\n",
       "      <td>128</td>\n",
       "      <td>216</td>\n",
       "      <td>0</td>\n",
       "      <td>2</td>\n",
       "      <td>115</td>\n",
       "      <td>0</td>\n",
       "      <td>0.0</td>\n",
       "      <td>1</td>\n",
       "      <td>0</td>\n",
       "      <td>?</td>\n",
       "      <td>0</td>\n",
       "    </tr>\n",
       "    <tr>\n",
       "      <th>166</th>\n",
       "      <td>52</td>\n",
       "      <td>1</td>\n",
       "      <td>3</td>\n",
       "      <td>138</td>\n",
       "      <td>223</td>\n",
       "      <td>0</td>\n",
       "      <td>0</td>\n",
       "      <td>169</td>\n",
       "      <td>0</td>\n",
       "      <td>0.0</td>\n",
       "      <td>1</td>\n",
       "      <td>?</td>\n",
       "      <td>3</td>\n",
       "      <td>0</td>\n",
       "    </tr>\n",
       "    <tr>\n",
       "      <th>192</th>\n",
       "      <td>43</td>\n",
       "      <td>1</td>\n",
       "      <td>4</td>\n",
       "      <td>132</td>\n",
       "      <td>247</td>\n",
       "      <td>1</td>\n",
       "      <td>2</td>\n",
       "      <td>143</td>\n",
       "      <td>1</td>\n",
       "      <td>0.1</td>\n",
       "      <td>2</td>\n",
       "      <td>?</td>\n",
       "      <td>7</td>\n",
       "      <td>1</td>\n",
       "    </tr>\n",
       "    <tr>\n",
       "      <th>266</th>\n",
       "      <td>52</td>\n",
       "      <td>1</td>\n",
       "      <td>4</td>\n",
       "      <td>128</td>\n",
       "      <td>204</td>\n",
       "      <td>1</td>\n",
       "      <td>0</td>\n",
       "      <td>156</td>\n",
       "      <td>1</td>\n",
       "      <td>1.0</td>\n",
       "      <td>2</td>\n",
       "      <td>0</td>\n",
       "      <td>?</td>\n",
       "      <td>1</td>\n",
       "    </tr>\n",
       "    <tr>\n",
       "      <th>287</th>\n",
       "      <td>58</td>\n",
       "      <td>1</td>\n",
       "      <td>2</td>\n",
       "      <td>125</td>\n",
       "      <td>220</td>\n",
       "      <td>0</td>\n",
       "      <td>0</td>\n",
       "      <td>144</td>\n",
       "      <td>0</td>\n",
       "      <td>0.4</td>\n",
       "      <td>2</td>\n",
       "      <td>?</td>\n",
       "      <td>7</td>\n",
       "      <td>0</td>\n",
       "    </tr>\n",
       "    <tr>\n",
       "      <th>302</th>\n",
       "      <td>38</td>\n",
       "      <td>1</td>\n",
       "      <td>3</td>\n",
       "      <td>138</td>\n",
       "      <td>175</td>\n",
       "      <td>0</td>\n",
       "      <td>0</td>\n",
       "      <td>173</td>\n",
       "      <td>0</td>\n",
       "      <td>0.0</td>\n",
       "      <td>1</td>\n",
       "      <td>?</td>\n",
       "      <td>3</td>\n",
       "      <td>0</td>\n",
       "    </tr>\n",
       "  </tbody>\n",
       "</table>\n",
       "</div>"
      ],
      "text/plain": [
       "     age  sex  cp  treshtbps chol  fbs  restecg  thalach  exang  oldpeak  \\\n",
       "2     67    1   4        120    ?    0        2      129      1      2.6   \n",
       "87    53    0   3        128  216    0        2      115      0      0.0   \n",
       "166   52    1   3        138  223    0        0      169      0      0.0   \n",
       "192   43    1   4        132  247    1        2      143      1      0.1   \n",
       "266   52    1   4        128  204    1        0      156      1      1.0   \n",
       "287   58    1   2        125  220    0        0      144      0      0.4   \n",
       "302   38    1   3        138  175    0        0      173      0      0.0   \n",
       "\n",
       "     slope ca hsl  heartDisease  \n",
       "2        2  2   7             1  \n",
       "87       1  0   ?             0  \n",
       "166      1  ?   3             0  \n",
       "192      2  ?   7             1  \n",
       "266      2  0   ?             1  \n",
       "287      2  ?   7             0  \n",
       "302      1  ?   3             0  "
      ]
     },
     "execution_count": 8,
     "metadata": {},
     "output_type": "execute_result"
    }
   ],
   "source": [
    "# raw_data의 타입이 object인 열에 ?가 있는 데이터 추출\n",
    "raw_data[(raw_data['chol'] == '?') | (raw_data['ca'] == '?') | (raw_data['hsl'] == '?')]"
   ]
  },
  {
   "cell_type": "code",
   "execution_count": 10,
   "id": "b458955d",
   "metadata": {
    "ExecuteTime": {
     "end_time": "2024-12-18T02:16:42.877402Z",
     "start_time": "2024-12-18T02:16:42.871382Z"
    }
   },
   "outputs": [],
   "source": [
    "# '?'를 결측치(np.nan)로 대체\n",
    "clean_data = raw_data.replace('?', np.nan)"
   ]
  },
  {
   "cell_type": "code",
   "execution_count": 13,
   "id": "bbdd1c03",
   "metadata": {
    "ExecuteTime": {
     "end_time": "2024-12-18T02:16:57.939001Z",
     "start_time": "2024-12-18T02:16:57.927263Z"
    }
   },
   "outputs": [
    {
     "name": "stdout",
     "output_type": "stream",
     "text": [
      "<class 'pandas.core.frame.DataFrame'>\n",
      "RangeIndex: 303 entries, 0 to 302\n",
      "Data columns (total 14 columns):\n",
      " #   Column        Non-Null Count  Dtype  \n",
      "---  ------        --------------  -----  \n",
      " 0   age           303 non-null    int64  \n",
      " 1   sex           303 non-null    int64  \n",
      " 2   cp            303 non-null    int64  \n",
      " 3   treshtbps     303 non-null    int64  \n",
      " 4   chol          302 non-null    float64\n",
      " 5   fbs           303 non-null    int64  \n",
      " 6   restecg       303 non-null    int64  \n",
      " 7   thalach       303 non-null    int64  \n",
      " 8   exang         303 non-null    int64  \n",
      " 9   oldpeak       303 non-null    float64\n",
      " 10  slope         303 non-null    int64  \n",
      " 11  ca            299 non-null    float64\n",
      " 12  hsl           301 non-null    float64\n",
      " 13  heartDisease  303 non-null    int64  \n",
      "dtypes: float64(4), int64(10)\n",
      "memory usage: 33.3 KB\n"
     ]
    }
   ],
   "source": [
    "clean_data.info()"
   ]
  },
  {
   "cell_type": "code",
   "execution_count": 17,
   "id": "57556e5a",
   "metadata": {
    "ExecuteTime": {
     "end_time": "2024-12-18T02:40:39.144289Z",
     "start_time": "2024-12-18T02:40:39.127413Z"
    }
   },
   "outputs": [
    {
     "data": {
      "text/html": [
       "<div>\n",
       "<style scoped>\n",
       "    .dataframe tbody tr th:only-of-type {\n",
       "        vertical-align: middle;\n",
       "    }\n",
       "\n",
       "    .dataframe tbody tr th {\n",
       "        vertical-align: top;\n",
       "    }\n",
       "\n",
       "    .dataframe thead th {\n",
       "        text-align: right;\n",
       "    }\n",
       "</style>\n",
       "<table border=\"1\" class=\"dataframe\">\n",
       "  <thead>\n",
       "    <tr style=\"text-align: right;\">\n",
       "      <th></th>\n",
       "      <th>age</th>\n",
       "      <th>sex</th>\n",
       "      <th>cp</th>\n",
       "      <th>treshtbps</th>\n",
       "      <th>chol</th>\n",
       "      <th>fbs</th>\n",
       "      <th>restecg</th>\n",
       "      <th>thalach</th>\n",
       "      <th>exang</th>\n",
       "      <th>oldpeak</th>\n",
       "      <th>slope</th>\n",
       "      <th>ca</th>\n",
       "      <th>hsl</th>\n",
       "      <th>heartDisease</th>\n",
       "    </tr>\n",
       "  </thead>\n",
       "  <tbody>\n",
       "    <tr>\n",
       "      <th>2</th>\n",
       "      <td>67</td>\n",
       "      <td>1</td>\n",
       "      <td>4</td>\n",
       "      <td>120</td>\n",
       "      <td>NaN</td>\n",
       "      <td>0</td>\n",
       "      <td>2</td>\n",
       "      <td>129</td>\n",
       "      <td>1</td>\n",
       "      <td>2.6</td>\n",
       "      <td>2</td>\n",
       "      <td>2.0</td>\n",
       "      <td>7.0</td>\n",
       "      <td>1</td>\n",
       "    </tr>\n",
       "    <tr>\n",
       "      <th>87</th>\n",
       "      <td>53</td>\n",
       "      <td>0</td>\n",
       "      <td>3</td>\n",
       "      <td>128</td>\n",
       "      <td>216.0</td>\n",
       "      <td>0</td>\n",
       "      <td>2</td>\n",
       "      <td>115</td>\n",
       "      <td>0</td>\n",
       "      <td>0.0</td>\n",
       "      <td>1</td>\n",
       "      <td>0.0</td>\n",
       "      <td>NaN</td>\n",
       "      <td>0</td>\n",
       "    </tr>\n",
       "    <tr>\n",
       "      <th>166</th>\n",
       "      <td>52</td>\n",
       "      <td>1</td>\n",
       "      <td>3</td>\n",
       "      <td>138</td>\n",
       "      <td>223.0</td>\n",
       "      <td>0</td>\n",
       "      <td>0</td>\n",
       "      <td>169</td>\n",
       "      <td>0</td>\n",
       "      <td>0.0</td>\n",
       "      <td>1</td>\n",
       "      <td>NaN</td>\n",
       "      <td>3.0</td>\n",
       "      <td>0</td>\n",
       "    </tr>\n",
       "    <tr>\n",
       "      <th>192</th>\n",
       "      <td>43</td>\n",
       "      <td>1</td>\n",
       "      <td>4</td>\n",
       "      <td>132</td>\n",
       "      <td>247.0</td>\n",
       "      <td>1</td>\n",
       "      <td>2</td>\n",
       "      <td>143</td>\n",
       "      <td>1</td>\n",
       "      <td>0.1</td>\n",
       "      <td>2</td>\n",
       "      <td>NaN</td>\n",
       "      <td>7.0</td>\n",
       "      <td>1</td>\n",
       "    </tr>\n",
       "    <tr>\n",
       "      <th>266</th>\n",
       "      <td>52</td>\n",
       "      <td>1</td>\n",
       "      <td>4</td>\n",
       "      <td>128</td>\n",
       "      <td>204.0</td>\n",
       "      <td>1</td>\n",
       "      <td>0</td>\n",
       "      <td>156</td>\n",
       "      <td>1</td>\n",
       "      <td>1.0</td>\n",
       "      <td>2</td>\n",
       "      <td>0.0</td>\n",
       "      <td>NaN</td>\n",
       "      <td>1</td>\n",
       "    </tr>\n",
       "    <tr>\n",
       "      <th>287</th>\n",
       "      <td>58</td>\n",
       "      <td>1</td>\n",
       "      <td>2</td>\n",
       "      <td>125</td>\n",
       "      <td>220.0</td>\n",
       "      <td>0</td>\n",
       "      <td>0</td>\n",
       "      <td>144</td>\n",
       "      <td>0</td>\n",
       "      <td>0.4</td>\n",
       "      <td>2</td>\n",
       "      <td>NaN</td>\n",
       "      <td>7.0</td>\n",
       "      <td>0</td>\n",
       "    </tr>\n",
       "    <tr>\n",
       "      <th>302</th>\n",
       "      <td>38</td>\n",
       "      <td>1</td>\n",
       "      <td>3</td>\n",
       "      <td>138</td>\n",
       "      <td>175.0</td>\n",
       "      <td>0</td>\n",
       "      <td>0</td>\n",
       "      <td>173</td>\n",
       "      <td>0</td>\n",
       "      <td>0.0</td>\n",
       "      <td>1</td>\n",
       "      <td>NaN</td>\n",
       "      <td>3.0</td>\n",
       "      <td>0</td>\n",
       "    </tr>\n",
       "  </tbody>\n",
       "</table>\n",
       "</div>"
      ],
      "text/plain": [
       "     age  sex  cp  treshtbps   chol  fbs  restecg  thalach  exang  oldpeak  \\\n",
       "2     67    1   4        120    NaN    0        2      129      1      2.6   \n",
       "87    53    0   3        128  216.0    0        2      115      0      0.0   \n",
       "166   52    1   3        138  223.0    0        0      169      0      0.0   \n",
       "192   43    1   4        132  247.0    1        2      143      1      0.1   \n",
       "266   52    1   4        128  204.0    1        0      156      1      1.0   \n",
       "287   58    1   2        125  220.0    0        0      144      0      0.4   \n",
       "302   38    1   3        138  175.0    0        0      173      0      0.0   \n",
       "\n",
       "     slope   ca  hsl  heartDisease  \n",
       "2        2  2.0  7.0             1  \n",
       "87       1  0.0  NaN             0  \n",
       "166      1  NaN  3.0             0  \n",
       "192      2  NaN  7.0             1  \n",
       "266      2  0.0  NaN             1  \n",
       "287      2  NaN  7.0             0  \n",
       "302      1  NaN  3.0             0  "
      ]
     },
     "execution_count": 17,
     "metadata": {},
     "output_type": "execute_result"
    }
   ],
   "source": [
    "# clean_data 데이터 중 결측치가 포함된 데이터 추출\n",
    "clean_data[clean_data.isna().any(axis=1)]"
   ]
  },
  {
   "cell_type": "code",
   "execution_count": 18,
   "id": "c0ff46ae",
   "metadata": {
    "ExecuteTime": {
     "end_time": "2024-12-18T02:43:31.563677Z",
     "start_time": "2024-12-18T02:43:31.528499Z"
    }
   },
   "outputs": [
    {
     "data": {
      "text/html": [
       "<div>\n",
       "<style scoped>\n",
       "    .dataframe tbody tr th:only-of-type {\n",
       "        vertical-align: middle;\n",
       "    }\n",
       "\n",
       "    .dataframe tbody tr th {\n",
       "        vertical-align: top;\n",
       "    }\n",
       "\n",
       "    .dataframe thead th {\n",
       "        text-align: right;\n",
       "    }\n",
       "</style>\n",
       "<table border=\"1\" class=\"dataframe\">\n",
       "  <thead>\n",
       "    <tr style=\"text-align: right;\">\n",
       "      <th></th>\n",
       "      <th>age</th>\n",
       "      <th>sex</th>\n",
       "      <th>cp</th>\n",
       "      <th>treshtbps</th>\n",
       "      <th>chol</th>\n",
       "      <th>fbs</th>\n",
       "      <th>restecg</th>\n",
       "      <th>thalach</th>\n",
       "      <th>exang</th>\n",
       "      <th>oldpeak</th>\n",
       "      <th>slope</th>\n",
       "      <th>ca</th>\n",
       "      <th>hsl</th>\n",
       "      <th>heartDisease</th>\n",
       "    </tr>\n",
       "  </thead>\n",
       "  <tbody>\n",
       "    <tr>\n",
       "      <th>0</th>\n",
       "      <td>63</td>\n",
       "      <td>1</td>\n",
       "      <td>1</td>\n",
       "      <td>145</td>\n",
       "      <td>233.0</td>\n",
       "      <td>1</td>\n",
       "      <td>2</td>\n",
       "      <td>150</td>\n",
       "      <td>0</td>\n",
       "      <td>2.3</td>\n",
       "      <td>3</td>\n",
       "      <td>0.0</td>\n",
       "      <td>6.0</td>\n",
       "      <td>0</td>\n",
       "    </tr>\n",
       "    <tr>\n",
       "      <th>1</th>\n",
       "      <td>67</td>\n",
       "      <td>1</td>\n",
       "      <td>4</td>\n",
       "      <td>160</td>\n",
       "      <td>286.0</td>\n",
       "      <td>0</td>\n",
       "      <td>0</td>\n",
       "      <td>108</td>\n",
       "      <td>1</td>\n",
       "      <td>1.5</td>\n",
       "      <td>2</td>\n",
       "      <td>3.0</td>\n",
       "      <td>3.0</td>\n",
       "      <td>1</td>\n",
       "    </tr>\n",
       "    <tr>\n",
       "      <th>2</th>\n",
       "      <td>67</td>\n",
       "      <td>1</td>\n",
       "      <td>4</td>\n",
       "      <td>120</td>\n",
       "      <td>241.5</td>\n",
       "      <td>0</td>\n",
       "      <td>2</td>\n",
       "      <td>129</td>\n",
       "      <td>1</td>\n",
       "      <td>2.6</td>\n",
       "      <td>2</td>\n",
       "      <td>2.0</td>\n",
       "      <td>7.0</td>\n",
       "      <td>1</td>\n",
       "    </tr>\n",
       "    <tr>\n",
       "      <th>3</th>\n",
       "      <td>37</td>\n",
       "      <td>1</td>\n",
       "      <td>3</td>\n",
       "      <td>130</td>\n",
       "      <td>250.0</td>\n",
       "      <td>0</td>\n",
       "      <td>0</td>\n",
       "      <td>187</td>\n",
       "      <td>0</td>\n",
       "      <td>3.5</td>\n",
       "      <td>3</td>\n",
       "      <td>0.0</td>\n",
       "      <td>3.0</td>\n",
       "      <td>0</td>\n",
       "    </tr>\n",
       "    <tr>\n",
       "      <th>4</th>\n",
       "      <td>41</td>\n",
       "      <td>0</td>\n",
       "      <td>2</td>\n",
       "      <td>130</td>\n",
       "      <td>204.0</td>\n",
       "      <td>0</td>\n",
       "      <td>2</td>\n",
       "      <td>172</td>\n",
       "      <td>0</td>\n",
       "      <td>1.4</td>\n",
       "      <td>1</td>\n",
       "      <td>0.0</td>\n",
       "      <td>3.0</td>\n",
       "      <td>0</td>\n",
       "    </tr>\n",
       "    <tr>\n",
       "      <th>...</th>\n",
       "      <td>...</td>\n",
       "      <td>...</td>\n",
       "      <td>...</td>\n",
       "      <td>...</td>\n",
       "      <td>...</td>\n",
       "      <td>...</td>\n",
       "      <td>...</td>\n",
       "      <td>...</td>\n",
       "      <td>...</td>\n",
       "      <td>...</td>\n",
       "      <td>...</td>\n",
       "      <td>...</td>\n",
       "      <td>...</td>\n",
       "      <td>...</td>\n",
       "    </tr>\n",
       "    <tr>\n",
       "      <th>298</th>\n",
       "      <td>45</td>\n",
       "      <td>1</td>\n",
       "      <td>1</td>\n",
       "      <td>110</td>\n",
       "      <td>264.0</td>\n",
       "      <td>0</td>\n",
       "      <td>0</td>\n",
       "      <td>132</td>\n",
       "      <td>0</td>\n",
       "      <td>1.2</td>\n",
       "      <td>2</td>\n",
       "      <td>0.0</td>\n",
       "      <td>7.0</td>\n",
       "      <td>1</td>\n",
       "    </tr>\n",
       "    <tr>\n",
       "      <th>299</th>\n",
       "      <td>68</td>\n",
       "      <td>1</td>\n",
       "      <td>4</td>\n",
       "      <td>144</td>\n",
       "      <td>193.0</td>\n",
       "      <td>1</td>\n",
       "      <td>0</td>\n",
       "      <td>141</td>\n",
       "      <td>0</td>\n",
       "      <td>3.4</td>\n",
       "      <td>2</td>\n",
       "      <td>2.0</td>\n",
       "      <td>7.0</td>\n",
       "      <td>1</td>\n",
       "    </tr>\n",
       "    <tr>\n",
       "      <th>300</th>\n",
       "      <td>57</td>\n",
       "      <td>1</td>\n",
       "      <td>4</td>\n",
       "      <td>130</td>\n",
       "      <td>131.0</td>\n",
       "      <td>0</td>\n",
       "      <td>0</td>\n",
       "      <td>115</td>\n",
       "      <td>1</td>\n",
       "      <td>1.2</td>\n",
       "      <td>2</td>\n",
       "      <td>1.0</td>\n",
       "      <td>7.0</td>\n",
       "      <td>1</td>\n",
       "    </tr>\n",
       "    <tr>\n",
       "      <th>301</th>\n",
       "      <td>57</td>\n",
       "      <td>0</td>\n",
       "      <td>2</td>\n",
       "      <td>130</td>\n",
       "      <td>236.0</td>\n",
       "      <td>0</td>\n",
       "      <td>2</td>\n",
       "      <td>174</td>\n",
       "      <td>0</td>\n",
       "      <td>0.0</td>\n",
       "      <td>2</td>\n",
       "      <td>1.0</td>\n",
       "      <td>3.0</td>\n",
       "      <td>1</td>\n",
       "    </tr>\n",
       "    <tr>\n",
       "      <th>302</th>\n",
       "      <td>38</td>\n",
       "      <td>1</td>\n",
       "      <td>3</td>\n",
       "      <td>138</td>\n",
       "      <td>175.0</td>\n",
       "      <td>0</td>\n",
       "      <td>0</td>\n",
       "      <td>173</td>\n",
       "      <td>0</td>\n",
       "      <td>0.0</td>\n",
       "      <td>1</td>\n",
       "      <td>0.0</td>\n",
       "      <td>3.0</td>\n",
       "      <td>0</td>\n",
       "    </tr>\n",
       "  </tbody>\n",
       "</table>\n",
       "<p>303 rows × 14 columns</p>\n",
       "</div>"
      ],
      "text/plain": [
       "     age  sex  cp  treshtbps   chol  fbs  restecg  thalach  exang  oldpeak  \\\n",
       "0     63    1   1        145  233.0    1        2      150      0      2.3   \n",
       "1     67    1   4        160  286.0    0        0      108      1      1.5   \n",
       "2     67    1   4        120  241.5    0        2      129      1      2.6   \n",
       "3     37    1   3        130  250.0    0        0      187      0      3.5   \n",
       "4     41    0   2        130  204.0    0        2      172      0      1.4   \n",
       "..   ...  ...  ..        ...    ...  ...      ...      ...    ...      ...   \n",
       "298   45    1   1        110  264.0    0        0      132      0      1.2   \n",
       "299   68    1   4        144  193.0    1        0      141      0      3.4   \n",
       "300   57    1   4        130  131.0    0        0      115      1      1.2   \n",
       "301   57    0   2        130  236.0    0        2      174      0      0.0   \n",
       "302   38    1   3        138  175.0    0        0      173      0      0.0   \n",
       "\n",
       "     slope   ca  hsl  heartDisease  \n",
       "0        3  0.0  6.0             0  \n",
       "1        2  3.0  3.0             1  \n",
       "2        2  2.0  7.0             1  \n",
       "3        3  0.0  3.0             0  \n",
       "4        1  0.0  3.0             0  \n",
       "..     ...  ...  ...           ...  \n",
       "298      2  0.0  7.0             1  \n",
       "299      2  2.0  7.0             1  \n",
       "300      2  1.0  7.0             1  \n",
       "301      2  1.0  3.0             1  \n",
       "302      1  0.0  3.0             0  \n",
       "\n",
       "[303 rows x 14 columns]"
      ]
     },
     "execution_count": 18,
     "metadata": {},
     "output_type": "execute_result"
    }
   ],
   "source": [
    "# 결측치를 중앙값으로 대체\n",
    "# 열 별 중앙값 : clean_data.median(axis=0) - axis = 0은 기본값이므로 생략 가능\n",
    "clean_data.fillna(value=clean_data.median())"
   ]
  },
  {
   "cell_type": "code",
   "execution_count": 19,
   "id": "e11d2868",
   "metadata": {
    "ExecuteTime": {
     "end_time": "2024-12-18T02:47:23.969824Z",
     "start_time": "2024-12-18T02:47:23.960355Z"
    }
   },
   "outputs": [
    {
     "data": {
      "text/plain": [
       "age             0\n",
       "sex             0\n",
       "cp              0\n",
       "treshtbps       0\n",
       "chol            0\n",
       "fbs             0\n",
       "restecg         0\n",
       "thalach         0\n",
       "exang           0\n",
       "oldpeak         0\n",
       "slope           0\n",
       "ca              0\n",
       "hsl             0\n",
       "heartDisease    0\n",
       "dtype: int64"
      ]
     },
     "execution_count": 19,
     "metadata": {},
     "output_type": "execute_result"
    }
   ],
   "source": [
    "# 결측치가 하나라도 있는 행은 제거\n",
    "clean_data.dropna(how='any', inplace = True)\n",
    "clean_data.isnull().sum()"
   ]
  },
  {
   "cell_type": "code",
   "execution_count": 20,
   "id": "3f9c3ef0",
   "metadata": {
    "ExecuteTime": {
     "end_time": "2024-12-18T02:47:36.716047Z",
     "start_time": "2024-12-18T02:47:36.695317Z"
    }
   },
   "outputs": [
    {
     "data": {
      "text/html": [
       "<div>\n",
       "<style scoped>\n",
       "    .dataframe tbody tr th:only-of-type {\n",
       "        vertical-align: middle;\n",
       "    }\n",
       "\n",
       "    .dataframe tbody tr th {\n",
       "        vertical-align: top;\n",
       "    }\n",
       "\n",
       "    .dataframe thead th {\n",
       "        text-align: right;\n",
       "    }\n",
       "</style>\n",
       "<table border=\"1\" class=\"dataframe\">\n",
       "  <thead>\n",
       "    <tr style=\"text-align: right;\">\n",
       "      <th></th>\n",
       "      <th>age</th>\n",
       "      <th>sex</th>\n",
       "      <th>cp</th>\n",
       "      <th>treshtbps</th>\n",
       "      <th>chol</th>\n",
       "      <th>fbs</th>\n",
       "      <th>restecg</th>\n",
       "      <th>thalach</th>\n",
       "      <th>exang</th>\n",
       "      <th>oldpeak</th>\n",
       "      <th>slope</th>\n",
       "      <th>ca</th>\n",
       "      <th>hsl</th>\n",
       "      <th>heartDisease</th>\n",
       "    </tr>\n",
       "  </thead>\n",
       "  <tbody>\n",
       "    <tr>\n",
       "      <th>0</th>\n",
       "      <td>63</td>\n",
       "      <td>1</td>\n",
       "      <td>1</td>\n",
       "      <td>145</td>\n",
       "      <td>233.0</td>\n",
       "      <td>1</td>\n",
       "      <td>2</td>\n",
       "      <td>150</td>\n",
       "      <td>0</td>\n",
       "      <td>2.3</td>\n",
       "      <td>3</td>\n",
       "      <td>0.0</td>\n",
       "      <td>6.0</td>\n",
       "      <td>0</td>\n",
       "    </tr>\n",
       "    <tr>\n",
       "      <th>1</th>\n",
       "      <td>67</td>\n",
       "      <td>1</td>\n",
       "      <td>4</td>\n",
       "      <td>160</td>\n",
       "      <td>286.0</td>\n",
       "      <td>0</td>\n",
       "      <td>0</td>\n",
       "      <td>108</td>\n",
       "      <td>1</td>\n",
       "      <td>1.5</td>\n",
       "      <td>2</td>\n",
       "      <td>3.0</td>\n",
       "      <td>3.0</td>\n",
       "      <td>1</td>\n",
       "    </tr>\n",
       "    <tr>\n",
       "      <th>3</th>\n",
       "      <td>37</td>\n",
       "      <td>1</td>\n",
       "      <td>3</td>\n",
       "      <td>130</td>\n",
       "      <td>250.0</td>\n",
       "      <td>0</td>\n",
       "      <td>0</td>\n",
       "      <td>187</td>\n",
       "      <td>0</td>\n",
       "      <td>3.5</td>\n",
       "      <td>3</td>\n",
       "      <td>0.0</td>\n",
       "      <td>3.0</td>\n",
       "      <td>0</td>\n",
       "    </tr>\n",
       "    <tr>\n",
       "      <th>4</th>\n",
       "      <td>41</td>\n",
       "      <td>0</td>\n",
       "      <td>2</td>\n",
       "      <td>130</td>\n",
       "      <td>204.0</td>\n",
       "      <td>0</td>\n",
       "      <td>2</td>\n",
       "      <td>172</td>\n",
       "      <td>0</td>\n",
       "      <td>1.4</td>\n",
       "      <td>1</td>\n",
       "      <td>0.0</td>\n",
       "      <td>3.0</td>\n",
       "      <td>0</td>\n",
       "    </tr>\n",
       "    <tr>\n",
       "      <th>5</th>\n",
       "      <td>56</td>\n",
       "      <td>1</td>\n",
       "      <td>2</td>\n",
       "      <td>120</td>\n",
       "      <td>236.0</td>\n",
       "      <td>0</td>\n",
       "      <td>0</td>\n",
       "      <td>178</td>\n",
       "      <td>0</td>\n",
       "      <td>0.8</td>\n",
       "      <td>1</td>\n",
       "      <td>0.0</td>\n",
       "      <td>3.0</td>\n",
       "      <td>0</td>\n",
       "    </tr>\n",
       "    <tr>\n",
       "      <th>...</th>\n",
       "      <td>...</td>\n",
       "      <td>...</td>\n",
       "      <td>...</td>\n",
       "      <td>...</td>\n",
       "      <td>...</td>\n",
       "      <td>...</td>\n",
       "      <td>...</td>\n",
       "      <td>...</td>\n",
       "      <td>...</td>\n",
       "      <td>...</td>\n",
       "      <td>...</td>\n",
       "      <td>...</td>\n",
       "      <td>...</td>\n",
       "      <td>...</td>\n",
       "    </tr>\n",
       "    <tr>\n",
       "      <th>297</th>\n",
       "      <td>57</td>\n",
       "      <td>0</td>\n",
       "      <td>4</td>\n",
       "      <td>140</td>\n",
       "      <td>241.0</td>\n",
       "      <td>0</td>\n",
       "      <td>0</td>\n",
       "      <td>123</td>\n",
       "      <td>1</td>\n",
       "      <td>0.2</td>\n",
       "      <td>2</td>\n",
       "      <td>0.0</td>\n",
       "      <td>7.0</td>\n",
       "      <td>1</td>\n",
       "    </tr>\n",
       "    <tr>\n",
       "      <th>298</th>\n",
       "      <td>45</td>\n",
       "      <td>1</td>\n",
       "      <td>1</td>\n",
       "      <td>110</td>\n",
       "      <td>264.0</td>\n",
       "      <td>0</td>\n",
       "      <td>0</td>\n",
       "      <td>132</td>\n",
       "      <td>0</td>\n",
       "      <td>1.2</td>\n",
       "      <td>2</td>\n",
       "      <td>0.0</td>\n",
       "      <td>7.0</td>\n",
       "      <td>1</td>\n",
       "    </tr>\n",
       "    <tr>\n",
       "      <th>299</th>\n",
       "      <td>68</td>\n",
       "      <td>1</td>\n",
       "      <td>4</td>\n",
       "      <td>144</td>\n",
       "      <td>193.0</td>\n",
       "      <td>1</td>\n",
       "      <td>0</td>\n",
       "      <td>141</td>\n",
       "      <td>0</td>\n",
       "      <td>3.4</td>\n",
       "      <td>2</td>\n",
       "      <td>2.0</td>\n",
       "      <td>7.0</td>\n",
       "      <td>1</td>\n",
       "    </tr>\n",
       "    <tr>\n",
       "      <th>300</th>\n",
       "      <td>57</td>\n",
       "      <td>1</td>\n",
       "      <td>4</td>\n",
       "      <td>130</td>\n",
       "      <td>131.0</td>\n",
       "      <td>0</td>\n",
       "      <td>0</td>\n",
       "      <td>115</td>\n",
       "      <td>1</td>\n",
       "      <td>1.2</td>\n",
       "      <td>2</td>\n",
       "      <td>1.0</td>\n",
       "      <td>7.0</td>\n",
       "      <td>1</td>\n",
       "    </tr>\n",
       "    <tr>\n",
       "      <th>301</th>\n",
       "      <td>57</td>\n",
       "      <td>0</td>\n",
       "      <td>2</td>\n",
       "      <td>130</td>\n",
       "      <td>236.0</td>\n",
       "      <td>0</td>\n",
       "      <td>2</td>\n",
       "      <td>174</td>\n",
       "      <td>0</td>\n",
       "      <td>0.0</td>\n",
       "      <td>2</td>\n",
       "      <td>1.0</td>\n",
       "      <td>3.0</td>\n",
       "      <td>1</td>\n",
       "    </tr>\n",
       "  </tbody>\n",
       "</table>\n",
       "<p>296 rows × 14 columns</p>\n",
       "</div>"
      ],
      "text/plain": [
       "     age  sex  cp  treshtbps   chol  fbs  restecg  thalach  exang  oldpeak  \\\n",
       "0     63    1   1        145  233.0    1        2      150      0      2.3   \n",
       "1     67    1   4        160  286.0    0        0      108      1      1.5   \n",
       "3     37    1   3        130  250.0    0        0      187      0      3.5   \n",
       "4     41    0   2        130  204.0    0        2      172      0      1.4   \n",
       "5     56    1   2        120  236.0    0        0      178      0      0.8   \n",
       "..   ...  ...  ..        ...    ...  ...      ...      ...    ...      ...   \n",
       "297   57    0   4        140  241.0    0        0      123      1      0.2   \n",
       "298   45    1   1        110  264.0    0        0      132      0      1.2   \n",
       "299   68    1   4        144  193.0    1        0      141      0      3.4   \n",
       "300   57    1   4        130  131.0    0        0      115      1      1.2   \n",
       "301   57    0   2        130  236.0    0        2      174      0      0.0   \n",
       "\n",
       "     slope   ca  hsl  heartDisease  \n",
       "0        3  0.0  6.0             0  \n",
       "1        2  3.0  3.0             1  \n",
       "3        3  0.0  3.0             0  \n",
       "4        1  0.0  3.0             0  \n",
       "5        1  0.0  3.0             0  \n",
       "..     ...  ...  ...           ...  \n",
       "297      2  0.0  7.0             1  \n",
       "298      2  0.0  7.0             1  \n",
       "299      2  2.0  7.0             1  \n",
       "300      2  1.0  7.0             1  \n",
       "301      2  1.0  3.0             1  \n",
       "\n",
       "[296 rows x 14 columns]"
      ]
     },
     "execution_count": 20,
     "metadata": {},
     "output_type": "execute_result"
    }
   ],
   "source": [
    "clean_data"
   ]
  },
  {
   "cell_type": "code",
   "execution_count": 25,
   "id": "4b379ff8",
   "metadata": {
    "ExecuteTime": {
     "end_time": "2024-12-18T02:59:45.152058Z",
     "start_time": "2024-12-18T02:59:45.143501Z"
    }
   },
   "outputs": [
    {
     "data": {
      "text/plain": [
       "((296, 13), (296, 1))"
      ]
     },
     "execution_count": 25,
     "metadata": {},
     "output_type": "execute_result"
    }
   ],
   "source": [
    "# 독립변수(입력변수, X), 종속변수(타겟변수, y)\n",
    "Input = clean_data.iloc[:, :-1]\n",
    "Target = clean_data.iloc[:, -1:]\n",
    "Target = clean_data.iloc[:, [-1]]\n",
    "Input.shape, Target.shape"
   ]
  },
  {
   "cell_type": "code",
   "execution_count": 26,
   "id": "dfd9833e",
   "metadata": {
    "ExecuteTime": {
     "end_time": "2024-12-18T03:02:25.423016Z",
     "start_time": "2024-12-18T03:02:25.415696Z"
    }
   },
   "outputs": [
    {
     "data": {
      "text/plain": [
       "0.4594594594594595"
      ]
     },
     "execution_count": 26,
     "metadata": {},
     "output_type": "execute_result"
    }
   ],
   "source": [
    "# 전체 296개 데이터 중 심장병에 걸린 데이터 수(1)\n",
    "Target['heartDisease'].mean()"
   ]
  },
  {
   "cell_type": "code",
   "execution_count": 27,
   "id": "f86ed4c4",
   "metadata": {
    "ExecuteTime": {
     "end_time": "2024-12-18T03:02:42.855205Z",
     "start_time": "2024-12-18T03:02:42.847466Z"
    }
   },
   "outputs": [
    {
     "data": {
      "text/plain": [
       "0    160\n",
       "1    136\n",
       "Name: heartDisease, dtype: int64"
      ]
     },
     "execution_count": 27,
     "metadata": {},
     "output_type": "execute_result"
    }
   ],
   "source": [
    "Target['heartDisease'].value_counts()"
   ]
  },
  {
   "cell_type": "code",
   "execution_count": 31,
   "id": "f0d42a58",
   "metadata": {
    "ExecuteTime": {
     "end_time": "2024-12-18T03:07:07.555553Z",
     "start_time": "2024-12-18T03:07:07.535370Z"
    }
   },
   "outputs": [
    {
     "name": "stdout",
     "output_type": "stream",
     "text": [
      "(296, 13) (296, 13)\n"
     ]
    },
    {
     "data": {
      "text/html": [
       "<div>\n",
       "<style scoped>\n",
       "    .dataframe tbody tr th:only-of-type {\n",
       "        vertical-align: middle;\n",
       "    }\n",
       "\n",
       "    .dataframe tbody tr th {\n",
       "        vertical-align: top;\n",
       "    }\n",
       "\n",
       "    .dataframe thead th {\n",
       "        text-align: right;\n",
       "    }\n",
       "</style>\n",
       "<table border=\"1\" class=\"dataframe\">\n",
       "  <thead>\n",
       "    <tr style=\"text-align: right;\">\n",
       "      <th></th>\n",
       "      <th>0</th>\n",
       "      <th>1</th>\n",
       "      <th>2</th>\n",
       "      <th>3</th>\n",
       "      <th>4</th>\n",
       "      <th>5</th>\n",
       "      <th>6</th>\n",
       "      <th>7</th>\n",
       "      <th>8</th>\n",
       "      <th>9</th>\n",
       "      <th>10</th>\n",
       "      <th>11</th>\n",
       "      <th>12</th>\n",
       "    </tr>\n",
       "  </thead>\n",
       "  <tbody>\n",
       "    <tr>\n",
       "      <th>0</th>\n",
       "      <td>0.708333</td>\n",
       "      <td>1.0</td>\n",
       "      <td>0.0</td>\n",
       "      <td>0.481132</td>\n",
       "      <td>0.244292</td>\n",
       "      <td>1.0</td>\n",
       "      <td>1.0</td>\n",
       "      <td>0.603053</td>\n",
       "      <td>0.0</td>\n",
       "      <td>0.370968</td>\n",
       "      <td>1.0</td>\n",
       "      <td>0.0</td>\n",
       "      <td>0.75</td>\n",
       "    </tr>\n",
       "    <tr>\n",
       "      <th>1</th>\n",
       "      <td>0.791667</td>\n",
       "      <td>1.0</td>\n",
       "      <td>1.0</td>\n",
       "      <td>0.622642</td>\n",
       "      <td>0.365297</td>\n",
       "      <td>0.0</td>\n",
       "      <td>0.0</td>\n",
       "      <td>0.282443</td>\n",
       "      <td>1.0</td>\n",
       "      <td>0.241935</td>\n",
       "      <td>0.5</td>\n",
       "      <td>1.0</td>\n",
       "      <td>0.00</td>\n",
       "    </tr>\n",
       "  </tbody>\n",
       "</table>\n",
       "</div>"
      ],
      "text/plain": [
       "         0    1    2         3         4    5    6         7    8         9   \\\n",
       "0  0.708333  1.0  0.0  0.481132  0.244292  1.0  1.0  0.603053  0.0  0.370968   \n",
       "1  0.791667  1.0  1.0  0.622642  0.365297  0.0  0.0  0.282443  1.0  0.241935   \n",
       "\n",
       "    10   11    12  \n",
       "0  1.0  0.0  0.75  \n",
       "1  0.5  1.0  0.00  "
      ]
     },
     "execution_count": 31,
     "metadata": {},
     "output_type": "execute_result"
    }
   ],
   "source": [
    "# scale 조정(Input 데이터만)\n",
    "scaler = MinMaxScaler()\n",
    "scaled_input = pd.DataFrame(scaler.fit_transform(Input))\n",
    "print(Input.shape, scaled_input.shape)\n",
    "scaled_input.head(2)"
   ]
  },
  {
   "cell_type": "code",
   "execution_count": 36,
   "id": "eeec7dff",
   "metadata": {
    "ExecuteTime": {
     "end_time": "2024-12-18T03:20:09.097613Z",
     "start_time": "2024-12-18T03:20:09.087642Z"
    }
   },
   "outputs": [
    {
     "data": {
      "text/plain": [
       "((207, 13), (89, 13), (207, 1), (89, 1))"
      ]
     },
     "execution_count": 36,
     "metadata": {},
     "output_type": "execute_result"
    }
   ],
   "source": [
    "# scaled_input과 Target => 학습셋:시험셋 = 7:3\n",
    "X_train, X_test, y_train, y_test =  train_test_split(scaled_input,        # 입력변수(독립변수)\n",
    "                                                     Target,              # 타겟변수(종속변수)\n",
    "                                                     test_size = 0.3,     # 시험셋 사이즈가 지정되면 학습셋은 자동 지정\n",
    "                                                     random_state = 42    # random seed 값\n",
    "                                                     )\n",
    "X_train.shape, X_test.shape, y_train.shape, y_test.shape"
   ]
  },
  {
   "cell_type": "code",
   "execution_count": 35,
   "id": "0d34b4af",
   "metadata": {
    "ExecuteTime": {
     "end_time": "2024-12-18T03:18:02.253621Z",
     "start_time": "2024-12-18T03:18:02.247603Z"
    }
   },
   "outputs": [
    {
     "data": {
      "text/plain": [
       "list"
      ]
     },
     "execution_count": 35,
     "metadata": {},
     "output_type": "execute_result"
    }
   ],
   "source": [
    "type(X_train)"
   ]
  },
  {
   "cell_type": "code",
   "execution_count": null,
   "id": "32bc5485",
   "metadata": {},
   "outputs": [],
   "source": []
  },
  {
   "cell_type": "code",
   "execution_count": null,
   "id": "70a18da1",
   "metadata": {},
   "outputs": [],
   "source": []
  },
  {
   "cell_type": "code",
   "execution_count": null,
   "id": "488980bc",
   "metadata": {},
   "outputs": [],
   "source": []
  },
  {
   "cell_type": "code",
   "execution_count": null,
   "id": "746376dd",
   "metadata": {},
   "outputs": [],
   "source": []
  },
  {
   "cell_type": "code",
   "execution_count": null,
   "id": "91eb7967",
   "metadata": {},
   "outputs": [],
   "source": []
  },
  {
   "cell_type": "code",
   "execution_count": null,
   "id": "223f5b24",
   "metadata": {},
   "outputs": [],
   "source": []
  },
  {
   "cell_type": "markdown",
   "id": "e9c5db66",
   "metadata": {},
   "source": [
    "## 2. 모델 생성 & 구성(과적합 줄이기 단계 추가)"
   ]
  },
  {
   "cell_type": "code",
   "execution_count": 37,
   "id": "2086a879",
   "metadata": {
    "ExecuteTime": {
     "end_time": "2024-12-18T03:59:38.579205Z",
     "start_time": "2024-12-18T03:59:37.229798Z"
    }
   },
   "outputs": [
    {
     "name": "stdout",
     "output_type": "stream",
     "text": [
      "Model: \"sequential\"\n",
      "_________________________________________________________________\n",
      " Layer (type)                Output Shape              Param #   \n",
      "=================================================================\n",
      " dense (Dense)               (None, 500)               7000      \n",
      "                                                                 \n",
      " dropout (Dropout)           (None, 500)               0         \n",
      "                                                                 \n",
      " dense_1 (Dense)             (None, 200)               100200    \n",
      "                                                                 \n",
      " dropout_1 (Dropout)         (None, 200)               0         \n",
      "                                                                 \n",
      " dense_2 (Dense)             (None, 100)               20100     \n",
      "                                                                 \n",
      " dropout_2 (Dropout)         (None, 100)               0         \n",
      "                                                                 \n",
      " dense_3 (Dense)             (None, 1)                 101       \n",
      "                                                                 \n",
      "=================================================================\n",
      "Total params: 127,401\n",
      "Trainable params: 127,401\n",
      "Non-trainable params: 0\n",
      "_________________________________________________________________\n"
     ]
    }
   ],
   "source": [
    "model = Sequential()\n",
    "model.add(Dense(units=500, input_dim = 13, activation = 'tanh'))\n",
    "# 과적합을 해결하고자 dropout(두루뭉실하게 출력)\n",
    "model.add(Dropout(0.1))\n",
    "model.add(Dense(units=200, activation = 'tanh'))\n",
    "model.add(Dropout(0.1))\n",
    "model.add(Dense(units=100, activation = 'tanh'))\n",
    "model.add(Dropout(0.1))\n",
    "# 출력층에서의 활성화 함수 : 이진분류(로지스틱회귀) 에서는 sigmoid, 분류분석에서는 softmax\n",
    "model.add(Dense(units=1, activation = 'sigmoid'))\n",
    "model.summary()"
   ]
  },
  {
   "cell_type": "code",
   "execution_count": null,
   "id": "7bb6a3c4",
   "metadata": {},
   "outputs": [],
   "source": []
  },
  {
   "cell_type": "code",
   "execution_count": null,
   "id": "d4bba2d7",
   "metadata": {},
   "outputs": [],
   "source": []
  },
  {
   "cell_type": "code",
   "execution_count": null,
   "id": "0159b705",
   "metadata": {},
   "outputs": [],
   "source": []
  },
  {
   "cell_type": "code",
   "execution_count": null,
   "id": "ccee74e2",
   "metadata": {},
   "outputs": [],
   "source": []
  },
  {
   "cell_type": "code",
   "execution_count": null,
   "id": "940326d2",
   "metadata": {},
   "outputs": [],
   "source": []
  },
  {
   "cell_type": "code",
   "execution_count": null,
   "id": "8f24d414",
   "metadata": {},
   "outputs": [],
   "source": []
  },
  {
   "cell_type": "code",
   "execution_count": null,
   "id": "6f72885d",
   "metadata": {},
   "outputs": [],
   "source": []
  },
  {
   "cell_type": "markdown",
   "id": "afbd1b57",
   "metadata": {},
   "source": [
    "## 3. 학습과정설정 (accuracy, precision, recall)"
   ]
  },
  {
   "cell_type": "code",
   "execution_count": 42,
   "id": "00dce03b",
   "metadata": {
    "ExecuteTime": {
     "end_time": "2024-12-18T04:12:04.879837Z",
     "start_time": "2024-12-18T04:12:04.863231Z"
    }
   },
   "outputs": [],
   "source": [
    "# 분류분석일 때, 성능평가지표\n",
    "# 정확도(accuracy) : 예측결과와 실제값이 동일한 건수 / 전체건수\n",
    "# precision(정밀도, 민감도) : 실제값이 True일 때 True로 예측한 건수\n",
    "# recall(재현율) : 실제값이 True일 때 예측도 True로 맞춘 건수 / 실제가 True인 건 수\n",
    "model.compile(loss='binary_crossentropy', optimizer='adam', metrics=['accuracy', metrics.Recall(), metrics.Precision()])"
   ]
  },
  {
   "cell_type": "markdown",
   "id": "3eba8517",
   "metadata": {},
   "source": [
    "## 4. 모델 학습시키기 (훈련셋의 일부를 검증셋으로 학습)"
   ]
  },
  {
   "cell_type": "code",
   "execution_count": 43,
   "id": "45bb7596",
   "metadata": {
    "ExecuteTime": {
     "end_time": "2024-12-18T04:12:14.863189Z",
     "start_time": "2024-12-18T04:12:07.750664Z"
    }
   },
   "outputs": [
    {
     "name": "stdout",
     "output_type": "stream",
     "text": [
      "Epoch 1/100\n",
      "2/2 [==============================] - 1s 301ms/step - loss: 0.7048 - accuracy: 0.5152 - recall_2: 0.7922 - precision_1: 0.4880 - val_loss: 0.5664 - val_accuracy: 0.6905 - val_recall_2: 0.8947 - val_precision_1: 0.6071\n",
      "Epoch 2/100\n",
      "2/2 [==============================] - 0s 50ms/step - loss: 0.5567 - accuracy: 0.7879 - recall_2: 0.8961 - precision_1: 0.7188 - val_loss: 0.4747 - val_accuracy: 0.8333 - val_recall_2: 0.6842 - val_precision_1: 0.9286\n",
      "Epoch 3/100\n",
      "2/2 [==============================] - 0s 46ms/step - loss: 0.5213 - accuracy: 0.7636 - recall_2: 0.6234 - precision_1: 0.8276 - val_loss: 0.4155 - val_accuracy: 0.8333 - val_recall_2: 0.6842 - val_precision_1: 0.9286\n",
      "Epoch 4/100\n",
      "2/2 [==============================] - 0s 34ms/step - loss: 0.4625 - accuracy: 0.7939 - recall_2: 0.7273 - precision_1: 0.8116 - val_loss: 0.3888 - val_accuracy: 0.8095 - val_recall_2: 0.7368 - val_precision_1: 0.8235\n",
      "Epoch 5/100\n",
      "2/2 [==============================] - 0s 45ms/step - loss: 0.4513 - accuracy: 0.7879 - recall_2: 0.8312 - precision_1: 0.7442 - val_loss: 0.3820 - val_accuracy: 0.7857 - val_recall_2: 0.7368 - val_precision_1: 0.7778\n",
      "Epoch 6/100\n",
      "2/2 [==============================] - 0s 42ms/step - loss: 0.4373 - accuracy: 0.8121 - recall_2: 0.8182 - precision_1: 0.7875 - val_loss: 0.3612 - val_accuracy: 0.8333 - val_recall_2: 0.7368 - val_precision_1: 0.8750\n",
      "Epoch 7/100\n",
      "2/2 [==============================] - 0s 45ms/step - loss: 0.4154 - accuracy: 0.8182 - recall_2: 0.7662 - precision_1: 0.8310 - val_loss: 0.3619 - val_accuracy: 0.8571 - val_recall_2: 0.7368 - val_precision_1: 0.9333\n",
      "Epoch 8/100\n",
      "2/2 [==============================] - 0s 32ms/step - loss: 0.4182 - accuracy: 0.8121 - recall_2: 0.7273 - precision_1: 0.8485 - val_loss: 0.3570 - val_accuracy: 0.8333 - val_recall_2: 0.7368 - val_precision_1: 0.8750\n",
      "Epoch 9/100\n",
      "2/2 [==============================] - 0s 40ms/step - loss: 0.3988 - accuracy: 0.8364 - recall_2: 0.8052 - precision_1: 0.8378 - val_loss: 0.3645 - val_accuracy: 0.8333 - val_recall_2: 0.7895 - val_precision_1: 0.8333\n",
      "Epoch 10/100\n",
      "2/2 [==============================] - 0s 45ms/step - loss: 0.3993 - accuracy: 0.8424 - recall_2: 0.8312 - precision_1: 0.8312 - val_loss: 0.3722 - val_accuracy: 0.8095 - val_recall_2: 0.7895 - val_precision_1: 0.7895\n",
      "Epoch 11/100\n",
      "2/2 [==============================] - 0s 47ms/step - loss: 0.3848 - accuracy: 0.8485 - recall_2: 0.8571 - precision_1: 0.8250 - val_loss: 0.3659 - val_accuracy: 0.8333 - val_recall_2: 0.7895 - val_precision_1: 0.8333\n",
      "Epoch 12/100\n",
      "2/2 [==============================] - 0s 43ms/step - loss: 0.3881 - accuracy: 0.8303 - recall_2: 0.7922 - precision_1: 0.8356 - val_loss: 0.3672 - val_accuracy: 0.8333 - val_recall_2: 0.7895 - val_precision_1: 0.8333\n",
      "Epoch 13/100\n",
      "2/2 [==============================] - 0s 45ms/step - loss: 0.3824 - accuracy: 0.8485 - recall_2: 0.7922 - precision_1: 0.8714 - val_loss: 0.3704 - val_accuracy: 0.8333 - val_recall_2: 0.7895 - val_precision_1: 0.8333\n",
      "Epoch 14/100\n",
      "2/2 [==============================] - 0s 41ms/step - loss: 0.3832 - accuracy: 0.8545 - recall_2: 0.8312 - precision_1: 0.8533 - val_loss: 0.3801 - val_accuracy: 0.8333 - val_recall_2: 0.7895 - val_precision_1: 0.8333\n",
      "Epoch 15/100\n",
      "2/2 [==============================] - 0s 40ms/step - loss: 0.3839 - accuracy: 0.8545 - recall_2: 0.8312 - precision_1: 0.8533 - val_loss: 0.3845 - val_accuracy: 0.8095 - val_recall_2: 0.7895 - val_precision_1: 0.7895\n",
      "Epoch 16/100\n",
      "2/2 [==============================] - 0s 42ms/step - loss: 0.3740 - accuracy: 0.8424 - recall_2: 0.8442 - precision_1: 0.8228 - val_loss: 0.3807 - val_accuracy: 0.8333 - val_recall_2: 0.7895 - val_precision_1: 0.8333\n",
      "Epoch 17/100\n",
      "2/2 [==============================] - 0s 45ms/step - loss: 0.3820 - accuracy: 0.8485 - recall_2: 0.8052 - precision_1: 0.8611 - val_loss: 0.3799 - val_accuracy: 0.8571 - val_recall_2: 0.7895 - val_precision_1: 0.8824\n",
      "Epoch 18/100\n",
      "2/2 [==============================] - 0s 35ms/step - loss: 0.3950 - accuracy: 0.8485 - recall_2: 0.7792 - precision_1: 0.8824 - val_loss: 0.3783 - val_accuracy: 0.8333 - val_recall_2: 0.7895 - val_precision_1: 0.8333\n",
      "Epoch 19/100\n",
      "2/2 [==============================] - 0s 42ms/step - loss: 0.3866 - accuracy: 0.8364 - recall_2: 0.8182 - precision_1: 0.8289 - val_loss: 0.3822 - val_accuracy: 0.8095 - val_recall_2: 0.7895 - val_precision_1: 0.7895\n",
      "Epoch 20/100\n",
      "2/2 [==============================] - 0s 43ms/step - loss: 0.3761 - accuracy: 0.8606 - recall_2: 0.8701 - precision_1: 0.8375 - val_loss: 0.3725 - val_accuracy: 0.8333 - val_recall_2: 0.7895 - val_precision_1: 0.8333\n",
      "Epoch 21/100\n",
      "2/2 [==============================] - 0s 42ms/step - loss: 0.3842 - accuracy: 0.8545 - recall_2: 0.8312 - precision_1: 0.8533 - val_loss: 0.3627 - val_accuracy: 0.8571 - val_recall_2: 0.7895 - val_precision_1: 0.8824\n",
      "Epoch 22/100\n",
      "2/2 [==============================] - 0s 41ms/step - loss: 0.3680 - accuracy: 0.8545 - recall_2: 0.7792 - precision_1: 0.8955 - val_loss: 0.3597 - val_accuracy: 0.8571 - val_recall_2: 0.7895 - val_precision_1: 0.8824\n",
      "Epoch 23/100\n",
      "2/2 [==============================] - 0s 44ms/step - loss: 0.3738 - accuracy: 0.8545 - recall_2: 0.7922 - precision_1: 0.8841 - val_loss: 0.3628 - val_accuracy: 0.8571 - val_recall_2: 0.7895 - val_precision_1: 0.8824\n",
      "Epoch 24/100\n",
      "2/2 [==============================] - 0s 41ms/step - loss: 0.3818 - accuracy: 0.8545 - recall_2: 0.8442 - precision_1: 0.8442 - val_loss: 0.3706 - val_accuracy: 0.8333 - val_recall_2: 0.7895 - val_precision_1: 0.8333\n",
      "Epoch 25/100\n",
      "2/2 [==============================] - 0s 60ms/step - loss: 0.3738 - accuracy: 0.8606 - recall_2: 0.8442 - precision_1: 0.8553 - val_loss: 0.3604 - val_accuracy: 0.8571 - val_recall_2: 0.7895 - val_precision_1: 0.8824\n",
      "Epoch 26/100\n",
      "2/2 [==============================] - 0s 39ms/step - loss: 0.3677 - accuracy: 0.8727 - recall_2: 0.8442 - precision_1: 0.8784 - val_loss: 0.3610 - val_accuracy: 0.8571 - val_recall_2: 0.7895 - val_precision_1: 0.8824\n",
      "Epoch 27/100\n",
      "2/2 [==============================] - 0s 39ms/step - loss: 0.3840 - accuracy: 0.8545 - recall_2: 0.7662 - precision_1: 0.9077 - val_loss: 0.3611 - val_accuracy: 0.8571 - val_recall_2: 0.7895 - val_precision_1: 0.8824\n",
      "Epoch 28/100\n",
      "2/2 [==============================] - 0s 41ms/step - loss: 0.3752 - accuracy: 0.8424 - recall_2: 0.7792 - precision_1: 0.8696 - val_loss: 0.3695 - val_accuracy: 0.8571 - val_recall_2: 0.7895 - val_precision_1: 0.8824\n",
      "Epoch 29/100\n",
      "2/2 [==============================] - 0s 38ms/step - loss: 0.3815 - accuracy: 0.8364 - recall_2: 0.8312 - precision_1: 0.8205 - val_loss: 0.3843 - val_accuracy: 0.8095 - val_recall_2: 0.8421 - val_precision_1: 0.7619\n",
      "Epoch 30/100\n",
      "2/2 [==============================] - 0s 41ms/step - loss: 0.3704 - accuracy: 0.8667 - recall_2: 0.8831 - precision_1: 0.8395 - val_loss: 0.3703 - val_accuracy: 0.8571 - val_recall_2: 0.8421 - val_precision_1: 0.8421\n",
      "Epoch 31/100\n",
      "2/2 [==============================] - 0s 41ms/step - loss: 0.3874 - accuracy: 0.8303 - recall_2: 0.7792 - precision_1: 0.8451 - val_loss: 0.3689 - val_accuracy: 0.8571 - val_recall_2: 0.7895 - val_precision_1: 0.8824\n",
      "Epoch 32/100\n",
      "2/2 [==============================] - 0s 30ms/step - loss: 0.3716 - accuracy: 0.8364 - recall_2: 0.7403 - precision_1: 0.8906 - val_loss: 0.3699 - val_accuracy: 0.8571 - val_recall_2: 0.7895 - val_precision_1: 0.8824\n",
      "Epoch 33/100\n",
      "2/2 [==============================] - 0s 41ms/step - loss: 0.3791 - accuracy: 0.8606 - recall_2: 0.7922 - precision_1: 0.8971 - val_loss: 0.3787 - val_accuracy: 0.8571 - val_recall_2: 0.8421 - val_precision_1: 0.8421\n",
      "Epoch 34/100\n",
      "2/2 [==============================] - 0s 41ms/step - loss: 0.3689 - accuracy: 0.8545 - recall_2: 0.8442 - precision_1: 0.8442 - val_loss: 0.3835 - val_accuracy: 0.8333 - val_recall_2: 0.8421 - val_precision_1: 0.8000\n",
      "Epoch 35/100\n",
      "2/2 [==============================] - 0s 29ms/step - loss: 0.3742 - accuracy: 0.8485 - recall_2: 0.8571 - precision_1: 0.8250 - val_loss: 0.3730 - val_accuracy: 0.8571 - val_recall_2: 0.7895 - val_precision_1: 0.8824\n",
      "Epoch 36/100\n"
     ]
    },
    {
     "name": "stdout",
     "output_type": "stream",
     "text": [
      "2/2 [==============================] - 0s 44ms/step - loss: 0.3736 - accuracy: 0.8424 - recall_2: 0.7922 - precision_1: 0.8592 - val_loss: 0.3680 - val_accuracy: 0.8571 - val_recall_2: 0.7895 - val_precision_1: 0.8824\n",
      "Epoch 37/100\n",
      "2/2 [==============================] - 0s 41ms/step - loss: 0.3777 - accuracy: 0.8424 - recall_2: 0.7532 - precision_1: 0.8923 - val_loss: 0.3684 - val_accuracy: 0.8571 - val_recall_2: 0.7895 - val_precision_1: 0.8824\n",
      "Epoch 38/100\n",
      "2/2 [==============================] - 0s 41ms/step - loss: 0.3813 - accuracy: 0.8606 - recall_2: 0.7922 - precision_1: 0.8971 - val_loss: 0.3707 - val_accuracy: 0.8571 - val_recall_2: 0.7895 - val_precision_1: 0.8824\n",
      "Epoch 39/100\n",
      "2/2 [==============================] - 0s 38ms/step - loss: 0.3650 - accuracy: 0.8485 - recall_2: 0.8052 - precision_1: 0.8611 - val_loss: 0.3761 - val_accuracy: 0.8333 - val_recall_2: 0.7895 - val_precision_1: 0.8333\n",
      "Epoch 40/100\n",
      "2/2 [==============================] - 0s 41ms/step - loss: 0.3823 - accuracy: 0.8606 - recall_2: 0.8442 - precision_1: 0.8553 - val_loss: 0.3724 - val_accuracy: 0.8333 - val_recall_2: 0.7895 - val_precision_1: 0.8333\n",
      "Epoch 41/100\n",
      "2/2 [==============================] - 0s 42ms/step - loss: 0.3567 - accuracy: 0.8667 - recall_2: 0.8442 - precision_1: 0.8667 - val_loss: 0.3673 - val_accuracy: 0.8571 - val_recall_2: 0.7895 - val_precision_1: 0.8824\n",
      "Epoch 42/100\n",
      "2/2 [==============================] - 0s 40ms/step - loss: 0.3654 - accuracy: 0.8545 - recall_2: 0.7792 - precision_1: 0.8955 - val_loss: 0.3660 - val_accuracy: 0.8571 - val_recall_2: 0.7895 - val_precision_1: 0.8824\n",
      "Epoch 43/100\n",
      "2/2 [==============================] - 0s 38ms/step - loss: 0.3630 - accuracy: 0.8545 - recall_2: 0.7922 - precision_1: 0.8841 - val_loss: 0.3662 - val_accuracy: 0.8571 - val_recall_2: 0.7895 - val_precision_1: 0.8824\n",
      "Epoch 44/100\n",
      "2/2 [==============================] - 0s 39ms/step - loss: 0.3478 - accuracy: 0.8606 - recall_2: 0.8052 - precision_1: 0.8857 - val_loss: 0.3711 - val_accuracy: 0.8810 - val_recall_2: 0.8421 - val_precision_1: 0.8889\n",
      "Epoch 45/100\n",
      "2/2 [==============================] - 0s 42ms/step - loss: 0.3518 - accuracy: 0.8485 - recall_2: 0.8052 - precision_1: 0.8611 - val_loss: 0.3735 - val_accuracy: 0.8810 - val_recall_2: 0.8421 - val_precision_1: 0.8889\n",
      "Epoch 46/100\n",
      "2/2 [==============================] - 0s 32ms/step - loss: 0.3530 - accuracy: 0.8606 - recall_2: 0.8442 - precision_1: 0.8553 - val_loss: 0.3726 - val_accuracy: 0.8810 - val_recall_2: 0.8421 - val_precision_1: 0.8889\n",
      "Epoch 47/100\n",
      "2/2 [==============================] - 0s 40ms/step - loss: 0.3771 - accuracy: 0.8485 - recall_2: 0.8312 - precision_1: 0.8421 - val_loss: 0.3728 - val_accuracy: 0.8810 - val_recall_2: 0.8421 - val_precision_1: 0.8889\n",
      "Epoch 48/100\n",
      "2/2 [==============================] - 0s 38ms/step - loss: 0.3604 - accuracy: 0.8545 - recall_2: 0.8052 - precision_1: 0.8732 - val_loss: 0.3745 - val_accuracy: 0.8810 - val_recall_2: 0.8421 - val_precision_1: 0.8889\n",
      "Epoch 49/100\n",
      "2/2 [==============================] - 0s 39ms/step - loss: 0.3589 - accuracy: 0.8667 - recall_2: 0.8182 - precision_1: 0.8873 - val_loss: 0.3756 - val_accuracy: 0.8810 - val_recall_2: 0.8421 - val_precision_1: 0.8889\n",
      "Epoch 50/100\n",
      "2/2 [==============================] - 0s 43ms/step - loss: 0.3491 - accuracy: 0.8667 - recall_2: 0.8442 - precision_1: 0.8667 - val_loss: 0.3795 - val_accuracy: 0.8810 - val_recall_2: 0.8421 - val_precision_1: 0.8889\n",
      "Epoch 51/100\n",
      "2/2 [==============================] - 0s 40ms/step - loss: 0.3536 - accuracy: 0.8606 - recall_2: 0.8182 - precision_1: 0.8750 - val_loss: 0.3824 - val_accuracy: 0.8810 - val_recall_2: 0.8421 - val_precision_1: 0.8889\n",
      "Epoch 52/100\n",
      "2/2 [==============================] - 0s 39ms/step - loss: 0.3601 - accuracy: 0.8606 - recall_2: 0.8571 - precision_1: 0.8462 - val_loss: 0.3830 - val_accuracy: 0.8810 - val_recall_2: 0.8421 - val_precision_1: 0.8889\n",
      "Epoch 53/100\n",
      "2/2 [==============================] - 0s 42ms/step - loss: 0.3534 - accuracy: 0.8667 - recall_2: 0.8312 - precision_1: 0.8767 - val_loss: 0.3866 - val_accuracy: 0.8571 - val_recall_2: 0.8421 - val_precision_1: 0.8421\n",
      "Epoch 54/100\n",
      "2/2 [==============================] - 0s 41ms/step - loss: 0.3513 - accuracy: 0.8788 - recall_2: 0.8571 - precision_1: 0.8800 - val_loss: 0.3862 - val_accuracy: 0.8571 - val_recall_2: 0.8421 - val_precision_1: 0.8421\n",
      "Epoch 55/100\n",
      "2/2 [==============================] - 0s 42ms/step - loss: 0.3560 - accuracy: 0.8545 - recall_2: 0.8182 - precision_1: 0.8630 - val_loss: 0.3830 - val_accuracy: 0.8810 - val_recall_2: 0.8421 - val_precision_1: 0.8889\n",
      "Epoch 56/100\n",
      "2/2 [==============================] - 0s 40ms/step - loss: 0.3539 - accuracy: 0.8485 - recall_2: 0.8052 - precision_1: 0.8611 - val_loss: 0.3776 - val_accuracy: 0.8810 - val_recall_2: 0.8421 - val_precision_1: 0.8889\n",
      "Epoch 57/100\n",
      "2/2 [==============================] - 0s 29ms/step - loss: 0.3424 - accuracy: 0.8606 - recall_2: 0.8182 - precision_1: 0.8750 - val_loss: 0.3757 - val_accuracy: 0.8810 - val_recall_2: 0.8421 - val_precision_1: 0.8889\n",
      "Epoch 58/100\n",
      "2/2 [==============================] - 0s 40ms/step - loss: 0.3377 - accuracy: 0.8727 - recall_2: 0.8312 - precision_1: 0.8889 - val_loss: 0.3702 - val_accuracy: 0.8810 - val_recall_2: 0.8421 - val_precision_1: 0.8889\n",
      "Epoch 59/100\n",
      "2/2 [==============================] - 0s 35ms/step - loss: 0.3492 - accuracy: 0.8545 - recall_2: 0.7922 - precision_1: 0.8841 - val_loss: 0.3700 - val_accuracy: 0.8810 - val_recall_2: 0.8421 - val_precision_1: 0.8889\n",
      "Epoch 60/100\n",
      "2/2 [==============================] - 0s 48ms/step - loss: 0.3347 - accuracy: 0.8606 - recall_2: 0.8182 - precision_1: 0.8750 - val_loss: 0.3692 - val_accuracy: 0.8810 - val_recall_2: 0.8421 - val_precision_1: 0.8889\n",
      "Epoch 61/100\n",
      "2/2 [==============================] - 0s 31ms/step - loss: 0.3319 - accuracy: 0.8667 - recall_2: 0.8182 - precision_1: 0.8873 - val_loss: 0.3721 - val_accuracy: 0.8810 - val_recall_2: 0.8421 - val_precision_1: 0.8889\n",
      "Epoch 62/100\n",
      "2/2 [==============================] - 0s 73ms/step - loss: 0.3553 - accuracy: 0.8424 - recall_2: 0.7922 - precision_1: 0.8592 - val_loss: 0.3773 - val_accuracy: 0.8810 - val_recall_2: 0.8421 - val_precision_1: 0.8889\n",
      "Epoch 63/100\n",
      "2/2 [==============================] - 0s 45ms/step - loss: 0.3332 - accuracy: 0.8545 - recall_2: 0.8312 - precision_1: 0.8533 - val_loss: 0.3820 - val_accuracy: 0.8571 - val_recall_2: 0.8421 - val_precision_1: 0.8421\n",
      "Epoch 64/100\n",
      "2/2 [==============================] - 0s 41ms/step - loss: 0.3251 - accuracy: 0.8545 - recall_2: 0.8442 - precision_1: 0.8442 - val_loss: 0.3817 - val_accuracy: 0.8810 - val_recall_2: 0.8421 - val_precision_1: 0.8889\n",
      "Epoch 65/100\n",
      "2/2 [==============================] - 0s 33ms/step - loss: 0.3362 - accuracy: 0.8667 - recall_2: 0.8312 - precision_1: 0.8767 - val_loss: 0.3811 - val_accuracy: 0.8810 - val_recall_2: 0.8421 - val_precision_1: 0.8889\n",
      "Epoch 66/100\n",
      "2/2 [==============================] - 0s 38ms/step - loss: 0.3310 - accuracy: 0.8667 - recall_2: 0.7922 - precision_1: 0.9104 - val_loss: 0.3877 - val_accuracy: 0.8571 - val_recall_2: 0.8421 - val_precision_1: 0.8421\n",
      "Epoch 67/100\n",
      "2/2 [==============================] - 0s 33ms/step - loss: 0.3346 - accuracy: 0.8606 - recall_2: 0.8312 - precision_1: 0.8649 - val_loss: 0.3983 - val_accuracy: 0.8333 - val_recall_2: 0.8421 - val_precision_1: 0.8000\n",
      "Epoch 68/100\n",
      "2/2 [==============================] - 0s 49ms/step - loss: 0.3282 - accuracy: 0.8848 - recall_2: 0.8961 - precision_1: 0.8625 - val_loss: 0.3902 - val_accuracy: 0.8571 - val_recall_2: 0.8421 - val_precision_1: 0.8421\n",
      "Epoch 69/100\n",
      "2/2 [==============================] - 0s 36ms/step - loss: 0.3222 - accuracy: 0.8606 - recall_2: 0.8312 - precision_1: 0.8649 - val_loss: 0.3820 - val_accuracy: 0.8810 - val_recall_2: 0.8421 - val_precision_1: 0.8889\n",
      "Epoch 70/100\n",
      "2/2 [==============================] - 0s 38ms/step - loss: 0.3140 - accuracy: 0.8848 - recall_2: 0.8182 - precision_1: 0.9265 - val_loss: 0.3844 - val_accuracy: 0.8810 - val_recall_2: 0.8421 - val_precision_1: 0.8889\n",
      "Epoch 71/100\n"
     ]
    },
    {
     "name": "stdout",
     "output_type": "stream",
     "text": [
      "2/2 [==============================] - 0s 39ms/step - loss: 0.3251 - accuracy: 0.8667 - recall_2: 0.8312 - precision_1: 0.8767 - val_loss: 0.3964 - val_accuracy: 0.8333 - val_recall_2: 0.8421 - val_precision_1: 0.8000\n",
      "Epoch 72/100\n",
      "2/2 [==============================] - 0s 37ms/step - loss: 0.3244 - accuracy: 0.8545 - recall_2: 0.8312 - precision_1: 0.8533 - val_loss: 0.4062 - val_accuracy: 0.8571 - val_recall_2: 0.8421 - val_precision_1: 0.8421\n",
      "Epoch 73/100\n",
      "2/2 [==============================] - 0s 34ms/step - loss: 0.3314 - accuracy: 0.8667 - recall_2: 0.8701 - precision_1: 0.8481 - val_loss: 0.4036 - val_accuracy: 0.8571 - val_recall_2: 0.8421 - val_precision_1: 0.8421\n",
      "Epoch 74/100\n",
      "2/2 [==============================] - 0s 48ms/step - loss: 0.3018 - accuracy: 0.8788 - recall_2: 0.8701 - precision_1: 0.8701 - val_loss: 0.3915 - val_accuracy: 0.8571 - val_recall_2: 0.8421 - val_precision_1: 0.8421\n",
      "Epoch 75/100\n",
      "2/2 [==============================] - 0s 36ms/step - loss: 0.3165 - accuracy: 0.8788 - recall_2: 0.8182 - precision_1: 0.9130 - val_loss: 0.3891 - val_accuracy: 0.8571 - val_recall_2: 0.8421 - val_precision_1: 0.8421\n",
      "Epoch 76/100\n",
      "2/2 [==============================] - 0s 38ms/step - loss: 0.3055 - accuracy: 0.8667 - recall_2: 0.7792 - precision_1: 0.9231 - val_loss: 0.3924 - val_accuracy: 0.8571 - val_recall_2: 0.8421 - val_precision_1: 0.8421\n",
      "Epoch 77/100\n",
      "2/2 [==============================] - 0s 41ms/step - loss: 0.3092 - accuracy: 0.8606 - recall_2: 0.8182 - precision_1: 0.8750 - val_loss: 0.3993 - val_accuracy: 0.8571 - val_recall_2: 0.8421 - val_precision_1: 0.8421\n",
      "Epoch 78/100\n",
      "2/2 [==============================] - 0s 41ms/step - loss: 0.2926 - accuracy: 0.8848 - recall_2: 0.8701 - precision_1: 0.8816 - val_loss: 0.4066 - val_accuracy: 0.8571 - val_recall_2: 0.8421 - val_precision_1: 0.8421\n",
      "Epoch 79/100\n",
      "2/2 [==============================] - 0s 49ms/step - loss: 0.3185 - accuracy: 0.8667 - recall_2: 0.8571 - precision_1: 0.8571 - val_loss: 0.4019 - val_accuracy: 0.8571 - val_recall_2: 0.8421 - val_precision_1: 0.8421\n",
      "Epoch 80/100\n",
      "2/2 [==============================] - 0s 43ms/step - loss: 0.2891 - accuracy: 0.8727 - recall_2: 0.8312 - precision_1: 0.8889 - val_loss: 0.3961 - val_accuracy: 0.8571 - val_recall_2: 0.8421 - val_precision_1: 0.8421\n",
      "Epoch 81/100\n",
      "2/2 [==============================] - 0s 38ms/step - loss: 0.2883 - accuracy: 0.8788 - recall_2: 0.8182 - precision_1: 0.9130 - val_loss: 0.3976 - val_accuracy: 0.8571 - val_recall_2: 0.8421 - val_precision_1: 0.8421\n",
      "Epoch 82/100\n",
      "2/2 [==============================] - 0s 45ms/step - loss: 0.2932 - accuracy: 0.8606 - recall_2: 0.8312 - precision_1: 0.8649 - val_loss: 0.4050 - val_accuracy: 0.8571 - val_recall_2: 0.8421 - val_precision_1: 0.8421\n",
      "Epoch 83/100\n",
      "2/2 [==============================] - 0s 32ms/step - loss: 0.2926 - accuracy: 0.8970 - recall_2: 0.8961 - precision_1: 0.8846 - val_loss: 0.4133 - val_accuracy: 0.8333 - val_recall_2: 0.8421 - val_precision_1: 0.8000\n",
      "Epoch 84/100\n",
      "2/2 [==============================] - 0s 45ms/step - loss: 0.2928 - accuracy: 0.8788 - recall_2: 0.8961 - precision_1: 0.8519 - val_loss: 0.4079 - val_accuracy: 0.8571 - val_recall_2: 0.8421 - val_precision_1: 0.8421\n",
      "Epoch 85/100\n",
      "2/2 [==============================] - 0s 40ms/step - loss: 0.2886 - accuracy: 0.8788 - recall_2: 0.8571 - precision_1: 0.8800 - val_loss: 0.4028 - val_accuracy: 0.8571 - val_recall_2: 0.8421 - val_precision_1: 0.8421\n",
      "Epoch 86/100\n",
      "2/2 [==============================] - 0s 33ms/step - loss: 0.2873 - accuracy: 0.8848 - recall_2: 0.8571 - precision_1: 0.8919 - val_loss: 0.3982 - val_accuracy: 0.8571 - val_recall_2: 0.8421 - val_precision_1: 0.8421\n",
      "Epoch 87/100\n",
      "2/2 [==============================] - 0s 44ms/step - loss: 0.2944 - accuracy: 0.8727 - recall_2: 0.8182 - precision_1: 0.9000 - val_loss: 0.3948 - val_accuracy: 0.8571 - val_recall_2: 0.8421 - val_precision_1: 0.8421\n",
      "Epoch 88/100\n",
      "2/2 [==============================] - 0s 40ms/step - loss: 0.2827 - accuracy: 0.8667 - recall_2: 0.8052 - precision_1: 0.8986 - val_loss: 0.4031 - val_accuracy: 0.8571 - val_recall_2: 0.8421 - val_precision_1: 0.8421\n",
      "Epoch 89/100\n",
      "2/2 [==============================] - 0s 31ms/step - loss: 0.2703 - accuracy: 0.8909 - recall_2: 0.8442 - precision_1: 0.9155 - val_loss: 0.4124 - val_accuracy: 0.8571 - val_recall_2: 0.8421 - val_precision_1: 0.8421\n",
      "Epoch 90/100\n",
      "2/2 [==============================] - 0s 43ms/step - loss: 0.2698 - accuracy: 0.8970 - recall_2: 0.9091 - precision_1: 0.8750 - val_loss: 0.4135 - val_accuracy: 0.8571 - val_recall_2: 0.8421 - val_precision_1: 0.8421\n",
      "Epoch 91/100\n",
      "2/2 [==============================] - 0s 37ms/step - loss: 0.2975 - accuracy: 0.8848 - recall_2: 0.8571 - precision_1: 0.8919 - val_loss: 0.4025 - val_accuracy: 0.8571 - val_recall_2: 0.8421 - val_precision_1: 0.8421\n",
      "Epoch 92/100\n",
      "2/2 [==============================] - 0s 40ms/step - loss: 0.2692 - accuracy: 0.8909 - recall_2: 0.8442 - precision_1: 0.9155 - val_loss: 0.4062 - val_accuracy: 0.8571 - val_recall_2: 0.8421 - val_precision_1: 0.8421\n",
      "Epoch 93/100\n",
      "2/2 [==============================] - 0s 41ms/step - loss: 0.2599 - accuracy: 0.9030 - recall_2: 0.8571 - precision_1: 0.9296 - val_loss: 0.4121 - val_accuracy: 0.8571 - val_recall_2: 0.8421 - val_precision_1: 0.8421\n",
      "Epoch 94/100\n",
      "2/2 [==============================] - 0s 28ms/step - loss: 0.2460 - accuracy: 0.9030 - recall_2: 0.8961 - precision_1: 0.8961 - val_loss: 0.4200 - val_accuracy: 0.8571 - val_recall_2: 0.8421 - val_precision_1: 0.8421\n",
      "Epoch 95/100\n",
      "2/2 [==============================] - 0s 42ms/step - loss: 0.2813 - accuracy: 0.8788 - recall_2: 0.8701 - precision_1: 0.8701 - val_loss: 0.4258 - val_accuracy: 0.8571 - val_recall_2: 0.8421 - val_precision_1: 0.8421\n",
      "Epoch 96/100\n",
      "2/2 [==============================] - 0s 41ms/step - loss: 0.2570 - accuracy: 0.8848 - recall_2: 0.8701 - precision_1: 0.8816 - val_loss: 0.4188 - val_accuracy: 0.8571 - val_recall_2: 0.8421 - val_precision_1: 0.8421\n",
      "Epoch 97/100\n",
      "2/2 [==============================] - 0s 46ms/step - loss: 0.2579 - accuracy: 0.8909 - recall_2: 0.8571 - precision_1: 0.9041 - val_loss: 0.4169 - val_accuracy: 0.8571 - val_recall_2: 0.8421 - val_precision_1: 0.8421\n",
      "Epoch 98/100\n",
      "2/2 [==============================] - 0s 42ms/step - loss: 0.2457 - accuracy: 0.9030 - recall_2: 0.8701 - precision_1: 0.9178 - val_loss: 0.4240 - val_accuracy: 0.8571 - val_recall_2: 0.8421 - val_precision_1: 0.8421\n",
      "Epoch 99/100\n",
      "2/2 [==============================] - 0s 45ms/step - loss: 0.2598 - accuracy: 0.9091 - recall_2: 0.8831 - precision_1: 0.9189 - val_loss: 0.4286 - val_accuracy: 0.8571 - val_recall_2: 0.8421 - val_precision_1: 0.8421\n",
      "Epoch 100/100\n",
      "2/2 [==============================] - 0s 37ms/step - loss: 0.2632 - accuracy: 0.8970 - recall_2: 0.8831 - precision_1: 0.8947 - val_loss: 0.4311 - val_accuracy: 0.8571 - val_recall_2: 0.8421 - val_precision_1: 0.8421\n"
     ]
    }
   ],
   "source": [
    "hist = model.fit(X_train, y_train, epochs=100, batch_size=100, verbose=1, validation_split=0.2 # 훈련 데이터셋의 20%를 검증데이터셋으로\n",
    "                 )"
   ]
  },
  {
   "cell_type": "markdown",
   "id": "ef45a320",
   "metadata": {},
   "source": [
    "## 5. 모델 평가 \n",
    "- 과정살펴보기(그래프), evaluate, pd.crosstab/confusion_matrix(혼돈행렬)"
   ]
  },
  {
   "cell_type": "code",
   "execution_count": 44,
   "id": "7af9c4f2",
   "metadata": {
    "ExecuteTime": {
     "end_time": "2024-12-18T05:39:47.655884Z",
     "start_time": "2024-12-18T05:39:47.649001Z"
    }
   },
   "outputs": [
    {
     "data": {
      "text/plain": [
       "dict_keys(['loss', 'accuracy', 'recall_2', 'precision_1', 'val_loss', 'val_accuracy', 'val_recall_2', 'val_precision_1'])"
      ]
     },
     "execution_count": 44,
     "metadata": {},
     "output_type": "execute_result"
    }
   ],
   "source": [
    "hist.history.keys()"
   ]
  },
  {
   "cell_type": "code",
   "execution_count": 45,
   "id": "affe654f",
   "metadata": {
    "ExecuteTime": {
     "end_time": "2024-12-18T05:40:53.643533Z",
     "start_time": "2024-12-18T05:40:53.343149Z"
    }
   },
   "outputs": [
    {
     "data": {
      "image/png": "[encoded data removed]",
      "text/plain": [
       "<Figure size 1000x500 with 2 Axes>"
      ]
     },
     "metadata": {},
     "output_type": "display_data"
    }
   ],
   "source": [
    "fig, loss_ax = plt.subplots(figsize=(10,5))\n",
    "loss_ax.plot(hist.history['loss'], 'r', label='train loss')\n",
    "loss_ax.plot(hist.history['val_loss'], 'g', label='train loss')\n",
    "loss_ax.set_xlabel('epoch')\n",
    "loss_ax.set_ylabel('loss')\n",
    "acc_ax = loss_ax.twinx()\n",
    "acc_ax.plot(hist.history['accuracy'], 'b', label='train accuracy')\n",
    "acc_ax.set_ylabel('accuracy')\n",
    "loss_ax.legend(loc='center right')\n",
    "acc_ax.legend(loc='lower right')\n",
    "acc_ax.legend(bbox_to_anchor=(0.999, 0.65))\n",
    "plt.show()"
   ]
  },
  {
   "cell_type": "code",
   "execution_count": 47,
   "id": "808e5a70",
   "metadata": {
    "ExecuteTime": {
     "end_time": "2024-12-18T05:45:51.292680Z",
     "start_time": "2024-12-18T05:45:51.190792Z"
    }
   },
   "outputs": [
    {
     "name": "stdout",
     "output_type": "stream",
     "text": [
      "3/3 [==============================] - 0s 6ms/step - loss: 0.4696 - accuracy: 0.7978 - recall_2: 0.8500 - precision_1: 0.7391\n"
     ]
    },
    {
     "data": {
      "text/plain": [
       "[0.4696143567562103, 0.7977527976036072, 0.8500000238418579, 0.739130437374115]"
      ]
     },
     "execution_count": 47,
     "metadata": {},
     "output_type": "execute_result"
    }
   ],
   "source": [
    "# 모델 평가\n",
    "score = model.evaluate(X_test, y_test)\n",
    "score"
   ]
  },
  {
   "cell_type": "code",
   "execution_count": 53,
   "id": "799442c9",
   "metadata": {
    "ExecuteTime": {
     "end_time": "2024-12-18T05:57:01.767268Z",
     "start_time": "2024-12-18T05:57:01.670708Z"
    }
   },
   "outputs": [
    {
     "name": "stdout",
     "output_type": "stream",
     "text": [
      "3/3 [==============================] - 0s 2ms/step\n",
      "(89, 1)\n",
      "[[37 12]\n",
      " [ 6 34]]\n",
      "f1 score : 0.7906976744186046\n"
     ]
    }
   ],
   "source": [
    "# confusion matrix (매개변수에 2차원 데이터)\n",
    "y_hat = (model.predict(X_test) > 0.5).astype(int)\n",
    "print(y_hat.shape)\n",
    "from sklearn.metrics import confusion_matrix\n",
    "from sklearn.metrics import f1_score\n",
    "print(confusion_matrix(y_test, y_hat))\n",
    "print('f1 score :', f1_score(y_test, y_hat))"
   ]
  },
  {
   "cell_type": "code",
   "execution_count": 55,
   "id": "478c19af",
   "metadata": {
    "ExecuteTime": {
     "end_time": "2024-12-18T05:57:48.837431Z",
     "start_time": "2024-12-18T05:57:48.814836Z"
    }
   },
   "outputs": [
    {
     "data": {
      "text/html": [
       "<div>\n",
       "<style scoped>\n",
       "    .dataframe tbody tr th:only-of-type {\n",
       "        vertical-align: middle;\n",
       "    }\n",
       "\n",
       "    .dataframe tbody tr th {\n",
       "        vertical-align: top;\n",
       "    }\n",
       "\n",
       "    .dataframe thead th {\n",
       "        text-align: right;\n",
       "    }\n",
       "</style>\n",
       "<table border=\"1\" class=\"dataframe\">\n",
       "  <thead>\n",
       "    <tr style=\"text-align: right;\">\n",
       "      <th>col_0</th>\n",
       "      <th>0</th>\n",
       "      <th>1</th>\n",
       "    </tr>\n",
       "    <tr>\n",
       "      <th>row_0</th>\n",
       "      <th></th>\n",
       "      <th></th>\n",
       "    </tr>\n",
       "  </thead>\n",
       "  <tbody>\n",
       "    <tr>\n",
       "      <th>0</th>\n",
       "      <td>37</td>\n",
       "      <td>12</td>\n",
       "    </tr>\n",
       "    <tr>\n",
       "      <th>1</th>\n",
       "      <td>6</td>\n",
       "      <td>34</td>\n",
       "    </tr>\n",
       "  </tbody>\n",
       "</table>\n",
       "</div>"
      ],
      "text/plain": [
       "col_0   0   1\n",
       "row_0        \n",
       "0      37  12\n",
       "1       6  34"
      ]
     },
     "execution_count": 55,
     "metadata": {},
     "output_type": "execute_result"
    }
   ],
   "source": [
    "# crosstab (매개변수에 1차원데이터)\n",
    "pd.crosstab(y_test.values.reshape(-1), # 실제값(1차원)\n",
    "            y_hat.reshape(-1))"
   ]
  },
  {
   "cell_type": "markdown",
   "id": "305bbc8a",
   "metadata": {},
   "source": [
    "## 6. 모델 사용하기"
   ]
  },
  {
   "cell_type": "code",
   "execution_count": null,
   "id": "6889a0ca",
   "metadata": {},
   "outputs": [],
   "source": []
  },
  {
   "cell_type": "code",
   "execution_count": null,
   "id": "a82811b1",
   "metadata": {},
   "outputs": [],
   "source": []
  },
  {
   "cell_type": "code",
   "execution_count": null,
   "id": "13e66ff0",
   "metadata": {},
   "outputs": [],
   "source": []
  },
  {
   "cell_type": "code",
   "execution_count": null,
   "id": "35681fbe",
   "metadata": {},
   "outputs": [],
   "source": []
  },
  {
   "cell_type": "code",
   "execution_count": null,
   "id": "5ca189f6",
   "metadata": {},
   "outputs": [],
   "source": []
  },
  {
   "cell_type": "code",
   "execution_count": null,
   "id": "d72aa499",
   "metadata": {},
   "outputs": [],
   "source": []
  },
  {
   "cell_type": "code",
   "execution_count": null,
   "id": "ad692c20",
   "metadata": {},
   "outputs": [],
   "source": []
  },
  {
   "cell_type": "code",
   "execution_count": null,
   "id": "b63cb39d",
   "metadata": {},
   "outputs": [],
   "source": []
  },
  {
   "cell_type": "code",
   "execution_count": null,
   "id": "23d956a2",
   "metadata": {},
   "outputs": [],
   "source": []
  },
  {
   "cell_type": "code",
   "execution_count": null,
   "id": "c5dc8707",
   "metadata": {},
   "outputs": [],
   "source": []
  },
  {
   "cell_type": "code",
   "execution_count": null,
   "id": "219e9f1e",
   "metadata": {},
   "outputs": [],
   "source": []
  },
  {
   "cell_type": "code",
   "execution_count": null,
   "id": "4fc81175",
   "metadata": {},
   "outputs": [],
   "source": []
  },
  {
   "cell_type": "code",
   "execution_count": null,
   "id": "8f1a6d0b",
   "metadata": {},
   "outputs": [],
   "source": []
  },
  {
   "cell_type": "code",
   "execution_count": null,
   "id": "816cd57d",
   "metadata": {},
   "outputs": [],
   "source": []
  },
  {
   "cell_type": "code",
   "execution_count": null,
   "id": "fb4a8f7c",
   "metadata": {},
   "outputs": [],
   "source": []
  },
  {
   "cell_type": "code",
   "execution_count": null,
   "id": "0299d396",
   "metadata": {},
   "outputs": [],
   "source": []
  },
  {
   "cell_type": "code",
   "execution_count": null,
   "id": "e80d19e8",
   "metadata": {},
   "outputs": [],
   "source": []
  },
  {
   "cell_type": "code",
   "execution_count": null,
   "id": "95fb3e1d",
   "metadata": {},
   "outputs": [],
   "source": []
  },
  {
   "cell_type": "code",
   "execution_count": null,
   "id": "3136103a",
   "metadata": {},
   "outputs": [],
   "source": []
  },
  {
   "cell_type": "code",
   "execution_count": null,
   "id": "f09ca162",
   "metadata": {},
   "outputs": [],
   "source": []
  },
  {
   "cell_type": "code",
   "execution_count": null,
   "id": "b150864b",
   "metadata": {},
   "outputs": [],
   "source": []
  },
  {
   "cell_type": "code",
   "execution_count": null,
   "id": "64847bd9",
   "metadata": {},
   "outputs": [],
   "source": []
  },
  {
   "cell_type": "code",
   "execution_count": null,
   "id": "abe4a1b8",
   "metadata": {},
   "outputs": [],
   "source": []
  },
  {
   "cell_type": "code",
   "execution_count": null,
   "id": "b4f43050",
   "metadata": {},
   "outputs": [],
   "source": []
  },
  {
   "cell_type": "code",
   "execution_count": null,
   "id": "e98951be",
   "metadata": {},
   "outputs": [],
   "source": []
  },
  {
   "cell_type": "code",
   "execution_count": null,
   "id": "13419dba",
   "metadata": {},
   "outputs": [],
   "source": []
  },
  {
   "cell_type": "code",
   "execution_count": null,
   "id": "b363095d",
   "metadata": {},
   "outputs": [],
   "source": []
  },
  {
   "cell_type": "code",
   "execution_count": null,
   "id": "45ace3ec",
   "metadata": {},
   "outputs": [],
   "source": []
  },
  {
   "cell_type": "code",
   "execution_count": null,
   "id": "85e11b6f",
   "metadata": {},
   "outputs": [],
   "source": []
  },
  {
   "cell_type": "code",
   "execution_count": null,
   "id": "e3367bcf",
   "metadata": {},
   "outputs": [],
   "source": []
  },
  {
   "cell_type": "code",
   "execution_count": null,
   "id": "850ac0f4",
   "metadata": {},
   "outputs": [],
   "source": []
  },
  {
   "cell_type": "code",
   "execution_count": null,
   "id": "d7b02e94",
   "metadata": {},
   "outputs": [],
   "source": []
  },
  {
   "cell_type": "code",
   "execution_count": null,
   "id": "a8764019",
   "metadata": {},
   "outputs": [],
   "source": []
  },
  {
   "cell_type": "code",
   "execution_count": null,
   "id": "e087165b",
   "metadata": {},
   "outputs": [],
   "source": []
  },
  {
   "cell_type": "code",
   "execution_count": null,
   "id": "037e762a",
   "metadata": {},
   "outputs": [],
   "source": []
  },
  {
   "cell_type": "code",
   "execution_count": null,
   "id": "79a46b53",
   "metadata": {},
   "outputs": [],
   "source": []
  },
  {
   "cell_type": "code",
   "execution_count": null,
   "id": "753db4d8",
   "metadata": {},
   "outputs": [],
   "source": []
  },
  {
   "cell_type": "code",
   "execution_count": null,
   "id": "e7d3f407",
   "metadata": {},
   "outputs": [],
   "source": []
  },
  {
   "cell_type": "code",
   "execution_count": null,
   "id": "5ad3e583",
   "metadata": {},
   "outputs": [],
   "source": []
  },
  {
   "cell_type": "code",
   "execution_count": null,
   "id": "a4edfd9c",
   "metadata": {},
   "outputs": [],
   "source": []
  },
  {
   "cell_type": "code",
   "execution_count": null,
   "id": "0c8fbd62",
   "metadata": {},
   "outputs": [],
   "source": []
  },
  {
   "cell_type": "code",
   "execution_count": null,
   "id": "e7d53887",
   "metadata": {},
   "outputs": [],
   "source": []
  },
  {
   "cell_type": "code",
   "execution_count": null,
   "id": "a49b09ca",
   "metadata": {},
   "outputs": [],
   "source": []
  },
  {
   "cell_type": "code",
   "execution_count": null,
   "id": "5d3218f1",
   "metadata": {},
   "outputs": [],
   "source": []
  },
  {
   "cell_type": "code",
   "execution_count": null,
   "id": "715114eb",
   "metadata": {},
   "outputs": [],
   "source": []
  },
  {
   "cell_type": "code",
   "execution_count": null,
   "id": "13d8f050",
   "metadata": {},
   "outputs": [],
   "source": []
  },
  {
   "cell_type": "code",
   "execution_count": null,
   "id": "48f37232",
   "metadata": {},
   "outputs": [],
   "source": []
  },
  {
   "cell_type": "code",
   "execution_count": null,
   "id": "9fbb91d5",
   "metadata": {},
   "outputs": [],
   "source": []
  },
  {
   "cell_type": "code",
   "execution_count": null,
   "id": "0c96b166",
   "metadata": {},
   "outputs": [],
   "source": []
  },
  {
   "cell_type": "code",
   "execution_count": null,
   "id": "4406b5d1",
   "metadata": {},
   "outputs": [],
   "source": []
  },
  {
   "cell_type": "code",
   "execution_count": null,
   "id": "e74057bd",
   "metadata": {},
   "outputs": [],
   "source": []
  },
  {
   "cell_type": "code",
   "execution_count": null,
   "id": "c8204abb",
   "metadata": {},
   "outputs": [],
   "source": []
  },
  {
   "cell_type": "code",
   "execution_count": null,
   "id": "75b9d18b",
   "metadata": {},
   "outputs": [],
   "source": []
  },
  {
   "cell_type": "code",
   "execution_count": null,
   "id": "c04217ad",
   "metadata": {},
   "outputs": [],
   "source": []
  },
  {
   "cell_type": "code",
   "execution_count": null,
   "id": "7e66d57b",
   "metadata": {},
   "outputs": [],
   "source": []
  },
  {
   "cell_type": "code",
   "execution_count": null,
   "id": "cfcb832f",
   "metadata": {},
   "outputs": [],
   "source": []
  },
  {
   "cell_type": "code",
   "execution_count": null,
   "id": "1de8cbdd",
   "metadata": {},
   "outputs": [],
   "source": []
  },
  {
   "cell_type": "code",
   "execution_count": null,
   "id": "a612caeb",
   "metadata": {},
   "outputs": [],
   "source": []
  },
  {
   "cell_type": "code",
   "execution_count": null,
   "id": "433fe088",
   "metadata": {},
   "outputs": [],
   "source": []
  },
  {
   "cell_type": "code",
   "execution_count": null,
   "id": "6c5953fb",
   "metadata": {},
   "outputs": [],
   "source": []
  },
  {
   "cell_type": "code",
   "execution_count": null,
   "id": "8ee23518",
   "metadata": {},
   "outputs": [],
   "source": []
  },
  {
   "cell_type": "code",
   "execution_count": null,
   "id": "6cbf3eba",
   "metadata": {},
   "outputs": [],
   "source": []
  },
  {
   "cell_type": "code",
   "execution_count": null,
   "id": "e8e05535",
   "metadata": {},
   "outputs": [],
   "source": []
  },
  {
   "cell_type": "code",
   "execution_count": null,
   "id": "8cacca1f",
   "metadata": {},
   "outputs": [],
   "source": []
  },
  {
   "cell_type": "code",
   "execution_count": null,
   "id": "35994e59",
   "metadata": {},
   "outputs": [],
   "source": []
  },
  {
   "cell_type": "code",
   "execution_count": null,
   "id": "06a8daa5",
   "metadata": {},
   "outputs": [],
   "source": []
  },
  {
   "cell_type": "code",
   "execution_count": null,
   "id": "65020905",
   "metadata": {},
   "outputs": [],
   "source": []
  },
  {
   "cell_type": "code",
   "execution_count": null,
   "id": "70b38765",
   "metadata": {},
   "outputs": [],
   "source": []
  },
  {
   "cell_type": "code",
   "execution_count": null,
   "id": "f2212ccf",
   "metadata": {},
   "outputs": [],
   "source": []
  },
  {
   "cell_type": "code",
   "execution_count": null,
   "id": "d16a348d",
   "metadata": {},
   "outputs": [],
   "source": []
  },
  {
   "cell_type": "code",
   "execution_count": null,
   "id": "a77787d3",
   "metadata": {},
   "outputs": [],
   "source": []
  },
  {
   "cell_type": "code",
   "execution_count": null,
   "id": "9ffdc37f",
   "metadata": {},
   "outputs": [],
   "source": []
  }
 ],
 "metadata": {
  "kernelspec": {
   "display_name": "Python 3 (ipykernel)",
   "language": "python",
   "name": "python3"
  },
  "language_info": {
   "codemirror_mode": {
    "name": "ipython",
    "version": 3
   },
   "file_extension": ".py",
   "mimetype": "text/x-python",
   "name": "python",
   "nbconvert_exporter": "python",
   "pygments_lexer": "ipython3",
   "version": "3.10.9"
  },
  "toc": {
   "base_numbering": 1,
   "nav_menu": {},
   "number_sections": true,
   "sideBar": true,
   "skip_h1_title": false,
   "title_cell": "Table of Contents",
   "title_sidebar": "Contents",
   "toc_cell": false,
   "toc_position": {},
   "toc_section_display": true,
   "toc_window_display": false
  }
 },
 "nbformat": 4,
 "nbformat_minor": 5
}
