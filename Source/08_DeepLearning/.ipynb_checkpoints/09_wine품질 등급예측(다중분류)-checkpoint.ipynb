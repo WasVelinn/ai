{
 "cells": [
  {
   "cell_type": "code",
   "execution_count": 5,
   "id": "49d18690",
   "metadata": {
    "ExecuteTime": {
     "end_time": "2024-12-19T03:01:41.463142Z",
     "start_time": "2024-12-19T03:01:41.457157Z"
    }
   },
   "outputs": [],
   "source": [
    "import numpy as np\n",
    "import pandas as pd # read_csv, get_dummies(원핫인코딩)\n",
    "from sklearn.preprocessing import StandardScaler\n",
    "from sklearn.model_selection import train_test_split # 훈련셋과 시험셋 나누기\n",
    "from tensorflow.keras.models import Sequential\n",
    "from tensorflow.keras.layers import Dense, Input, Dropout\n",
    "from tensorflow.keras.callbacks import EarlyStopping, Callback\n",
    "from tensorflow.keras import metrics # metrics = ['accuracy']\n",
    "import matplotlib.pyplot as plt"
   ]
  },
  {
   "cell_type": "markdown",
   "id": "d2b085bb",
   "metadata": {},
   "source": [
    "## Red wine 품질 등급 예측\n",
    "\n",
    "- 1. 데이터 셋 확보 & 전처리\n",
    "     독립변수, 종속변수 분리 -> 독립변수 스케일 조정(StandardScaler), 종속변수 원핫인코딩(get_dummies), 훈련셋과 테스트셋 분리\n",
    "- 2. 모델 구성(입력11, 출력6) layer층 4\n",
    "- 3. 모델 학습 과정 설정(다중분류에 맞는 설정)\n",
    "- 4. 학습시키기 (callback이용)\n",
    "- 5. 모델 평가 - 그래프, 평가(테스트셋), 교차표(cross tab)\n",
    "- 6. 모델 저장 및 사용하기"
   ]
  },
  {
   "cell_type": "code",
   "execution_count": 13,
   "id": "a3f4785e",
   "metadata": {
    "ExecuteTime": {
     "end_time": "2024-12-19T03:38:08.721620Z",
     "start_time": "2024-12-19T03:38:08.712644Z"
    }
   },
   "outputs": [],
   "source": [
    "# 데이터 셋 확보\n",
    "redwine = np.loadtxt('data/winequality-red.csv', delimiter=';', skiprows=1)"
   ]
  },
  {
   "cell_type": "code",
   "execution_count": 37,
   "id": "4dd4afc0",
   "metadata": {
    "ExecuteTime": {
     "end_time": "2024-12-19T03:54:38.679492Z",
     "start_time": "2024-12-19T03:54:38.672678Z"
    }
   },
   "outputs": [
    {
     "data": {
      "text/plain": [
       "(1599, 12)"
      ]
     },
     "execution_count": 37,
     "metadata": {},
     "output_type": "execute_result"
    }
   ],
   "source": [
    "redwine.shape"
   ]
  },
  {
   "cell_type": "code",
   "execution_count": 143,
   "id": "8f723947",
   "metadata": {
    "ExecuteTime": {
     "end_time": "2024-12-19T05:48:19.517676Z",
     "start_time": "2024-12-19T05:48:19.511691Z"
    }
   },
   "outputs": [],
   "source": [
    "# 데이터 전처리\n",
    "X_redwine = redwine[:1400, :-1]\n",
    "X_val = redwine[1400:, :-1]\n",
    "\n",
    "y_redwine = redwine[:1400, -1]\n",
    "y_val = redwine[1400:, -1]"
   ]
  },
  {
   "cell_type": "code",
   "execution_count": 144,
   "id": "d6d111aa",
   "metadata": {
    "ExecuteTime": {
     "end_time": "2024-12-19T05:48:20.228787Z",
     "start_time": "2024-12-19T05:48:20.223787Z"
    }
   },
   "outputs": [],
   "source": [
    "X_redwine, X_test, y_redwine, y_test = train_test_split(X_redwine, y_redwine, test_size=0.2, random_state=42)"
   ]
  },
  {
   "cell_type": "code",
   "execution_count": 145,
   "id": "0748e8b2",
   "metadata": {
    "ExecuteTime": {
     "end_time": "2024-12-19T05:48:20.884626Z",
     "start_time": "2024-12-19T05:48:20.879606Z"
    }
   },
   "outputs": [
    {
     "name": "stdout",
     "output_type": "stream",
     "text": [
      "[[ 6.6    0.5    0.    ...  3.44   0.55  12.3  ]\n",
      " [ 6.4    0.4    0.23  ...  3.34   0.56   9.2  ]\n",
      " [ 7.1    0.43   0.42  ...  3.42   0.71  10.5  ]\n",
      " ...\n",
      " [ 8.2    0.635  0.1   ...  3.29   0.75  10.9  ]\n",
      " [ 7.2    0.62   0.06  ...  3.51   0.54   9.5  ]\n",
      " [ 5.8    0.29   0.26  ...  3.39   0.54  13.5  ]] [6. 5. 5. ... 6. 5. 6.]\n"
     ]
    }
   ],
   "source": [
    "print(X_redwine, y_redwine)"
   ]
  },
  {
   "cell_type": "code",
   "execution_count": 146,
   "id": "7c0da25e",
   "metadata": {
    "ExecuteTime": {
     "end_time": "2024-12-19T05:48:21.816741Z",
     "start_time": "2024-12-19T05:48:21.807797Z"
    }
   },
   "outputs": [],
   "source": [
    "# 입력데이터, 검증입력데이터, 테스트입력데이터 스케일조정\n",
    "redwine_scaler = StandardScaler()\n",
    "redwine_scaler.fit(X_redwine)\n",
    "X_redwine = redwine_scaler.transform(X_redwine)\n",
    "\n",
    "redwine_scaler = StandardScaler()\n",
    "redwine_scaler.fit(X_val)\n",
    "X_val = redwine_scaler.transform(X_val)\n",
    "\n",
    "redwine_sscaler = StandardScaler()\n",
    "redwine_scaler.fit(X_test)\n",
    "X_test = redwine_scaler.transform(X_test)"
   ]
  },
  {
   "cell_type": "code",
   "execution_count": 147,
   "id": "918e54a0",
   "metadata": {
    "ExecuteTime": {
     "end_time": "2024-12-19T05:48:41.993766Z",
     "start_time": "2024-12-19T05:48:41.986059Z"
    }
   },
   "outputs": [],
   "source": [
    "# 출력데이터, 검증출력데이터, 테스트출력데이터 원핫인코딩\n",
    "y_redwine = np.array(pd.get_dummies(y_redwine))\n",
    "y_val = np.array(pd.get_dummies(y_val))\n",
    "y_test = np.array(pd.get_dummies(y_test))"
   ]
  },
  {
   "cell_type": "code",
   "execution_count": 148,
   "id": "c721d858",
   "metadata": {
    "ExecuteTime": {
     "end_time": "2024-12-19T05:48:52.870878Z",
     "start_time": "2024-12-19T05:48:52.810041Z"
    },
    "scrolled": true
   },
   "outputs": [
    {
     "name": "stdout",
     "output_type": "stream",
     "text": [
      "Model: \"sequential_17\"\n",
      "_________________________________________________________________\n",
      " Layer (type)                Output Shape              Param #   \n",
      "=================================================================\n",
      " dense_50 (Dense)            (None, 256)               3072      \n",
      "                                                                 \n",
      " dense_51 (Dense)            (None, 128)               32896     \n",
      "                                                                 \n",
      " dense_52 (Dense)            (None, 6)                 774       \n",
      "                                                                 \n",
      "=================================================================\n",
      "Total params: 36,742\n",
      "Trainable params: 36,742\n",
      "Non-trainable params: 0\n",
      "_________________________________________________________________\n"
     ]
    }
   ],
   "source": [
    "# 모델 설정\n",
    "model = Sequential()\n",
    "model.add(Input(shape=(11, )))\n",
    "model.add(Dense(units=256, activation='relu'))\n",
    "model.add(Dense(units=128, activation='relu'))\n",
    "model.add(Dense(units=6, activation='softmax'))\n",
    "model.summary()"
   ]
  },
  {
   "cell_type": "code",
   "execution_count": 150,
   "id": "385539ae",
   "metadata": {
    "ExecuteTime": {
     "end_time": "2024-12-19T05:49:16.481160Z",
     "start_time": "2024-12-19T05:49:16.471887Z"
    }
   },
   "outputs": [],
   "source": [
    "model.compile(loss='categorical_crossentropy', optimizer='adam', metrics=['accuracy'])"
   ]
  },
  {
   "cell_type": "code",
   "execution_count": 151,
   "id": "423af07f",
   "metadata": {
    "ExecuteTime": {
     "end_time": "2024-12-19T05:49:21.264744Z",
     "start_time": "2024-12-19T05:49:17.287600Z"
    },
    "scrolled": false
   },
   "outputs": [
    {
     "name": "stdout",
     "output_type": "stream",
     "text": [
      "epoch:10, loss:0.8105787038803101, acc:0.6553571224212646, val_loss:1.0804219245910645, val_ac:0.5376884341239929\n",
      "epoch:20, loss:0.668271005153656, acc:0.7348214387893677, val_loss:1.1957476139068604, val_ac:0.4974874258041382\n"
     ]
    }
   ],
   "source": [
    "# 콜백함수 설정, 모델학습\n",
    "from tensorflow.keras.callbacks import EarlyStopping\n",
    "import tensorflow.keras.callbacks as callbacks\n",
    "\n",
    "class CustomHistory(callbacks.Callback): # on_epoch_end()는 각 에포크 종료시 자동 호출\n",
    "    def __init__(self):\n",
    "        self.epoch = 0\n",
    "    def on_epoch_end(self, batch, logs = {}):\n",
    "        self.epoch += 1\n",
    "        if self.epoch%10 == 0:\n",
    "            print('epoch:{}, loss:{}, acc:{}, val_loss:{}, val_ac:{}'.format(self.epoch, logs.get('loss'), \\\n",
    "                                                                             logs.get('accuracy'), logs.get('val_loss'),\\\n",
    "                                                                             logs.get('val_accuracy')))\n",
    "\n",
    "earlystopping = EarlyStopping(patience = 20)\n",
    "customHistory = CustomHistory()\n",
    "hist = model.fit(X_redwine, y_redwine, epochs=150,\n",
    "                 validation_data=(X_val, y_val),\n",
    "                 callbacks=[earlystopping, customHistory],\n",
    "                 verbose = 0)"
   ]
  },
  {
   "cell_type": "code",
   "execution_count": 152,
   "id": "55581eb1",
   "metadata": {
    "ExecuteTime": {
     "end_time": "2024-12-19T05:49:26.199769Z",
     "start_time": "2024-12-19T05:49:25.937938Z"
    }
   },
   "outputs": [
    {
     "data": {
      "image/png": "[encoded data removed]",
      "text/plain": [
       "<Figure size 1000x500 with 2 Axes>"
      ]
     },
     "metadata": {},
     "output_type": "display_data"
    }
   ],
   "source": [
    "# 모델 평가\n",
    "fig, loss_ax = plt.subplots(figsize=(10,5))\n",
    "loss_ax.plot(hist.history['loss'], 'r', label='train loss')\n",
    "loss_ax.plot(hist.history['val_loss'], 'g', label='validation loss')\n",
    "loss_ax.set_xlabel('epoch')\n",
    "loss_ax.set_ylabel('loss')\n",
    "acc_ax = loss_ax.twinx()\n",
    "acc_ax.plot(hist.history['accuracy'], 'b', label='train accuracy')\n",
    "acc_ax.plot(hist.history['val_accuracy'], 'g', label='validation accuracy')\n",
    "acc_ax.set_ylabel('accuracy')\n",
    "loss_ax.legend(loc='center right')\n",
    "acc_ax.legend(loc='lower right')\n",
    "acc_ax.legend(bbox_to_anchor=(0.999, 0.65))\n",
    "plt.show()"
   ]
  },
  {
   "cell_type": "code",
   "execution_count": 153,
   "id": "7f1e8819",
   "metadata": {
    "ExecuteTime": {
     "end_time": "2024-12-19T05:49:37.621078Z",
     "start_time": "2024-12-19T05:49:37.512146Z"
    }
   },
   "outputs": [
    {
     "name": "stdout",
     "output_type": "stream",
     "text": [
      "9/9 [==============================] - 0s 4ms/step - loss: 0.9152 - accuracy: 0.6393\n"
     ]
    },
    {
     "data": {
      "text/plain": [
       "[0.9152158498764038, 0.6392857432365417]"
      ]
     },
     "execution_count": 153,
     "metadata": {},
     "output_type": "execute_result"
    }
   ],
   "source": [
    "model.evaluate(X_test, y_test)"
   ]
  },
  {
   "cell_type": "code",
   "execution_count": null,
   "id": "ca37fa60",
   "metadata": {},
   "outputs": [],
   "source": []
  },
  {
   "cell_type": "code",
   "execution_count": null,
   "id": "77663dcb",
   "metadata": {},
   "outputs": [],
   "source": []
  },
  {
   "cell_type": "code",
   "execution_count": null,
   "id": "36211c05",
   "metadata": {},
   "outputs": [],
   "source": []
  },
  {
   "cell_type": "code",
   "execution_count": null,
   "id": "594cc1a1",
   "metadata": {},
   "outputs": [],
   "source": []
  },
  {
   "cell_type": "code",
   "execution_count": null,
   "id": "a8d108e7",
   "metadata": {},
   "outputs": [],
   "source": []
  },
  {
   "cell_type": "code",
   "execution_count": null,
   "id": "acdcbe24",
   "metadata": {},
   "outputs": [],
   "source": []
  },
  {
   "cell_type": "code",
   "execution_count": null,
   "id": "e855430a",
   "metadata": {},
   "outputs": [],
   "source": []
  },
  {
   "cell_type": "code",
   "execution_count": null,
   "id": "22084cbf",
   "metadata": {},
   "outputs": [],
   "source": []
  },
  {
   "cell_type": "code",
   "execution_count": null,
   "id": "53a1dc13",
   "metadata": {},
   "outputs": [],
   "source": []
  },
  {
   "cell_type": "code",
   "execution_count": null,
   "id": "ceb63060",
   "metadata": {},
   "outputs": [],
   "source": []
  },
  {
   "cell_type": "code",
   "execution_count": null,
   "id": "35217c8e",
   "metadata": {},
   "outputs": [],
   "source": []
  },
  {
   "cell_type": "code",
   "execution_count": null,
   "id": "4d6ac1f1",
   "metadata": {},
   "outputs": [],
   "source": []
  },
  {
   "cell_type": "code",
   "execution_count": null,
   "id": "3fda9830",
   "metadata": {},
   "outputs": [],
   "source": []
  },
  {
   "cell_type": "code",
   "execution_count": null,
   "id": "e0bdf580",
   "metadata": {},
   "outputs": [],
   "source": []
  },
  {
   "cell_type": "code",
   "execution_count": null,
   "id": "40e75653",
   "metadata": {},
   "outputs": [],
   "source": []
  },
  {
   "cell_type": "code",
   "execution_count": null,
   "id": "5fdf18b9",
   "metadata": {},
   "outputs": [],
   "source": []
  },
  {
   "cell_type": "code",
   "execution_count": null,
   "id": "69b0cba0",
   "metadata": {},
   "outputs": [],
   "source": []
  },
  {
   "cell_type": "code",
   "execution_count": null,
   "id": "dec6c387",
   "metadata": {},
   "outputs": [],
   "source": []
  },
  {
   "cell_type": "code",
   "execution_count": null,
   "id": "7a20fe20",
   "metadata": {},
   "outputs": [],
   "source": []
  },
  {
   "cell_type": "code",
   "execution_count": null,
   "id": "1a3c33fc",
   "metadata": {},
   "outputs": [],
   "source": []
  },
  {
   "cell_type": "code",
   "execution_count": null,
   "id": "e1f96201",
   "metadata": {},
   "outputs": [],
   "source": []
  },
  {
   "cell_type": "code",
   "execution_count": null,
   "id": "6230bc04",
   "metadata": {},
   "outputs": [],
   "source": []
  },
  {
   "cell_type": "code",
   "execution_count": null,
   "id": "336a13a8",
   "metadata": {},
   "outputs": [],
   "source": []
  },
  {
   "cell_type": "code",
   "execution_count": null,
   "id": "34b8c69c",
   "metadata": {},
   "outputs": [],
   "source": []
  },
  {
   "cell_type": "code",
   "execution_count": null,
   "id": "6ffed708",
   "metadata": {},
   "outputs": [],
   "source": []
  },
  {
   "cell_type": "code",
   "execution_count": null,
   "id": "8bece6d3",
   "metadata": {},
   "outputs": [],
   "source": []
  },
  {
   "cell_type": "code",
   "execution_count": null,
   "id": "3509c1dd",
   "metadata": {},
   "outputs": [],
   "source": []
  },
  {
   "cell_type": "code",
   "execution_count": null,
   "id": "d1bb0b7f",
   "metadata": {},
   "outputs": [],
   "source": []
  },
  {
   "cell_type": "code",
   "execution_count": null,
   "id": "a0ea54b0",
   "metadata": {},
   "outputs": [],
   "source": []
  },
  {
   "cell_type": "code",
   "execution_count": null,
   "id": "1851bc39",
   "metadata": {},
   "outputs": [],
   "source": []
  },
  {
   "cell_type": "code",
   "execution_count": null,
   "id": "08c74fc1",
   "metadata": {},
   "outputs": [],
   "source": []
  },
  {
   "cell_type": "code",
   "execution_count": null,
   "id": "acf701f8",
   "metadata": {},
   "outputs": [],
   "source": []
  },
  {
   "cell_type": "code",
   "execution_count": null,
   "id": "96604952",
   "metadata": {},
   "outputs": [],
   "source": []
  },
  {
   "cell_type": "code",
   "execution_count": null,
   "id": "e85b5346",
   "metadata": {},
   "outputs": [],
   "source": []
  },
  {
   "cell_type": "code",
   "execution_count": null,
   "id": "8154143e",
   "metadata": {},
   "outputs": [],
   "source": []
  },
  {
   "cell_type": "code",
   "execution_count": null,
   "id": "d3ca950a",
   "metadata": {},
   "outputs": [],
   "source": []
  },
  {
   "cell_type": "code",
   "execution_count": null,
   "id": "657bd168",
   "metadata": {},
   "outputs": [],
   "source": []
  },
  {
   "cell_type": "code",
   "execution_count": null,
   "id": "bcafb3eb",
   "metadata": {},
   "outputs": [],
   "source": []
  },
  {
   "cell_type": "code",
   "execution_count": null,
   "id": "b7d1d784",
   "metadata": {},
   "outputs": [],
   "source": []
  },
  {
   "cell_type": "code",
   "execution_count": null,
   "id": "b64ec8b8",
   "metadata": {},
   "outputs": [],
   "source": []
  },
  {
   "cell_type": "code",
   "execution_count": null,
   "id": "1ca8279f",
   "metadata": {},
   "outputs": [],
   "source": []
  },
  {
   "cell_type": "code",
   "execution_count": null,
   "id": "3403b482",
   "metadata": {},
   "outputs": [],
   "source": []
  },
  {
   "cell_type": "code",
   "execution_count": null,
   "id": "c92874e8",
   "metadata": {},
   "outputs": [],
   "source": []
  },
  {
   "cell_type": "code",
   "execution_count": null,
   "id": "c3840abf",
   "metadata": {},
   "outputs": [],
   "source": []
  },
  {
   "cell_type": "code",
   "execution_count": null,
   "id": "43dbd42b",
   "metadata": {},
   "outputs": [],
   "source": []
  },
  {
   "cell_type": "code",
   "execution_count": null,
   "id": "3cddcfc1",
   "metadata": {},
   "outputs": [],
   "source": []
  },
  {
   "cell_type": "code",
   "execution_count": null,
   "id": "d41a28ea",
   "metadata": {},
   "outputs": [],
   "source": []
  },
  {
   "cell_type": "code",
   "execution_count": null,
   "id": "9cbc0a40",
   "metadata": {},
   "outputs": [],
   "source": []
  },
  {
   "cell_type": "code",
   "execution_count": null,
   "id": "6e6eea86",
   "metadata": {},
   "outputs": [],
   "source": []
  },
  {
   "cell_type": "code",
   "execution_count": null,
   "id": "13178b4b",
   "metadata": {},
   "outputs": [],
   "source": []
  },
  {
   "cell_type": "code",
   "execution_count": null,
   "id": "58ebdf47",
   "metadata": {},
   "outputs": [],
   "source": []
  },
  {
   "cell_type": "code",
   "execution_count": null,
   "id": "18b04048",
   "metadata": {},
   "outputs": [],
   "source": []
  },
  {
   "cell_type": "code",
   "execution_count": null,
   "id": "0be8d82f",
   "metadata": {},
   "outputs": [],
   "source": []
  },
  {
   "cell_type": "code",
   "execution_count": null,
   "id": "6e71e663",
   "metadata": {},
   "outputs": [],
   "source": []
  },
  {
   "cell_type": "code",
   "execution_count": null,
   "id": "d3feb675",
   "metadata": {},
   "outputs": [],
   "source": []
  },
  {
   "cell_type": "code",
   "execution_count": null,
   "id": "b6c4a657",
   "metadata": {},
   "outputs": [],
   "source": []
  },
  {
   "cell_type": "code",
   "execution_count": null,
   "id": "69dacc19",
   "metadata": {},
   "outputs": [],
   "source": []
  },
  {
   "cell_type": "code",
   "execution_count": null,
   "id": "5a8cce6f",
   "metadata": {},
   "outputs": [],
   "source": []
  },
  {
   "cell_type": "code",
   "execution_count": null,
   "id": "9618130c",
   "metadata": {},
   "outputs": [],
   "source": []
  },
  {
   "cell_type": "code",
   "execution_count": null,
   "id": "435ea898",
   "metadata": {},
   "outputs": [],
   "source": []
  },
  {
   "cell_type": "code",
   "execution_count": null,
   "id": "3ceacc57",
   "metadata": {},
   "outputs": [],
   "source": []
  },
  {
   "cell_type": "code",
   "execution_count": null,
   "id": "a0af9a46",
   "metadata": {},
   "outputs": [],
   "source": []
  },
  {
   "cell_type": "code",
   "execution_count": null,
   "id": "c1d622e9",
   "metadata": {},
   "outputs": [],
   "source": []
  },
  {
   "cell_type": "code",
   "execution_count": null,
   "id": "911f4238",
   "metadata": {},
   "outputs": [],
   "source": []
  },
  {
   "cell_type": "code",
   "execution_count": null,
   "id": "32b53fd5",
   "metadata": {},
   "outputs": [],
   "source": []
  },
  {
   "cell_type": "code",
   "execution_count": null,
   "id": "85f28121",
   "metadata": {},
   "outputs": [],
   "source": []
  },
  {
   "cell_type": "code",
   "execution_count": null,
   "id": "8200c1b5",
   "metadata": {},
   "outputs": [],
   "source": []
  },
  {
   "cell_type": "code",
   "execution_count": null,
   "id": "f452e22f",
   "metadata": {},
   "outputs": [],
   "source": []
  },
  {
   "cell_type": "code",
   "execution_count": null,
   "id": "35d9b3b2",
   "metadata": {},
   "outputs": [],
   "source": []
  },
  {
   "cell_type": "code",
   "execution_count": null,
   "id": "99c07fab",
   "metadata": {},
   "outputs": [],
   "source": []
  }
 ],
 "metadata": {
  "kernelspec": {
   "display_name": "Python 3 (ipykernel)",
   "language": "python",
   "name": "python3"
  },
  "language_info": {
   "codemirror_mode": {
    "name": "ipython",
    "version": 3
   },
   "file_extension": ".py",
   "mimetype": "text/x-python",
   "name": "python",
   "nbconvert_exporter": "python",
   "pygments_lexer": "ipython3",
   "version": "3.10.9"
  },
  "toc": {
   "base_numbering": 1,
   "nav_menu": {},
   "number_sections": true,
   "sideBar": true,
   "skip_h1_title": false,
   "title_cell": "Table of Contents",
   "title_sidebar": "Contents",
   "toc_cell": false,
   "toc_position": {},
   "toc_section_display": true,
   "toc_window_display": false
  }
 },
 "nbformat": 4,
 "nbformat_minor": 5
}
