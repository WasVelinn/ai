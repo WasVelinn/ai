{
 "cells": [
  {
   "cell_type": "markdown",
   "id": "fa82bb18",
   "metadata": {},
   "source": [
    "# ※ naver Open Api를 이용하여 네이버 지식인 \"전주 여행\"과 \"경주 여행\"을 검색     -> 명사만 추출 -> 빈도분석(DataFrame), 시각화(워드클라우드)"
   ]
  },
  {
   "cell_type": "markdown",
   "id": "42a4e29b",
   "metadata": {},
   "source": [
    "## 1. 네이버 api를 활용하여 두 검색어 추출"
   ]
  },
  {
   "cell_type": "code",
   "execution_count": 1,
   "id": "989dd17f",
   "metadata": {
    "ExecuteTime": {
     "end_time": "2024-12-30T07:32:20.534282Z",
     "start_time": "2024-12-30T07:32:19.191145Z"
    }
   },
   "outputs": [
    {
     "data": {
      "text/html": [
       "<div>\n",
       "<style scoped>\n",
       "    .dataframe tbody tr th:only-of-type {\n",
       "        vertical-align: middle;\n",
       "    }\n",
       "\n",
       "    .dataframe tbody tr th {\n",
       "        vertical-align: top;\n",
       "    }\n",
       "\n",
       "    .dataframe thead th {\n",
       "        text-align: right;\n",
       "    }\n",
       "</style>\n",
       "<table border=\"1\" class=\"dataframe\">\n",
       "  <thead>\n",
       "    <tr style=\"text-align: right;\">\n",
       "      <th></th>\n",
       "      <th>title</th>\n",
       "      <th>link</th>\n",
       "      <th>description</th>\n",
       "    </tr>\n",
       "  </thead>\n",
       "  <tbody>\n",
       "    <tr>\n",
       "      <th>0</th>\n",
       "      <td>전주여행 대중교통이랑 렌트카중 어떤게 좋을까요?</td>\n",
       "      <td>https://kin.naver.com/qna/detail.naver?d1id=9&amp;...</td>\n",
       "      <td>... 전주여행때 움직이기 차가 편할</td>\n",
       "    </tr>\n",
       "    <tr>\n",
       "      <th>1</th>\n",
       "      <td>전주여행갈려고하는데요!</td>\n",
       "      <td>https://kin.naver.com/qna/detail.naver?d1id=9&amp;...</td>\n",
       "      <td>전주여행을 갈려고하는데요!아는사람과</td>\n",
       "    </tr>\n",
       "    <tr>\n",
       "      <th>2</th>\n",
       "      <td>전주 여행</td>\n",
       "      <td>https://kin.naver.com/qna/detail.naver?d1id=9&amp;...</td>\n",
       "      <td>... 커플여행 가려고 하는데 추천</td>\n",
       "    </tr>\n",
       "    <tr>\n",
       "      <th>3</th>\n",
       "      <td>전주 뚜벅이 여행코스</td>\n",
       "      <td>https://kin.naver.com/qna/detail.naver?d1id=9&amp;...</td>\n",
       "      <td>남친이랑 2박 3일로 전주 여행가는데</td>\n",
       "    </tr>\n",
       "    <tr>\n",
       "      <th>4</th>\n",
       "      <td>전주펜션 한옥으로 된곳이요!</td>\n",
       "      <td>https://kin.naver.com/qna/detail.naver?d1id=9&amp;...</td>\n",
       "      <td>이번에 남자친구랑 같이 2박3일 전주</td>\n",
       "    </tr>\n",
       "    <tr>\n",
       "      <th>5</th>\n",
       "      <td>1박2일 전주 커플여행</td>\n",
       "      <td>https://kin.naver.com/qna/detail.naver?d1id=9&amp;...</td>\n",
       "      <td>... 전주 여행에 대해 도움을 드릴</td>\n",
       "    </tr>\n",
       "    <tr>\n",
       "      <th>6</th>\n",
       "      <td>고등학교친구들과 전주여행 당일치기</td>\n",
       "      <td>https://kin.naver.com/qna/detail.naver?d1id=9&amp;...</td>\n",
       "      <td>지금 고등학교3학년 친구들과 함께 4</td>\n",
       "    </tr>\n",
       "    <tr>\n",
       "      <th>7</th>\n",
       "      <td>전주 여행코스 추천받습니다</td>\n",
       "      <td>https://kin.naver.com/qna/detail.naver?d1id=12...</td>\n",
       "      <td>... 뭔가 박물관 관람이나 자연 경</td>\n",
       "    </tr>\n",
       "    <tr>\n",
       "      <th>8</th>\n",
       "      <td>전주 숙소 갈만한 곳좀 알려주세요!</td>\n",
       "      <td>https://kin.naver.com/qna/detail.naver?d1id=9&amp;...</td>\n",
       "      <td>... 남자친구랑 오랜만에 전주 여행</td>\n",
       "    </tr>\n",
       "    <tr>\n",
       "      <th>9</th>\n",
       "      <td>전주여행 2박3일 경비</td>\n",
       "      <td>https://kin.naver.com/qna/detail.naver?d1id=9&amp;...</td>\n",
       "      <td>보통 전주여행 2박3일 경비가 얼마정</td>\n",
       "    </tr>\n",
       "    <tr>\n",
       "      <th>10</th>\n",
       "      <td>추석 전주여행</td>\n",
       "      <td>https://kin.naver.com/qna/detail.naver?d1id=9&amp;...</td>\n",
       "      <td>16~18일 전주로 여행 가려고 하는</td>\n",
       "    </tr>\n",
       "    <tr>\n",
       "      <th>11</th>\n",
       "      <td>2박3일 전주여행</td>\n",
       "      <td>https://kin.naver.com/qna/detail.naver?d1id=9&amp;...</td>\n",
       "      <td>부모님과 전주여행 가려고하는데 정보가</td>\n",
       "    </tr>\n",
       "    <tr>\n",
       "      <th>12</th>\n",
       "      <td>전주여행 1박2일 코스질문요.</td>\n",
       "      <td>https://kin.naver.com/qna/detail.naver?d1id=9&amp;...</td>\n",
       "      <td>... 코스한번짜주실분 전라도쪽은 저</td>\n",
       "    </tr>\n",
       "    <tr>\n",
       "      <th>13</th>\n",
       "      <td>남해,전주 여행</td>\n",
       "      <td>https://kin.naver.com/qna/detail.naver?d1id=9&amp;...</td>\n",
       "      <td>남해,전주 여행 가려는데 여행지와 맛</td>\n",
       "    </tr>\n",
       "    <tr>\n",
       "      <th>14</th>\n",
       "      <td>전주여행 3일</td>\n",
       "      <td>https://kin.naver.com/qna/detail.naver?d1id=9&amp;...</td>\n",
       "      <td>전주여행 3일 간다면 여행 총 비용이</td>\n",
       "    </tr>\n",
       "    <tr>\n",
       "      <th>15</th>\n",
       "      <td>전주여행코스좀짜주세요ㅜㅜ</td>\n",
       "      <td>https://kin.naver.com/qna/detail.naver?d1id=12...</td>\n",
       "      <td>... 전주여행코스를 짜드릴 수 있습</td>\n",
       "    </tr>\n",
       "    <tr>\n",
       "      <th>16</th>\n",
       "      <td>전주 완주 여행</td>\n",
       "      <td>https://kin.naver.com/qna/detail.naver?d1id=9&amp;...</td>\n",
       "      <td>... 전주여행 전주맛집 국내여행 전</td>\n",
       "    </tr>\n",
       "    <tr>\n",
       "      <th>17</th>\n",
       "      <td>전주 3박4일 여행</td>\n",
       "      <td>https://kin.naver.com/qna/detail.naver?d1id=9&amp;...</td>\n",
       "      <td>... 부탁드립니다 ㅜㅜ 전주여행 전</td>\n",
       "    </tr>\n",
       "    <tr>\n",
       "      <th>18</th>\n",
       "      <td>전주여행 관련</td>\n",
       "      <td>https://kin.naver.com/qna/detail.naver?d1id=9&amp;...</td>\n",
       "      <td>... 전주여행 전주맛집 국내여행 전</td>\n",
       "    </tr>\n",
       "    <tr>\n",
       "      <th>19</th>\n",
       "      <td>전주 여행 가려고 하는데 1박2일vs2박3일</td>\n",
       "      <td>https://kin.naver.com/qna/detail.naver?d1id=9&amp;...</td>\n",
       "      <td>... 어떤게 적당할지 추천 좀 해주</td>\n",
       "    </tr>\n",
       "    <tr>\n",
       "      <th>20</th>\n",
       "      <td>전주 여행</td>\n",
       "      <td>https://kin.naver.com/qna/detail.naver?d1id=12...</td>\n",
       "      <td>... 전주 여행을 가시려하는군요!</td>\n",
       "    </tr>\n",
       "    <tr>\n",
       "      <th>21</th>\n",
       "      <td>전주 2박3일여행 비용</td>\n",
       "      <td>https://kin.naver.com/qna/detail.naver?d1id=9&amp;...</td>\n",
       "      <td>... 전주여행 전주맛집 국내여행 전</td>\n",
       "    </tr>\n",
       "    <tr>\n",
       "      <th>22</th>\n",
       "      <td>초등 6학년 210명 전주 일대 1박2일 수학여행 코스</td>\n",
       "      <td>https://kin.naver.com/qna/detail.naver?d1id=9&amp;...</td>\n",
       "      <td>... 전주 관광에 달인이신 전주달봉</td>\n",
       "    </tr>\n",
       "    <tr>\n",
       "      <th>23</th>\n",
       "      <td>전주 여행</td>\n",
       "      <td>https://kin.naver.com/qna/detail.naver?d1id=9&amp;...</td>\n",
       "      <td>이번주에 전주 여행 1박 2일로 처음</td>\n",
       "    </tr>\n",
       "    <tr>\n",
       "      <th>24</th>\n",
       "      <td>전주여행 1박2일 비용</td>\n",
       "      <td>https://kin.naver.com/qna/detail.naver?d1id=9&amp;...</td>\n",
       "      <td>전주여행 1박 2일로 가면 숙박비 제</td>\n",
       "    </tr>\n",
       "    <tr>\n",
       "      <th>25</th>\n",
       "      <td>2박3일 전주 크리스마스 여행</td>\n",
       "      <td>https://kin.naver.com/qna/detail.naver?d1id=9&amp;...</td>\n",
       "      <td>... 전주여행 전주맛집 국내여행 전</td>\n",
       "    </tr>\n",
       "    <tr>\n",
       "      <th>26</th>\n",
       "      <td>전주여행 갈곳, 전시회 추천</td>\n",
       "      <td>https://kin.naver.com/qna/detail.naver?d1id=9&amp;...</td>\n",
       "      <td>제가 이번달 말에 남자친구랑 전주여행</td>\n",
       "    </tr>\n",
       "    <tr>\n",
       "      <th>27</th>\n",
       "      <td>전주 여행 전연령 렌트카 추천</td>\n",
       "      <td>https://kin.naver.com/qna/detail.naver?d1id=8&amp;...</td>\n",
       "      <td>이번에 전주 여행 2박3일로 가는 저</td>\n",
       "    </tr>\n",
       "    <tr>\n",
       "      <th>28</th>\n",
       "      <td>친구랑 전주여행</td>\n",
       "      <td>https://kin.naver.com/qna/detail.naver?d1id=12...</td>\n",
       "      <td>친구랑 첫 전주여행을 가보려고 합니다</td>\n",
       "    </tr>\n",
       "    <tr>\n",
       "      <th>29</th>\n",
       "      <td>전주여행 코스 추천</td>\n",
       "      <td>https://kin.naver.com/qna/detail.naver?d1id=12...</td>\n",
       "      <td>안녕하세요 여자친구랑 전주여행을 갈예</td>\n",
       "    </tr>\n",
       "  </tbody>\n",
       "</table>\n",
       "</div>"
      ],
      "text/plain": [
       "                             title  \\\n",
       "0       전주여행 대중교통이랑 렌트카중 어떤게 좋을까요?   \n",
       "1                     전주여행갈려고하는데요!   \n",
       "2                            전주 여행   \n",
       "3                      전주 뚜벅이 여행코스   \n",
       "4                  전주펜션 한옥으로 된곳이요!   \n",
       "5                     1박2일 전주 커플여행   \n",
       "6               고등학교친구들과 전주여행 당일치기   \n",
       "7                   전주 여행코스 추천받습니다   \n",
       "8              전주 숙소 갈만한 곳좀 알려주세요!   \n",
       "9                     전주여행 2박3일 경비   \n",
       "10                         추석 전주여행   \n",
       "11                       2박3일 전주여행   \n",
       "12                전주여행 1박2일 코스질문요.   \n",
       "13                        남해,전주 여행   \n",
       "14                         전주여행 3일   \n",
       "15                   전주여행코스좀짜주세요ㅜㅜ   \n",
       "16                        전주 완주 여행   \n",
       "17                      전주 3박4일 여행   \n",
       "18                         전주여행 관련   \n",
       "19        전주 여행 가려고 하는데 1박2일vs2박3일   \n",
       "20                           전주 여행   \n",
       "21                    전주 2박3일여행 비용   \n",
       "22  초등 6학년 210명 전주 일대 1박2일 수학여행 코스   \n",
       "23                           전주 여행   \n",
       "24                    전주여행 1박2일 비용   \n",
       "25                2박3일 전주 크리스마스 여행   \n",
       "26                 전주여행 갈곳, 전시회 추천   \n",
       "27                전주 여행 전연령 렌트카 추천   \n",
       "28                        친구랑 전주여행   \n",
       "29                      전주여행 코스 추천   \n",
       "\n",
       "                                                 link           description  \n",
       "0   https://kin.naver.com/qna/detail.naver?d1id=9&...  ... 전주여행때 움직이기 차가 편할  \n",
       "1   https://kin.naver.com/qna/detail.naver?d1id=9&...  전주여행을 갈려고하는데요!아는사람과   \n",
       "2   https://kin.naver.com/qna/detail.naver?d1id=9&...  ... 커플여행 가려고 하는데 추천   \n",
       "3   https://kin.naver.com/qna/detail.naver?d1id=9&...  남친이랑 2박 3일로 전주 여행가는데  \n",
       "4   https://kin.naver.com/qna/detail.naver?d1id=9&...  이번에 남자친구랑 같이 2박3일 전주  \n",
       "5   https://kin.naver.com/qna/detail.naver?d1id=9&...  ... 전주 여행에 대해 도움을 드릴  \n",
       "6   https://kin.naver.com/qna/detail.naver?d1id=9&...  지금 고등학교3학년 친구들과 함께 4  \n",
       "7   https://kin.naver.com/qna/detail.naver?d1id=12...  ... 뭔가 박물관 관람이나 자연 경  \n",
       "8   https://kin.naver.com/qna/detail.naver?d1id=9&...  ... 남자친구랑 오랜만에 전주 여행  \n",
       "9   https://kin.naver.com/qna/detail.naver?d1id=9&...  보통 전주여행 2박3일 경비가 얼마정  \n",
       "10  https://kin.naver.com/qna/detail.naver?d1id=9&...  16~18일 전주로 여행 가려고 하는  \n",
       "11  https://kin.naver.com/qna/detail.naver?d1id=9&...  부모님과 전주여행 가려고하는데 정보가  \n",
       "12  https://kin.naver.com/qna/detail.naver?d1id=9&...  ... 코스한번짜주실분 전라도쪽은 저  \n",
       "13  https://kin.naver.com/qna/detail.naver?d1id=9&...  남해,전주 여행 가려는데 여행지와 맛  \n",
       "14  https://kin.naver.com/qna/detail.naver?d1id=9&...  전주여행 3일 간다면 여행 총 비용이  \n",
       "15  https://kin.naver.com/qna/detail.naver?d1id=12...  ... 전주여행코스를 짜드릴 수 있습  \n",
       "16  https://kin.naver.com/qna/detail.naver?d1id=9&...  ... 전주여행 전주맛집 국내여행 전  \n",
       "17  https://kin.naver.com/qna/detail.naver?d1id=9&...  ... 부탁드립니다 ㅜㅜ 전주여행 전  \n",
       "18  https://kin.naver.com/qna/detail.naver?d1id=9&...  ... 전주여행 전주맛집 국내여행 전  \n",
       "19  https://kin.naver.com/qna/detail.naver?d1id=9&...  ... 어떤게 적당할지 추천 좀 해주  \n",
       "20  https://kin.naver.com/qna/detail.naver?d1id=12...  ... 전주 여행을 가시려하는군요!   \n",
       "21  https://kin.naver.com/qna/detail.naver?d1id=9&...  ... 전주여행 전주맛집 국내여행 전  \n",
       "22  https://kin.naver.com/qna/detail.naver?d1id=9&...  ... 전주 관광에 달인이신 전주달봉  \n",
       "23  https://kin.naver.com/qna/detail.naver?d1id=9&...  이번주에 전주 여행 1박 2일로 처음  \n",
       "24  https://kin.naver.com/qna/detail.naver?d1id=9&...  전주여행 1박 2일로 가면 숙박비 제  \n",
       "25  https://kin.naver.com/qna/detail.naver?d1id=9&...  ... 전주여행 전주맛집 국내여행 전  \n",
       "26  https://kin.naver.com/qna/detail.naver?d1id=9&...  제가 이번달 말에 남자친구랑 전주여행  \n",
       "27  https://kin.naver.com/qna/detail.naver?d1id=8&...  이번에 전주 여행 2박3일로 가는 저  \n",
       "28  https://kin.naver.com/qna/detail.naver?d1id=12...  친구랑 첫 전주여행을 가보려고 합니다  \n",
       "29  https://kin.naver.com/qna/detail.naver?d1id=12...  안녕하세요 여자친구랑 전주여행을 갈예  "
      ]
     },
     "execution_count": 1,
     "metadata": {},
     "output_type": "execute_result"
    }
   ],
   "source": [
    "import requests\n",
    "import pandas as pd\n",
    "import json # response 텍스트를 json 딕셔너리로\n",
    "client_id = \"T3xJlimKqJrEwhcK6VTd\"\n",
    "client_secret = \"uqGAxFqUDv\"\n",
    "query = \"전주여행\"\n",
    "items_list = []\n",
    "url = f\"https://openapi.naver.com/v1/search/kin.json?query={query}&display=30\"\n",
    "headers = {\"X-Naver-Client-Id\":client_id,\n",
    "           \"X-Naver-Client-Secret\":client_secret}\n",
    "response = requests.get(url, headers=headers)\n",
    "items = json.loads(response.text)['items']\n",
    "for item in items:\n",
    "    title = item['title'].replace('<b>', '').replace('</b>', '')\n",
    "    link = item['link']\n",
    "    description = item['description'].replace('<b>', '').replace('</b>', '')[:20]\n",
    "    items_list.append([title, link, description])\n",
    "pd.DataFrame(items_list, columns=['title', 'link', 'description'])"
   ]
  },
  {
   "cell_type": "code",
   "execution_count": 20,
   "id": "47fb5273",
   "metadata": {
    "ExecuteTime": {
     "end_time": "2024-12-30T07:40:25.270327Z",
     "start_time": "2024-12-30T07:40:25.228340Z"
    }
   },
   "outputs": [],
   "source": [
    "from wordcloud import WordCloud\n",
    "from PIL import Image\n",
    "import numpy as np\n",
    "import nltk\n",
    "import matplotlib.pyplot as plt\n",
    "from konlpy.tag import Komoran"
   ]
  },
  {
   "cell_type": "code",
   "execution_count": 5,
   "id": "6cf4b053",
   "metadata": {
    "ExecuteTime": {
     "end_time": "2024-12-30T07:34:37.218377Z",
     "start_time": "2024-12-30T07:34:34.276564Z"
    }
   },
   "outputs": [],
   "source": [
    "komoran = Komoran()"
   ]
  },
  {
   "cell_type": "code",
   "execution_count": 24,
   "id": "ded8a1bf",
   "metadata": {
    "ExecuteTime": {
     "end_time": "2024-12-30T07:47:02.967244Z",
     "start_time": "2024-12-30T07:47:02.852165Z"
    }
   },
   "outputs": [],
   "source": [
    "word_list = [token for token, tag in komoran.pos(response.text.replace('.com', '')) if (tag in ('NNG', 'NNP', 'NNB')) & (len(token)>=2)]"
   ]
  },
  {
   "cell_type": "code",
   "execution_count": 25,
   "id": "c7e2af15",
   "metadata": {
    "ExecuteTime": {
     "end_time": "2024-12-30T07:47:04.279975Z",
     "start_time": "2024-12-30T07:47:04.275980Z"
    }
   },
   "outputs": [],
   "source": [
    "data_text = nltk.Text(word_list)"
   ]
  },
  {
   "cell_type": "code",
   "execution_count": 26,
   "id": "49b36e76",
   "metadata": {
    "ExecuteTime": {
     "end_time": "2024-12-30T07:47:05.121720Z",
     "start_time": "2024-12-30T07:47:05.115729Z"
    }
   },
   "outputs": [
    {
     "data": {
      "text/plain": [
       "[('전주', 132),\n",
       " ('여행', 127),\n",
       " ('한곳', 27),\n",
       " ('코스', 22),\n",
       " ('추천', 22),\n",
       " ('맛집', 19),\n",
       " ('여수', 19),\n",
       " ('제주도', 16),\n",
       " ('국내', 10),\n",
       " ('주가', 10),\n",
       " ('숙소', 10),\n",
       " ('한옥마을', 10),\n",
       " ('전문', 7),\n",
       " ('얼마', 6),\n",
       " ('부탁', 6)]"
      ]
     },
     "execution_count": 26,
     "metadata": {},
     "output_type": "execute_result"
    }
   ],
   "source": [
    "data_text.vocab().most_common(15)"
   ]
  },
  {
   "cell_type": "code",
   "execution_count": 27,
   "id": "bea3e040",
   "metadata": {
    "ExecuteTime": {
     "end_time": "2024-12-30T07:47:06.676662Z",
     "start_time": "2024-12-30T07:47:06.491863Z"
    }
   },
   "outputs": [
    {
     "data": {
      "image/png": "[encoded data removed]",
      "text/plain": [
       "<Figure size 1500x400 with 1 Axes>"
      ]
     },
     "metadata": {},
     "output_type": "display_data"
    }
   ],
   "source": [
    "plt.rc('font', family='Malgun Gothic')\n",
    "plt.figure(figsize=(15,4))\n",
    "data_text.plot(15)\n",
    "plt.show()"
   ]
  },
  {
   "cell_type": "code",
   "execution_count": 28,
   "id": "aacd8c1e",
   "metadata": {
    "ExecuteTime": {
     "end_time": "2024-12-30T07:47:09.577076Z",
     "start_time": "2024-12-30T07:47:09.388104Z"
    }
   },
   "outputs": [
    {
     "data": {
      "text/plain": [
       "(275, 556, 3)"
      ]
     },
     "execution_count": 28,
     "metadata": {},
     "output_type": "execute_result"
    },
    {
     "data": {
      "image/png": "[encoded data removed]",
      "text/plain": [
       "<Figure size 640x480 with 1 Axes>"
      ]
     },
     "metadata": {},
     "output_type": "display_data"
    }
   ],
   "source": [
    "img = Image.open('data/korea-house-black-fill.png').convert('RGB')\n",
    "mask = np.array(img)\n",
    "plt.imshow(img)\n",
    "mask.shape"
   ]
  },
  {
   "cell_type": "code",
   "execution_count": 29,
   "id": "391243e2",
   "metadata": {
    "ExecuteTime": {
     "end_time": "2024-12-30T07:47:12.490790Z",
     "start_time": "2024-12-30T07:47:11.460106Z"
    }
   },
   "outputs": [
    {
     "data": {
      "image/png": "[encoded data removed]",
      "text/plain": [
       "<Figure size 1000x400 with 1 Axes>"
      ]
     },
     "metadata": {},
     "output_type": "display_data"
    }
   ],
   "source": [
    "data_noun = ' '.join(word_list)\n",
    "wordcloud = WordCloud(background_color='white',\n",
    "                      max_words=300,\n",
    "                      font_path = 'HanSantteutDotum-Bold.ttf',\n",
    "                      relative_scaling=0.2,\n",
    "                      colormap='viridis',\n",
    "                      stopwords=None,\n",
    "                      mask=mask,\n",
    "                      )\n",
    "wordcloud.generate(data_noun)\n",
    "plt.figure(figsize=(10,4))\n",
    "plt.imshow(wordcloud)\n",
    "plt.axis('off')\n",
    "plt.show()"
   ]
  },
  {
   "cell_type": "code",
   "execution_count": 30,
   "id": "91d64464",
   "metadata": {
    "ExecuteTime": {
     "end_time": "2024-12-30T08:14:00.479999Z",
     "start_time": "2024-12-30T08:14:00.476283Z"
    }
   },
   "outputs": [],
   "source": [
    "from requests import get\n",
    "import time\n",
    "import os\n",
    "import json\n",
    "from html import unescape # &...\n",
    "import pandas as pd"
   ]
  },
  {
   "cell_type": "code",
   "execution_count": 31,
   "id": "dd00f7d0",
   "metadata": {
    "ExecuteTime": {
     "end_time": "2024-12-30T08:17:12.418179Z",
     "start_time": "2024-12-30T08:17:12.412195Z"
    }
   },
   "outputs": [],
   "source": [
    "# 네이버 API 계정 정보\n",
    "client_id = 'T3xJlimKqJrEwhcK6VTd'\n",
    "client_secret = 'uqGAxFqUDv'\n",
    "queries = ['전주 여행', '경주 여행']\n",
    "max_start = 5"
   ]
  },
  {
   "cell_type": "code",
   "execution_count": 33,
   "id": "44f19eb8",
   "metadata": {
    "ExecuteTime": {
     "end_time": "2024-12-30T08:23:32.646112Z",
     "start_time": "2024-12-30T08:23:32.500140Z"
    }
   },
   "outputs": [],
   "source": [
    "query = '전주 여행'\n",
    "start = 0\n",
    "headers = {'X-Naver-Client-Id':client_id,\n",
    "          'X-Naver-Client-Secret':client_secret}\n",
    "url = f'https://openapi.naver.com/v1/search/kin.json?query={query}&display=100&start={start+1}'\n",
    "response = get(url, headers=headers)\n",
    "# print(response.text)"
   ]
  },
  {
   "cell_type": "code",
   "execution_count": 4,
   "id": "de214059",
   "metadata": {
    "ExecuteTime": {
     "end_time": "2024-12-31T00:37:52.708875Z",
     "start_time": "2024-12-31T00:37:52.688363Z"
    }
   },
   "outputs": [],
   "source": [
    "# 데이터를 저장할 파일 생성 (naver_kin.txt)\n",
    "file_name = 'data/naver_kin.txt'\n",
    "with open(file_name, 'w', encoding='utf-8') as file:\n",
    "    file.write('{}\\t{}\\t{}\\t{}\\t{}\\t{}\\n'.format('query', 'no', 'title', 'link', 'description', 'total_text'))"
   ]
  },
  {
   "cell_type": "code",
   "execution_count": 36,
   "id": "e011228e",
   "metadata": {
    "ExecuteTime": {
     "end_time": "2024-12-30T08:37:45.547394Z",
     "start_time": "2024-12-30T08:37:45.539800Z"
    }
   },
   "outputs": [
    {
     "data": {
      "text/plain": [
       "{'title': '<b>전주여행</b> 대중교통이랑 렌트카중 어떤게 좋을까요?',\n",
       " 'link': 'https://kin.naver.com/qna/detail.naver?d1id=9&dirId=90110&docId=477694429&qb=7KCE7KO8IOyXrO2WiQ==&enc=utf8&section=kin.qna&rank=1&search_sort=0&spq=0',\n",
       " 'description': '... <b>전주여행</b>때 움직이기 차가 편할지 대중교통이 편할지 알려주세요. 교통 상황이 어떤지 궁금합니다. <b>전주여행</b> 전주맛집 국내여행 전주달봉이 달봉티비 <b>전주여행</b>코스 전주가볼만한곳 여수여행 여수가볼만한곳 제주도여행... '}"
      ]
     },
     "execution_count": 36,
     "metadata": {},
     "output_type": "execute_result"
    }
   ],
   "source": [
    "elements = json.loads(response.text)['items']\n",
    "elements[0]"
   ]
  },
  {
   "cell_type": "code",
   "execution_count": 42,
   "id": "84be54f0",
   "metadata": {
    "ExecuteTime": {
     "end_time": "2024-12-30T08:50:46.012721Z",
     "start_time": "2024-12-30T08:50:45.980024Z"
    },
    "scrolled": true
   },
   "outputs": [],
   "source": [
    "for i, element in enumerate(elements):\n",
    "    title = element['title'].replace('<b>', ' ').replace('</b>', ' ')\n",
    "    link = element['link']\n",
    "    description = element['description'].replace('<b>', ' ').replace('</b>', ' ')\n",
    "    description = unescape(description) # html 특수문자 처리(*ㅣㅅ; -> <로 대체)\n",
    "#     print(query, (start*100+i+1), title, link, description, title+' ', description)\n",
    "    with open(file_name, 'a', encoding='utf-8') as file :\n",
    "        file.write('{}\\t{}\\t{}\\t{}\\t{}\\t{}\\n'.format(query, start*100 + i + 1,\n",
    "                                                     title, link, description, title + ' ' + description))"
   ]
  },
  {
   "cell_type": "code",
   "execution_count": 44,
   "id": "2d8cd5cc",
   "metadata": {
    "ExecuteTime": {
     "end_time": "2024-12-30T08:52:55.869737Z",
     "start_time": "2024-12-30T08:52:55.859884Z"
    }
   },
   "outputs": [],
   "source": [
    "df = pd.read_csv('data/naver_kin.txt', sep='\\t')"
   ]
  },
  {
   "cell_type": "code",
   "execution_count": 45,
   "id": "81583faa",
   "metadata": {
    "ExecuteTime": {
     "end_time": "2024-12-30T08:53:00.879195Z",
     "start_time": "2024-12-30T08:53:00.868222Z"
    }
   },
   "outputs": [
    {
     "data": {
      "text/html": [
       "<div>\n",
       "<style scoped>\n",
       "    .dataframe tbody tr th:only-of-type {\n",
       "        vertical-align: middle;\n",
       "    }\n",
       "\n",
       "    .dataframe tbody tr th {\n",
       "        vertical-align: top;\n",
       "    }\n",
       "\n",
       "    .dataframe thead th {\n",
       "        text-align: right;\n",
       "    }\n",
       "</style>\n",
       "<table border=\"1\" class=\"dataframe\">\n",
       "  <thead>\n",
       "    <tr style=\"text-align: right;\">\n",
       "      <th></th>\n",
       "      <th>query</th>\n",
       "      <th>no</th>\n",
       "      <th>title</th>\n",
       "      <th>link</th>\n",
       "      <th>description</th>\n",
       "      <th>total_text</th>\n",
       "    </tr>\n",
       "  </thead>\n",
       "  <tbody>\n",
       "    <tr>\n",
       "      <th>0</th>\n",
       "      <td>전주 여행</td>\n",
       "      <td>1</td>\n",
       "      <td>전주여행  대중교통이랑 렌트카중 어떤게 좋을까요?</td>\n",
       "      <td>https://kin.naver.com/qna/detail.naver?d1id=9&amp;...</td>\n",
       "      <td>...  전주여행 때 움직이기 차가 편할지 대중교통이 편할지 알려주세요. 교통 상황...</td>\n",
       "      <td>전주여행  대중교통이랑 렌트카중 어떤게 좋을까요? ...  전주여행 때 움직이기 ...</td>\n",
       "    </tr>\n",
       "    <tr>\n",
       "      <th>1</th>\n",
       "      <td>전주 여행</td>\n",
       "      <td>2</td>\n",
       "      <td>전주여행 갈려고하는데요!</td>\n",
       "      <td>https://kin.naver.com/qna/detail.naver?d1id=9&amp;...</td>\n",
       "      <td>전주여행 을 갈려고하는데요!아는사람과 갈려고하는데 호텔은 좋은가격에 정했고~ 음....</td>\n",
       "      <td>전주여행 갈려고하는데요!  전주여행 을 갈려고하는데요!아는사람과 갈려고하는데 호텔...</td>\n",
       "    </tr>\n",
       "  </tbody>\n",
       "</table>\n",
       "</div>"
      ],
      "text/plain": [
       "   query  no                         title  \\\n",
       "0  전주 여행   1   전주여행  대중교통이랑 렌트카중 어떤게 좋을까요?   \n",
       "1  전주 여행   2                 전주여행 갈려고하는데요!   \n",
       "\n",
       "                                                link  \\\n",
       "0  https://kin.naver.com/qna/detail.naver?d1id=9&...   \n",
       "1  https://kin.naver.com/qna/detail.naver?d1id=9&...   \n",
       "\n",
       "                                         description  \\\n",
       "0  ...  전주여행 때 움직이기 차가 편할지 대중교통이 편할지 알려주세요. 교통 상황...   \n",
       "1   전주여행 을 갈려고하는데요!아는사람과 갈려고하는데 호텔은 좋은가격에 정했고~ 음....   \n",
       "\n",
       "                                          total_text  \n",
       "0   전주여행  대중교통이랑 렌트카중 어떤게 좋을까요? ...  전주여행 때 움직이기 ...  \n",
       "1   전주여행 갈려고하는데요!  전주여행 을 갈려고하는데요!아는사람과 갈려고하는데 호텔...  "
      ]
     },
     "execution_count": 45,
     "metadata": {},
     "output_type": "execute_result"
    }
   ],
   "source": [
    "df.head(2)"
   ]
  },
  {
   "cell_type": "code",
   "execution_count": 50,
   "id": "24bb47a6",
   "metadata": {
    "ExecuteTime": {
     "end_time": "2024-12-31T02:56:01.675704Z",
     "start_time": "2024-12-31T02:56:01.670718Z"
    }
   },
   "outputs": [],
   "source": [
    "from requests import get\n",
    "import time\n",
    "import os\n",
    "import json\n",
    "from html import unescape # &...\n",
    "import pandas as pd"
   ]
  },
  {
   "cell_type": "code",
   "execution_count": 51,
   "id": "8b8c6e83",
   "metadata": {
    "ExecuteTime": {
     "end_time": "2024-12-31T02:56:02.787260Z",
     "start_time": "2024-12-31T02:56:02.782241Z"
    }
   },
   "outputs": [],
   "source": [
    "# 네이버 API 계정 정보\n",
    "client_id = \"T3xJlimKqJrEwhcK6VTd\"\n",
    "client_secret = \"uqGAxFqUDv\"\n",
    "queries = ['전주 여행', '경주 여행']\n",
    "max_start = 5"
   ]
  },
  {
   "cell_type": "code",
   "execution_count": 52,
   "id": "1e834acb",
   "metadata": {
    "ExecuteTime": {
     "end_time": "2024-12-31T02:56:03.669720Z",
     "start_time": "2024-12-31T02:56:03.661741Z"
    }
   },
   "outputs": [],
   "source": [
    "def get_search_element_save(query, start):\n",
    "    headers = {'X-Naver-Client-Id':client_id,\n",
    "           'X-Naver-Client-Secret':client_secret}\n",
    "    url = f'https://openapi.naver.com/v1/search/kin.json?query={query}&display=100&start={start+1}'\n",
    "    response = get(url, headers=headers)\n",
    "    elements = json.loads(response.text)['items']\n",
    "    for i, element in enumerate(elements):\n",
    "        title = element['title'].replace('<b>', ' ').replace('</b>', ' ')\n",
    "        link = element['link']\n",
    "        description = element['description'].replace('<b>', ' ').replace('</b>', ' ')\n",
    "        description = unescape(description) # html 특수문자 처리(&lt; -> <로 대체)\n",
    "        # print(query, (start*100+i+1), title, link, description, title+' ' +description)\n",
    "        with open(file_name, 'a', encoding='utf-8') as file:\n",
    "            file.write('{}\\t{}\\t{}\\t{}\\t{}\\t{}\\n'.format(query, \n",
    "                                                         start*100+i+1,\n",
    "                                                         title,\n",
    "                                                         link,\n",
    "                                                         description, \n",
    "                                                         title + ' ' +description))"
   ]
  },
  {
   "cell_type": "code",
   "execution_count": 53,
   "id": "414f0ee8",
   "metadata": {
    "ExecuteTime": {
     "end_time": "2024-12-31T02:56:26.603578Z",
     "start_time": "2024-12-31T02:56:26.598556Z"
    }
   },
   "outputs": [],
   "source": [
    "# 데이터를 저장할 파일 생성 (naver_kin.txt)\n",
    "file_name = 'data/naver_kin.txt'\n",
    "with open(file_name, 'w', encoding='utf-8') as file:\n",
    "    file.write('{}\\t{}\\t{}\\t{}\\t{}\\t{}\\n'.format('query', 'no', 'title', 'link', 'description', 'total_text'))"
   ]
  },
  {
   "cell_type": "code",
   "execution_count": 54,
   "id": "6e356ffc",
   "metadata": {
    "ExecuteTime": {
     "end_time": "2024-12-31T02:56:32.738957Z",
     "start_time": "2024-12-31T02:56:28.198103Z"
    }
   },
   "outputs": [
    {
     "name": "stdout",
     "output_type": "stream",
     "text": [
      "0 전주 여행 읽고 파일 쓰기 중\n",
      "1 전주 여행 읽고 파일 쓰기 중\n",
      "2 전주 여행 읽고 파일 쓰기 중\n",
      "3 전주 여행 읽고 파일 쓰기 중\n",
      "4 전주 여행 읽고 파일 쓰기 중\n",
      "0 경주 여행 읽고 파일 쓰기 중\n",
      "1 경주 여행 읽고 파일 쓰기 중\n",
      "2 경주 여행 읽고 파일 쓰기 중\n",
      "3 경주 여행 읽고 파일 쓰기 중\n",
      "4 경주 여행 읽고 파일 쓰기 중\n"
     ]
    }
   ],
   "source": [
    "for query in queries:\n",
    "    for start in range(max_start):\n",
    "        print(start, query, '읽고 파일 쓰기 중')\n",
    "        get_search_element_save(query, start)\n",
    "        time.sleep(0.3)"
   ]
  },
  {
   "cell_type": "markdown",
   "id": "8adf890d",
   "metadata": {},
   "source": [
    "## 2. 품사태깅 저장"
   ]
  },
  {
   "cell_type": "code",
   "execution_count": 55,
   "id": "f3aafd3d",
   "metadata": {
    "ExecuteTime": {
     "end_time": "2024-12-31T02:56:47.897219Z",
     "start_time": "2024-12-31T02:56:47.854088Z"
    }
   },
   "outputs": [
    {
     "data": {
      "text/html": [
       "<div>\n",
       "<style scoped>\n",
       "    .dataframe tbody tr th:only-of-type {\n",
       "        vertical-align: middle;\n",
       "    }\n",
       "\n",
       "    .dataframe tbody tr th {\n",
       "        vertical-align: top;\n",
       "    }\n",
       "\n",
       "    .dataframe thead th {\n",
       "        text-align: right;\n",
       "    }\n",
       "</style>\n",
       "<table border=\"1\" class=\"dataframe\">\n",
       "  <thead>\n",
       "    <tr style=\"text-align: right;\">\n",
       "      <th></th>\n",
       "      <th>query</th>\n",
       "      <th>no</th>\n",
       "      <th>title</th>\n",
       "      <th>link</th>\n",
       "      <th>description</th>\n",
       "      <th>total_text</th>\n",
       "    </tr>\n",
       "  </thead>\n",
       "  <tbody>\n",
       "    <tr>\n",
       "      <th>332</th>\n",
       "      <td>전주 여행</td>\n",
       "      <td>333</td>\n",
       "      <td>1박2일  전주여행 ~.~</td>\n",
       "      <td>https://kin.naver.com/qna/detail.naver?d1id=12...</td>\n",
       "      <td>... 질문하신 [ 전주 여행 일정] 관련 답변 드리도록 하겠습니다. 여행가실 때 ...</td>\n",
       "      <td>1박2일  전주여행 ~.~ ... 질문하신 [ 전주 여행 일정] 관련 답변 드리도록...</td>\n",
       "    </tr>\n",
       "  </tbody>\n",
       "</table>\n",
       "</div>"
      ],
      "text/plain": [
       "     query   no           title  \\\n",
       "332  전주 여행  333  1박2일  전주여행 ~.~   \n",
       "\n",
       "                                                  link  \\\n",
       "332  https://kin.naver.com/qna/detail.naver?d1id=12...   \n",
       "\n",
       "                                           description  \\\n",
       "332  ... 질문하신 [ 전주 여행 일정] 관련 답변 드리도록 하겠습니다. 여행가실 때 ...   \n",
       "\n",
       "                                            total_text  \n",
       "332  1박2일  전주여행 ~.~ ... 질문하신 [ 전주 여행 일정] 관련 답변 드리도록...  "
      ]
     },
     "execution_count": 55,
     "metadata": {},
     "output_type": "execute_result"
    }
   ],
   "source": [
    "df = pd.read_csv('data/naver_kin.txt', sep='\\t')\n",
    "df.sample()"
   ]
  },
  {
   "cell_type": "code",
   "execution_count": 10,
   "id": "4ba04bea",
   "metadata": {
    "ExecuteTime": {
     "end_time": "2024-12-31T00:47:49.624198Z",
     "start_time": "2024-12-31T00:47:49.607125Z"
    }
   },
   "outputs": [
    {
     "name": "stdout",
     "output_type": "stream",
     "text": [
      "<class 'pandas.core.frame.DataFrame'>\n",
      "RangeIndex: 1000 entries, 0 to 999\n",
      "Data columns (total 6 columns):\n",
      " #   Column       Non-Null Count  Dtype \n",
      "---  ------       --------------  ----- \n",
      " 0   query        1000 non-null   object\n",
      " 1   no           1000 non-null   int64 \n",
      " 2   title        1000 non-null   object\n",
      " 3   link         1000 non-null   object\n",
      " 4   description  1000 non-null   object\n",
      " 5   total_text   1000 non-null   object\n",
      "dtypes: int64(1), object(5)\n",
      "memory usage: 47.0+ KB\n"
     ]
    }
   ],
   "source": [
    "df.info()"
   ]
  },
  {
   "cell_type": "code",
   "execution_count": 56,
   "id": "87334bf4",
   "metadata": {
    "ExecuteTime": {
     "end_time": "2024-12-31T02:56:52.235582Z",
     "start_time": "2024-12-31T02:56:52.230595Z"
    }
   },
   "outputs": [
    {
     "name": "stdout",
     "output_type": "stream",
     "text": [
      "query\n",
      "no\n",
      "title\n",
      "link\n",
      "description\n",
      "total_text\n"
     ]
    }
   ],
   "source": [
    "for row in df:\n",
    "    print(row)"
   ]
  },
  {
   "cell_type": "code",
   "execution_count": 57,
   "id": "b0eb53e4",
   "metadata": {
    "ExecuteTime": {
     "end_time": "2024-12-31T02:56:55.639561Z",
     "start_time": "2024-12-31T02:56:55.630572Z"
    }
   },
   "outputs": [
    {
     "name": "stdout",
     "output_type": "stream",
     "text": [
      "<class 'list'>\n"
     ]
    },
    {
     "data": {
      "text/plain": [
       "[['전주 여행',\n",
       "  1,\n",
       "  ' 전주여행  대중교통이랑 렌트카중 어떤게 좋을까요? ...  전주여행 때 움직이기 차가 편할지 대중교통이 편할지 알려주세요. 교통 상황이 어떤지 궁금합니다.  전주여행  전주맛집 국내여행 전주달봉이 달봉티비  전주여행 코스 전주가볼만한곳 여수여행 여수가볼만한곳 제주도여행... '],\n",
       " ['전주 여행',\n",
       "  251,\n",
       "  '내일  전주  당일치기 부모님과  여행 을 ...  전주여행  전주맛집 국내여행 전주달봉이 달봉티비  전주여행 코스 전주가볼만한곳 여수여행 여수가볼만한곳 제주도여행 제주도가볼만한곳 여행 전문 인플루언서 전주달봉이입니다. 바다는 군산 새만금 돌아보시면... '],\n",
       " ['경주 여행',\n",
       "  1,\n",
       "  '추석에  경주 여행  추석에  경주 여행  가는거 어떻게 생각하시나요? 서울에서 버스를 타고 갈 경우, 버스가 버스전용 차선에서 운행하나요?... 질문하신 [추석  경주여행 ] 관련 답변 드리도록 하겠습니다. 첨성대, 석굴암, 불국사 등 유적지는 연중무휴로... '],\n",
       " ['경주 여행',\n",
       "  251,\n",
       "  '[추천해주세요]  경주여행  [추천해주세요]  경주여행  안녕하세요~~ 무계획 이 루트로 이용시 실패없는  경주여행  소개해드릴까 합니다 ㅎㅎ 한번 보시고 마음에 드신다면 채택 부탁드립니다~~']]"
      ]
     },
     "execution_count": 57,
     "metadata": {},
     "output_type": "execute_result"
    }
   ],
   "source": [
    "# 데이터프레임을 for문 적용을 위해 list로 형변환\n",
    "df_list = df[['query', 'no', 'total_text']].values.tolist()\n",
    "print(type(df_list))\n",
    "df_list[::250]"
   ]
  },
  {
   "cell_type": "code",
   "execution_count": 58,
   "id": "b0c3e1d5",
   "metadata": {
    "ExecuteTime": {
     "end_time": "2024-12-31T02:57:32.867799Z",
     "start_time": "2024-12-31T02:57:32.862252Z"
    }
   },
   "outputs": [],
   "source": [
    "file_name = 'data/naver_kin_pos.csv'\n",
    "with open(file_name, 'w', encoding='cp949') as file:\n",
    "    file.write('{}, {}, {}, {}\\n'.format('query','no','token', 'pos'))"
   ]
  },
  {
   "cell_type": "code",
   "execution_count": 59,
   "id": "40006000",
   "metadata": {
    "ExecuteTime": {
     "end_time": "2024-12-31T02:57:40.659261Z",
     "start_time": "2024-12-31T02:57:40.654306Z"
    }
   },
   "outputs": [],
   "source": [
    "from konlpy.tag import Hannanum, Kkma, Komoran, Okt\n",
    "from mecab import mecab\n",
    "stopwords = ['여행', '전주', '경주']\n",
    "# 원하는 품사 : 일반명사, 고유명사\n",
    "select_pos = ['N'] # Hannanum(ntags=9)\n",
    "# select_pos = ['NC', 'NQ'] # Hannanum(ntags=22)\n",
    "# select_pos = ['NNG', 'NNP'] # Kkma, Komoran\n",
    "# select_pos = ['Noun'] # Okt"
   ]
  },
  {
   "cell_type": "code",
   "execution_count": 60,
   "id": "9d440356",
   "metadata": {
    "ExecuteTime": {
     "end_time": "2024-12-31T02:57:42.541098Z",
     "start_time": "2024-12-31T02:57:42.534116Z"
    }
   },
   "outputs": [
    {
     "data": {
      "text/plain": [
       "'음  경주 좋아요    진짜 일까    '"
      ]
     },
     "execution_count": 60,
     "metadata": {},
     "output_type": "execute_result"
    }
   ],
   "source": [
    "# ㅠ, 음, ㅋㅋ, ㅎㅎ\n",
    "import re\n",
    "text = '음. 경주 좋아요 ㅎㅎ 진짜 일까? ㅠㅠ'\n",
    "re.sub('[^가-힣\\s]', ' ', text) # ^ : 반대"
   ]
  },
  {
   "cell_type": "code",
   "execution_count": 61,
   "id": "e640888b",
   "metadata": {
    "ExecuteTime": {
     "end_time": "2024-12-31T02:57:44.963295Z",
     "start_time": "2024-12-31T02:57:44.958305Z"
    }
   },
   "outputs": [],
   "source": [
    "pos_tagger = Hannanum()"
   ]
  },
  {
   "cell_type": "code",
   "execution_count": 62,
   "id": "fcabaf76",
   "metadata": {
    "ExecuteTime": {
     "end_time": "2024-12-31T02:58:15.961983Z",
     "start_time": "2024-12-31T02:58:04.710459Z"
    }
   },
   "outputs": [
    {
     "name": "stdout",
     "output_type": "stream",
     "text": [
      "전주 여행 1 47  전주여행 대중교통이랑 렌트카중 어떤게 좋을까요 전주여행 때 움직이기 차가 편할지 대중교통이 편할지 알려주세요 교통 상황이 어떤지 궁금합니다 전주여행 전주맛집 국내여행 전주달봉이 달봉티비 전주여행 코스 전주가볼만한곳 여수여행 여수가볼만한곳 제주도여행 \n",
      "\n",
      "전주 여행 251 36 내일 전주 당일치기 부모님과 여행 을 전주여행 전주맛집 국내여행 전주달봉이 달봉티비 전주여행 코스 전주가볼만한곳 여수여행 여수가볼만한곳 제주도여행 제주도가볼만한곳 여행 전문 인플루언서 전주달봉이입니다 바다는 군산 새만금 돌아보시면 \n",
      "\n",
      "경주 여행 1 56 추석에 경주 여행 추석에 경주 여행 가는거 어떻게 생각하시나요 서울에서 버스를 타고 갈 경우 버스가 버스전용 차선에서 운행하나요 질문하신 추석 경주여행 관련 답변 드리도록 하겠습니다 첨성대 석굴암 불국사 등 유적지는 연중무휴로 \n",
      "\n",
      "경주 여행 251 49  추천해주세요 경주여행 추천해주세요 경주여행 안녕하세요 무계획 이 루트로 이용시 실패없는 경주여행 소개해드릴까 합니다 한번 보시고 마음에 드신다면 채택 부탁드립니다 \n",
      "\n"
     ]
    }
   ],
   "source": [
    "for i, row in enumerate(df_list):\n",
    "    query = row[0]\n",
    "    no    = row[1]\n",
    "    text  = row[2]\n",
    "    # print('수정전 :', text)\n",
    "    text = re.sub('[^가-힣\\s]', ' ', text)\n",
    "    text = re.sub('\\s+', ' ', text)\n",
    "    # print('수정후 :', text, end='\\n\\n')\n",
    "    # text_pos = pos_tagger.pos(text)\n",
    "    text_pos = pos_tagger.pos(text, 22) # Hannanum (ntags=22)\n",
    "    if i%250 == 0:\n",
    "        print(query, no, len(text_pos), text, end='\\n\\n')\n",
    "    for token, pos in text_pos:\n",
    "        # if token not in stopwords and pos in select_pos and len(token)>1 : # 명사만 저장\n",
    "        if token not in stopwords and len(token)>1 : # 모든 품사를 우선 다 저장\n",
    "            with open(file_name, 'a') as file:\n",
    "                file.write('{},{},{},{}\\n'.format(query,no,token, pos))"
   ]
  },
  {
   "cell_type": "markdown",
   "id": "9b759dea",
   "metadata": {},
   "source": [
    "# 3. 명사만 추출하여 빈도분석"
   ]
  },
  {
   "cell_type": "code",
   "execution_count": 63,
   "id": "86836344",
   "metadata": {
    "ExecuteTime": {
     "end_time": "2024-12-31T02:58:25.334748Z",
     "start_time": "2024-12-31T02:58:25.302724Z"
    }
   },
   "outputs": [],
   "source": [
    "df = pd.read_csv('data/naver_kin_pos.csv', encoding='cp949')"
   ]
  },
  {
   "cell_type": "code",
   "execution_count": 64,
   "id": "1866f6f6",
   "metadata": {
    "ExecuteTime": {
     "end_time": "2024-12-31T02:58:27.346905Z",
     "start_time": "2024-12-31T02:58:27.334923Z"
    }
   },
   "outputs": [
    {
     "data": {
      "text/html": [
       "<div>\n",
       "<style scoped>\n",
       "    .dataframe tbody tr th:only-of-type {\n",
       "        vertical-align: middle;\n",
       "    }\n",
       "\n",
       "    .dataframe tbody tr th {\n",
       "        vertical-align: top;\n",
       "    }\n",
       "\n",
       "    .dataframe thead th {\n",
       "        text-align: right;\n",
       "    }\n",
       "</style>\n",
       "<table border=\"1\" class=\"dataframe\">\n",
       "  <thead>\n",
       "    <tr style=\"text-align: right;\">\n",
       "      <th></th>\n",
       "      <th>query</th>\n",
       "      <th>no</th>\n",
       "      <th>token</th>\n",
       "      <th>pos</th>\n",
       "    </tr>\n",
       "  </thead>\n",
       "  <tbody>\n",
       "    <tr>\n",
       "      <th>0</th>\n",
       "      <td>전주 여행</td>\n",
       "      <td>1</td>\n",
       "      <td>전주여행</td>\n",
       "      <td>NC</td>\n",
       "    </tr>\n",
       "    <tr>\n",
       "      <th>1</th>\n",
       "      <td>전주 여행</td>\n",
       "      <td>1</td>\n",
       "      <td>대중교통</td>\n",
       "      <td>NC</td>\n",
       "    </tr>\n",
       "    <tr>\n",
       "      <th>2</th>\n",
       "      <td>전주 여행</td>\n",
       "      <td>1</td>\n",
       "      <td>렌트카중</td>\n",
       "      <td>NC</td>\n",
       "    </tr>\n",
       "    <tr>\n",
       "      <th>3</th>\n",
       "      <td>전주 여행</td>\n",
       "      <td>1</td>\n",
       "      <td>어떤</td>\n",
       "      <td>NC</td>\n",
       "    </tr>\n",
       "    <tr>\n",
       "      <th>4</th>\n",
       "      <td>전주 여행</td>\n",
       "      <td>1</td>\n",
       "      <td>을까</td>\n",
       "      <td>EF</td>\n",
       "    </tr>\n",
       "    <tr>\n",
       "      <th>...</th>\n",
       "      <td>...</td>\n",
       "      <td>...</td>\n",
       "      <td>...</td>\n",
       "      <td>...</td>\n",
       "    </tr>\n",
       "    <tr>\n",
       "      <th>22339</th>\n",
       "      <td>경주 여행</td>\n",
       "      <td>500</td>\n",
       "      <td>궁금</td>\n",
       "      <td>NC</td>\n",
       "    </tr>\n",
       "    <tr>\n",
       "      <th>22340</th>\n",
       "      <td>경주 여행</td>\n",
       "      <td>500</td>\n",
       "      <td>ㅂ니다</td>\n",
       "      <td>EF</td>\n",
       "    </tr>\n",
       "    <tr>\n",
       "      <th>22341</th>\n",
       "      <td>경주 여행</td>\n",
       "      <td>500</td>\n",
       "      <td>가족들</td>\n",
       "      <td>NC</td>\n",
       "    </tr>\n",
       "    <tr>\n",
       "      <th>22342</th>\n",
       "      <td>경주 여행</td>\n",
       "      <td>500</td>\n",
       "      <td>함께하</td>\n",
       "      <td>PV</td>\n",
       "    </tr>\n",
       "    <tr>\n",
       "      <th>22343</th>\n",
       "      <td>경주 여행</td>\n",
       "      <td>500</td>\n",
       "      <td>경주여행</td>\n",
       "      <td>NC</td>\n",
       "    </tr>\n",
       "  </tbody>\n",
       "</table>\n",
       "<p>22344 rows × 4 columns</p>\n",
       "</div>"
      ],
      "text/plain": [
       "       query   no  token  pos\n",
       "0      전주 여행    1   전주여행   NC\n",
       "1      전주 여행    1   대중교통   NC\n",
       "2      전주 여행    1   렌트카중   NC\n",
       "3      전주 여행    1     어떤   NC\n",
       "4      전주 여행    1     을까   EF\n",
       "...      ...  ...    ...  ...\n",
       "22339  경주 여행  500     궁금   NC\n",
       "22340  경주 여행  500    ㅂ니다   EF\n",
       "22341  경주 여행  500    가족들   NC\n",
       "22342  경주 여행  500    함께하   PV\n",
       "22343  경주 여행  500   경주여행   NC\n",
       "\n",
       "[22344 rows x 4 columns]"
      ]
     },
     "execution_count": 64,
     "metadata": {},
     "output_type": "execute_result"
    }
   ],
   "source": [
    "df"
   ]
  },
  {
   "cell_type": "code",
   "execution_count": 65,
   "id": "90aca1c1",
   "metadata": {
    "ExecuteTime": {
     "end_time": "2024-12-31T02:58:31.494514Z",
     "start_time": "2024-12-31T02:58:31.430540Z"
    }
   },
   "outputs": [
    {
     "ename": "KeyError",
     "evalue": "'pos'",
     "output_type": "error",
     "traceback": [
      "\u001b[1;31m---------------------------------------------------------------------------\u001b[0m",
      "\u001b[1;31mKeyError\u001b[0m                                  Traceback (most recent call last)",
      "File \u001b[1;32m~\\anaconda3\\lib\\site-packages\\pandas\\core\\indexes\\base.py:3802\u001b[0m, in \u001b[0;36mIndex.get_loc\u001b[1;34m(self, key, method, tolerance)\u001b[0m\n\u001b[0;32m   3801\u001b[0m \u001b[38;5;28;01mtry\u001b[39;00m:\n\u001b[1;32m-> 3802\u001b[0m     \u001b[38;5;28;01mreturn\u001b[39;00m \u001b[38;5;28;43mself\u001b[39;49m\u001b[38;5;241;43m.\u001b[39;49m\u001b[43m_engine\u001b[49m\u001b[38;5;241;43m.\u001b[39;49m\u001b[43mget_loc\u001b[49m\u001b[43m(\u001b[49m\u001b[43mcasted_key\u001b[49m\u001b[43m)\u001b[49m\n\u001b[0;32m   3803\u001b[0m \u001b[38;5;28;01mexcept\u001b[39;00m \u001b[38;5;167;01mKeyError\u001b[39;00m \u001b[38;5;28;01mas\u001b[39;00m err:\n",
      "File \u001b[1;32m~\\anaconda3\\lib\\site-packages\\pandas\\_libs\\index.pyx:138\u001b[0m, in \u001b[0;36mpandas._libs.index.IndexEngine.get_loc\u001b[1;34m()\u001b[0m\n",
      "File \u001b[1;32m~\\anaconda3\\lib\\site-packages\\pandas\\_libs\\index.pyx:165\u001b[0m, in \u001b[0;36mpandas._libs.index.IndexEngine.get_loc\u001b[1;34m()\u001b[0m\n",
      "File \u001b[1;32mpandas\\_libs\\hashtable_class_helper.pxi:5745\u001b[0m, in \u001b[0;36mpandas._libs.hashtable.PyObjectHashTable.get_item\u001b[1;34m()\u001b[0m\n",
      "File \u001b[1;32mpandas\\_libs\\hashtable_class_helper.pxi:5753\u001b[0m, in \u001b[0;36mpandas._libs.hashtable.PyObjectHashTable.get_item\u001b[1;34m()\u001b[0m\n",
      "\u001b[1;31mKeyError\u001b[0m: 'pos'",
      "\nThe above exception was the direct cause of the following exception:\n",
      "\u001b[1;31mKeyError\u001b[0m                                  Traceback (most recent call last)",
      "Cell \u001b[1;32mIn[65], line 5\u001b[0m\n\u001b[0;32m      1\u001b[0m \u001b[38;5;66;03m# 명사만\u001b[39;00m\n\u001b[0;32m      2\u001b[0m \u001b[38;5;66;03m# Hannanum(ntags=22) ['NC','NQ'] # \u001b[39;00m\n\u001b[0;32m      3\u001b[0m \u001b[38;5;66;03m# Kkma, Komoran, MeCab ['NNG', 'NNP'] # \u001b[39;00m\n\u001b[0;32m      4\u001b[0m \u001b[38;5;66;03m# Okt ['Noun'] \u001b[39;00m\n\u001b[1;32m----> 5\u001b[0m df_flt \u001b[38;5;241m=\u001b[39m df\u001b[38;5;241m.\u001b[39mloc[(\u001b[43mdf\u001b[49m\u001b[43m[\u001b[49m\u001b[38;5;124;43m'\u001b[39;49m\u001b[38;5;124;43mpos\u001b[39;49m\u001b[38;5;124;43m'\u001b[39;49m\u001b[43m]\u001b[49m\u001b[38;5;241m==\u001b[39m\u001b[38;5;124m'\u001b[39m\u001b[38;5;124mNC\u001b[39m\u001b[38;5;124m'\u001b[39m) \u001b[38;5;241m|\u001b[39m (df[\u001b[38;5;124m'\u001b[39m\u001b[38;5;124mpos\u001b[39m\u001b[38;5;124m'\u001b[39m]\u001b[38;5;241m==\u001b[39m\u001b[38;5;124m'\u001b[39m\u001b[38;5;124mNQ\u001b[39m\u001b[38;5;124m'\u001b[39m), [\u001b[38;5;124m'\u001b[39m\u001b[38;5;124mquery\u001b[39m\u001b[38;5;124m'\u001b[39m,\u001b[38;5;124m'\u001b[39m\u001b[38;5;124mtoken\u001b[39m\u001b[38;5;124m'\u001b[39m,\u001b[38;5;124m'\u001b[39m\u001b[38;5;124mpos\u001b[39m\u001b[38;5;124m'\u001b[39m]]\n\u001b[0;32m      6\u001b[0m df_flt \u001b[38;5;241m=\u001b[39m df\u001b[38;5;241m.\u001b[39mloc[df[\u001b[38;5;124m'\u001b[39m\u001b[38;5;124mpos\u001b[39m\u001b[38;5;124m'\u001b[39m]\u001b[38;5;241m.\u001b[39misin([\u001b[38;5;124m'\u001b[39m\u001b[38;5;124mNC\u001b[39m\u001b[38;5;124m'\u001b[39m, \u001b[38;5;124m'\u001b[39m\u001b[38;5;124mNQ\u001b[39m\u001b[38;5;124m'\u001b[39m]), [\u001b[38;5;124m'\u001b[39m\u001b[38;5;124mquery\u001b[39m\u001b[38;5;124m'\u001b[39m,\u001b[38;5;124m'\u001b[39m\u001b[38;5;124mtoken\u001b[39m\u001b[38;5;124m'\u001b[39m,\u001b[38;5;124m'\u001b[39m\u001b[38;5;124mpos\u001b[39m\u001b[38;5;124m'\u001b[39m]]\n\u001b[0;32m      7\u001b[0m df_flt\u001b[38;5;241m.\u001b[39miloc[::\u001b[38;5;241m5000\u001b[39m]\n",
      "File \u001b[1;32m~\\anaconda3\\lib\\site-packages\\pandas\\core\\frame.py:3807\u001b[0m, in \u001b[0;36mDataFrame.__getitem__\u001b[1;34m(self, key)\u001b[0m\n\u001b[0;32m   3805\u001b[0m \u001b[38;5;28;01mif\u001b[39;00m \u001b[38;5;28mself\u001b[39m\u001b[38;5;241m.\u001b[39mcolumns\u001b[38;5;241m.\u001b[39mnlevels \u001b[38;5;241m>\u001b[39m \u001b[38;5;241m1\u001b[39m:\n\u001b[0;32m   3806\u001b[0m     \u001b[38;5;28;01mreturn\u001b[39;00m \u001b[38;5;28mself\u001b[39m\u001b[38;5;241m.\u001b[39m_getitem_multilevel(key)\n\u001b[1;32m-> 3807\u001b[0m indexer \u001b[38;5;241m=\u001b[39m \u001b[38;5;28;43mself\u001b[39;49m\u001b[38;5;241;43m.\u001b[39;49m\u001b[43mcolumns\u001b[49m\u001b[38;5;241;43m.\u001b[39;49m\u001b[43mget_loc\u001b[49m\u001b[43m(\u001b[49m\u001b[43mkey\u001b[49m\u001b[43m)\u001b[49m\n\u001b[0;32m   3808\u001b[0m \u001b[38;5;28;01mif\u001b[39;00m is_integer(indexer):\n\u001b[0;32m   3809\u001b[0m     indexer \u001b[38;5;241m=\u001b[39m [indexer]\n",
      "File \u001b[1;32m~\\anaconda3\\lib\\site-packages\\pandas\\core\\indexes\\base.py:3804\u001b[0m, in \u001b[0;36mIndex.get_loc\u001b[1;34m(self, key, method, tolerance)\u001b[0m\n\u001b[0;32m   3802\u001b[0m     \u001b[38;5;28;01mreturn\u001b[39;00m \u001b[38;5;28mself\u001b[39m\u001b[38;5;241m.\u001b[39m_engine\u001b[38;5;241m.\u001b[39mget_loc(casted_key)\n\u001b[0;32m   3803\u001b[0m \u001b[38;5;28;01mexcept\u001b[39;00m \u001b[38;5;167;01mKeyError\u001b[39;00m \u001b[38;5;28;01mas\u001b[39;00m err:\n\u001b[1;32m-> 3804\u001b[0m     \u001b[38;5;28;01mraise\u001b[39;00m \u001b[38;5;167;01mKeyError\u001b[39;00m(key) \u001b[38;5;28;01mfrom\u001b[39;00m \u001b[38;5;21;01merr\u001b[39;00m\n\u001b[0;32m   3805\u001b[0m \u001b[38;5;28;01mexcept\u001b[39;00m \u001b[38;5;167;01mTypeError\u001b[39;00m:\n\u001b[0;32m   3806\u001b[0m     \u001b[38;5;66;03m# If we have a listlike key, _check_indexing_error will raise\u001b[39;00m\n\u001b[0;32m   3807\u001b[0m     \u001b[38;5;66;03m#  InvalidIndexError. Otherwise we fall through and re-raise\u001b[39;00m\n\u001b[0;32m   3808\u001b[0m     \u001b[38;5;66;03m#  the TypeError.\u001b[39;00m\n\u001b[0;32m   3809\u001b[0m     \u001b[38;5;28mself\u001b[39m\u001b[38;5;241m.\u001b[39m_check_indexing_error(key)\n",
      "\u001b[1;31mKeyError\u001b[0m: 'pos'"
     ]
    }
   ],
   "source": [
    "# 명사만\n",
    "# Hannanum(ntags=22) ['NC','NQ'] # \n",
    "# Kkma, Komoran, MeCab ['NNG', 'NNP'] # \n",
    "# Okt ['Noun'] \n",
    "df_flt = df.loc[(df['pos']=='NC') | (df['pos']=='NQ'), ['query','token','pos']]\n",
    "df_flt = df.loc[df['pos'].isin(['NC', 'NQ']), ['query','token','pos']]\n",
    "df_flt.iloc[::5000]"
   ]
  },
  {
   "cell_type": "code",
   "execution_count": null,
   "id": "a398f1eb",
   "metadata": {},
   "outputs": [],
   "source": [
    "# query별 token별 count수(빈도수)\n",
    "df_fit.group"
   ]
  },
  {
   "cell_type": "code",
   "execution_count": null,
   "id": "142b7334",
   "metadata": {},
   "outputs": [],
   "source": [
    "df_idx "
   ]
  },
  {
   "cell_type": "code",
   "execution_count": 33,
   "id": "8cf87891",
   "metadata": {
    "ExecuteTime": {
     "end_time": "2024-12-31T02:41:19.337060Z",
     "start_time": "2024-12-31T02:41:19.319793Z"
    }
   },
   "outputs": [
    {
     "ename": "NameError",
     "evalue": "name 'df_gj' is not defined",
     "output_type": "error",
     "traceback": [
      "\u001b[1;31m---------------------------------------------------------------------------\u001b[0m",
      "\u001b[1;31mNameError\u001b[0m                                 Traceback (most recent call last)",
      "Cell \u001b[1;32mIn[33], line 1\u001b[0m\n\u001b[1;32m----> 1\u001b[0m \u001b[43mdf_gj\u001b[49m\u001b[38;5;241m.\u001b[39msort_values(by\u001b[38;5;241m=\u001b[39m\u001b[38;5;124m'\u001b[39m\u001b[38;5;124mcount\u001b[39m\u001b[38;5;124m'\u001b[39m, ascending\u001b[38;5;241m=\u001b[39m\u001b[38;5;28;01mFalse\u001b[39;00m)\n",
      "\u001b[1;31mNameError\u001b[0m: name 'df_gj' is not defined"
     ]
    }
   ],
   "source": [
    "df_gj.sort_values(by='count', ascending=False)"
   ]
  },
  {
   "cell_type": "markdown",
   "id": "f2e933af",
   "metadata": {},
   "source": [
    "## 4. 워드 클라우드\n",
    "- 전주여행 명사만. 경주여행 명사만"
   ]
  },
  {
   "cell_type": "code",
   "execution_count": null,
   "id": "cc7bc3b1",
   "metadata": {},
   "outputs": [],
   "source": [
    "jj_noun_list = df_grp['전주 여행']\n",
    "gj_noun_list = df_grp['경주 여행']"
   ]
  },
  {
   "cell_type": "code",
   "execution_count": null,
   "id": "76658e1f",
   "metadata": {
    "collapsed": true
   },
   "outputs": [],
   "source": [
    "from PIL import Image\n",
    "mask = np.array(Image.open('data/korea-house-black-fill.png'))\n",
    "불용어 = set(['경주여행', '전주여행'])"
   ]
  },
  {
   "cell_type": "code",
   "execution_count": null,
   "id": "b9f127af",
   "metadata": {},
   "outputs": [],
   "source": [
    "# 생성된 wordcloud 이미지 저장\n",
    "wordcloud.to_file('data/gyeongju_cloud.png')"
   ]
  },
  {
   "cell_type": "code",
   "execution_count": null,
   "id": "8cf77536",
   "metadata": {},
   "outputs": [],
   "source": []
  },
  {
   "cell_type": "code",
   "execution_count": null,
   "id": "12f27826",
   "metadata": {},
   "outputs": [],
   "source": []
  },
  {
   "cell_type": "code",
   "execution_count": null,
   "id": "1ed728ea",
   "metadata": {},
   "outputs": [],
   "source": []
  },
  {
   "cell_type": "code",
   "execution_count": null,
   "id": "24bc9e7c",
   "metadata": {},
   "outputs": [],
   "source": []
  },
  {
   "cell_type": "code",
   "execution_count": null,
   "id": "e9d556a9",
   "metadata": {},
   "outputs": [],
   "source": []
  },
  {
   "cell_type": "code",
   "execution_count": null,
   "id": "6217a8d8",
   "metadata": {},
   "outputs": [],
   "source": []
  },
  {
   "cell_type": "code",
   "execution_count": null,
   "id": "58ec4f73",
   "metadata": {},
   "outputs": [],
   "source": []
  },
  {
   "cell_type": "code",
   "execution_count": null,
   "id": "a4108750",
   "metadata": {},
   "outputs": [],
   "source": []
  },
  {
   "cell_type": "code",
   "execution_count": null,
   "id": "a26cdaa6",
   "metadata": {},
   "outputs": [],
   "source": []
  },
  {
   "cell_type": "code",
   "execution_count": null,
   "id": "ca1b2b65",
   "metadata": {},
   "outputs": [],
   "source": []
  },
  {
   "cell_type": "code",
   "execution_count": null,
   "id": "51fe4de8",
   "metadata": {},
   "outputs": [],
   "source": []
  },
  {
   "cell_type": "code",
   "execution_count": null,
   "id": "0ea92943",
   "metadata": {},
   "outputs": [],
   "source": []
  },
  {
   "cell_type": "code",
   "execution_count": null,
   "id": "89983584",
   "metadata": {},
   "outputs": [],
   "source": []
  },
  {
   "cell_type": "code",
   "execution_count": null,
   "id": "060f9ad3",
   "metadata": {},
   "outputs": [],
   "source": []
  },
  {
   "cell_type": "code",
   "execution_count": null,
   "id": "7b57d485",
   "metadata": {},
   "outputs": [],
   "source": []
  },
  {
   "cell_type": "code",
   "execution_count": null,
   "id": "fab5ee3b",
   "metadata": {},
   "outputs": [],
   "source": []
  },
  {
   "cell_type": "code",
   "execution_count": null,
   "id": "65f8fb78",
   "metadata": {},
   "outputs": [],
   "source": []
  },
  {
   "cell_type": "code",
   "execution_count": null,
   "id": "7bb62a0d",
   "metadata": {},
   "outputs": [],
   "source": []
  },
  {
   "cell_type": "code",
   "execution_count": null,
   "id": "c1373cce",
   "metadata": {},
   "outputs": [],
   "source": []
  },
  {
   "cell_type": "code",
   "execution_count": null,
   "id": "54a1eaac",
   "metadata": {},
   "outputs": [],
   "source": []
  },
  {
   "cell_type": "code",
   "execution_count": null,
   "id": "5d29009a",
   "metadata": {},
   "outputs": [],
   "source": []
  },
  {
   "cell_type": "code",
   "execution_count": null,
   "id": "0df43e2a",
   "metadata": {},
   "outputs": [],
   "source": []
  },
  {
   "cell_type": "code",
   "execution_count": null,
   "id": "2ba64da4",
   "metadata": {},
   "outputs": [],
   "source": []
  },
  {
   "cell_type": "code",
   "execution_count": null,
   "id": "f51193a9",
   "metadata": {},
   "outputs": [],
   "source": []
  },
  {
   "cell_type": "code",
   "execution_count": null,
   "id": "3fbcd577",
   "metadata": {},
   "outputs": [],
   "source": []
  },
  {
   "cell_type": "code",
   "execution_count": null,
   "id": "d9916e87",
   "metadata": {},
   "outputs": [],
   "source": []
  },
  {
   "cell_type": "code",
   "execution_count": null,
   "id": "ef84f42f",
   "metadata": {},
   "outputs": [],
   "source": []
  },
  {
   "cell_type": "code",
   "execution_count": null,
   "id": "8f2f76f6",
   "metadata": {},
   "outputs": [],
   "source": []
  },
  {
   "cell_type": "code",
   "execution_count": null,
   "id": "86db9227",
   "metadata": {},
   "outputs": [],
   "source": []
  },
  {
   "cell_type": "code",
   "execution_count": null,
   "id": "94bf7e3b",
   "metadata": {},
   "outputs": [],
   "source": []
  },
  {
   "cell_type": "code",
   "execution_count": null,
   "id": "58360ba2",
   "metadata": {},
   "outputs": [],
   "source": []
  },
  {
   "cell_type": "code",
   "execution_count": null,
   "id": "3385f3d3",
   "metadata": {},
   "outputs": [],
   "source": []
  },
  {
   "cell_type": "code",
   "execution_count": null,
   "id": "44559eec",
   "metadata": {},
   "outputs": [],
   "source": []
  },
  {
   "cell_type": "code",
   "execution_count": null,
   "id": "0370ee7c",
   "metadata": {},
   "outputs": [],
   "source": []
  },
  {
   "cell_type": "code",
   "execution_count": null,
   "id": "5eda5947",
   "metadata": {},
   "outputs": [],
   "source": []
  },
  {
   "cell_type": "code",
   "execution_count": null,
   "id": "a9eb5e0c",
   "metadata": {},
   "outputs": [],
   "source": []
  },
  {
   "cell_type": "code",
   "execution_count": null,
   "id": "d3afc29f",
   "metadata": {},
   "outputs": [],
   "source": []
  },
  {
   "cell_type": "code",
   "execution_count": null,
   "id": "44aea2cb",
   "metadata": {},
   "outputs": [],
   "source": []
  },
  {
   "cell_type": "code",
   "execution_count": null,
   "id": "33737029",
   "metadata": {},
   "outputs": [],
   "source": []
  },
  {
   "cell_type": "code",
   "execution_count": null,
   "id": "f46a9f59",
   "metadata": {},
   "outputs": [],
   "source": []
  },
  {
   "cell_type": "code",
   "execution_count": null,
   "id": "b4cbcdb7",
   "metadata": {},
   "outputs": [],
   "source": []
  },
  {
   "cell_type": "code",
   "execution_count": null,
   "id": "b1d93593",
   "metadata": {},
   "outputs": [],
   "source": []
  },
  {
   "cell_type": "code",
   "execution_count": null,
   "id": "e5ec3cb1",
   "metadata": {},
   "outputs": [],
   "source": []
  },
  {
   "cell_type": "code",
   "execution_count": null,
   "id": "5e297683",
   "metadata": {},
   "outputs": [],
   "source": []
  },
  {
   "cell_type": "code",
   "execution_count": null,
   "id": "0f1da038",
   "metadata": {},
   "outputs": [],
   "source": []
  },
  {
   "cell_type": "code",
   "execution_count": null,
   "id": "d45d3e26",
   "metadata": {},
   "outputs": [],
   "source": []
  },
  {
   "cell_type": "code",
   "execution_count": null,
   "id": "94d2f558",
   "metadata": {},
   "outputs": [],
   "source": []
  },
  {
   "cell_type": "code",
   "execution_count": null,
   "id": "eb26ed7e",
   "metadata": {},
   "outputs": [],
   "source": []
  },
  {
   "cell_type": "code",
   "execution_count": null,
   "id": "06fb66a5",
   "metadata": {},
   "outputs": [],
   "source": []
  },
  {
   "cell_type": "code",
   "execution_count": null,
   "id": "915f151b",
   "metadata": {},
   "outputs": [],
   "source": []
  }
 ],
 "metadata": {
  "kernelspec": {
   "display_name": "Python 3 (ipykernel)",
   "language": "python",
   "name": "python3"
  },
  "language_info": {
   "codemirror_mode": {
    "name": "ipython",
    "version": 3
   },
   "file_extension": ".py",
   "mimetype": "text/x-python",
   "name": "python",
   "nbconvert_exporter": "python",
   "pygments_lexer": "ipython3",
   "version": "3.10.9"
  },
  "toc": {
   "base_numbering": 1,
   "nav_menu": {},
   "number_sections": true,
   "sideBar": true,
   "skip_h1_title": false,
   "title_cell": "Table of Contents",
   "title_sidebar": "Contents",
   "toc_cell": false,
   "toc_position": {},
   "toc_section_display": true,
   "toc_window_display": false
  }
 },
 "nbformat": 4,
 "nbformat_minor": 5
}
