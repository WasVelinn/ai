{
 "cells": [
  {
   "cell_type": "markdown",
   "id": "d1651b69",
   "metadata": {},
   "source": [
    "# 1. NLTK 패키지\n",
    "1. 텍스트 전처리 : 토큰화(어절, 문장 나누기), 정규표현식을 활용한 토큰화, 불용어제거, 기본형(어근)추출\n",
    "2. 품사태깅 : 단어 품사식별\n",
    "3. 구조화된 문서의 빈도수, 분류분석, 연관분석, 감성분석...(단점)NLTK 속도가 느림"
   ]
  },
  {
   "cell_type": "code",
   "execution_count": 2,
   "id": "3139de22",
   "metadata": {
    "ExecuteTime": {
     "end_time": "2024-12-27T05:24:44.750105Z",
     "start_time": "2024-12-27T05:24:43.671253Z"
    }
   },
   "outputs": [],
   "source": [
    "import nltk"
   ]
  },
  {
   "cell_type": "code",
   "execution_count": 3,
   "id": "5ddaa45a",
   "metadata": {
    "ExecuteTime": {
     "end_time": "2024-12-27T05:25:57.317532Z",
     "start_time": "2024-12-27T05:24:45.591722Z"
    }
   },
   "outputs": [
    {
     "name": "stdout",
     "output_type": "stream",
     "text": [
      "showing info https://raw.githubusercontent.com/nltk/nltk_data/gh-pages/index.xml\n",
      "showing info https://raw.githubusercontent.com/nltk/nltk_data/gh-pages/index.xml\n"
     ]
    },
    {
     "data": {
      "text/plain": [
       "True"
      ]
     },
     "execution_count": 3,
     "metadata": {},
     "output_type": "execute_result"
    }
   ],
   "source": [
    "nltk.download()"
   ]
  },
  {
   "cell_type": "code",
   "execution_count": 4,
   "id": "7b45f380",
   "metadata": {
    "ExecuteTime": {
     "end_time": "2024-12-27T05:27:42.942819Z",
     "start_time": "2024-12-27T05:27:40.439192Z"
    }
   },
   "outputs": [
    {
     "name": "stderr",
     "output_type": "stream",
     "text": [
      "[nltk_data] Downloading package omw-1.4 to d:\\nltk_data...\n"
     ]
    },
    {
     "data": {
      "text/plain": [
       "True"
      ]
     },
     "execution_count": 4,
     "metadata": {},
     "output_type": "execute_result"
    }
   ],
   "source": [
    "nltk.download('omw-1.4')"
   ]
  },
  {
   "cell_type": "code",
   "execution_count": 5,
   "id": "189a08bb",
   "metadata": {
    "ExecuteTime": {
     "end_time": "2024-12-27T05:30:48.833568Z",
     "start_time": "2024-12-27T05:30:42.519534Z"
    }
   },
   "outputs": [
    {
     "name": "stdout",
     "output_type": "stream",
     "text": [
      "*** Introductory Examples for the NLTK Book ***\n",
      "Loading text1, ..., text9 and sent1, ..., sent9\n",
      "Type the name of the text or sentence to view it.\n",
      "Type: 'texts()' or 'sents()' to list the materials.\n",
      "text1: Moby Dick by Herman Melville 1851\n",
      "text2: Sense and Sensibility by Jane Austen 1811\n",
      "text3: The Book of Genesis\n",
      "text4: Inaugural Address Corpus\n",
      "text5: Chat Corpus\n",
      "text6: Monty Python and the Holy Grail\n",
      "text7: Wall Street Journal\n",
      "text8: Personals Corpus\n",
      "text9: The Man Who Was Thursday by G . K . Chesterton 1908\n"
     ]
    }
   ],
   "source": [
    "from nltk.book import *"
   ]
  },
  {
   "cell_type": "code",
   "execution_count": 6,
   "id": "c3941d76",
   "metadata": {
    "ExecuteTime": {
     "end_time": "2024-12-27T05:31:37.652678Z",
     "start_time": "2024-12-27T05:31:37.644808Z"
    }
   },
   "outputs": [
    {
     "data": {
      "text/plain": [
       "['austen-emma.txt',\n",
       " 'austen-persuasion.txt',\n",
       " 'austen-sense.txt',\n",
       " 'bible-kjv.txt',\n",
       " 'blake-poems.txt',\n",
       " 'bryant-stories.txt',\n",
       " 'burgess-busterbrown.txt',\n",
       " 'carroll-alice.txt',\n",
       " 'chesterton-ball.txt',\n",
       " 'chesterton-brown.txt',\n",
       " 'chesterton-thursday.txt',\n",
       " 'edgeworth-parents.txt',\n",
       " 'melville-moby_dick.txt',\n",
       " 'milton-paradise.txt',\n",
       " 'shakespeare-caesar.txt',\n",
       " 'shakespeare-hamlet.txt',\n",
       " 'shakespeare-macbeth.txt',\n",
       " 'whitman-leaves.txt']"
      ]
     },
     "execution_count": 6,
     "metadata": {},
     "output_type": "execute_result"
    }
   ],
   "source": [
    "# 말뭉치 리스트\n",
    "nltk.corpus.gutenberg.fileids()"
   ]
  },
  {
   "cell_type": "code",
   "execution_count": 8,
   "id": "47c4b490",
   "metadata": {
    "ExecuteTime": {
     "end_time": "2024-12-27T05:33:48.486036Z",
     "start_time": "2024-12-27T05:33:48.479084Z"
    }
   },
   "outputs": [
    {
     "data": {
      "text/plain": [
       "str"
      ]
     },
     "execution_count": 8,
     "metadata": {},
     "output_type": "execute_result"
    }
   ],
   "source": [
    "emma = nltk.corpus.gutenberg.raw('austen-emma.txt')\n",
    "type(emma)"
   ]
  },
  {
   "cell_type": "code",
   "execution_count": 9,
   "id": "bf2ebf92",
   "metadata": {
    "ExecuteTime": {
     "end_time": "2024-12-27T05:34:31.862965Z",
     "start_time": "2024-12-27T05:34:31.847342Z"
    }
   },
   "outputs": [
    {
     "data": {
      "text/plain": [
       "887071"
      ]
     },
     "execution_count": 9,
     "metadata": {},
     "output_type": "execute_result"
    }
   ],
   "source": [
    "len(emma)"
   ]
  },
  {
   "cell_type": "code",
   "execution_count": 15,
   "id": "a52c360d",
   "metadata": {
    "ExecuteTime": {
     "end_time": "2024-12-27T05:41:25.607816Z",
     "start_time": "2024-12-27T05:41:25.119063Z"
    }
   },
   "outputs": [
    {
     "name": "stdout",
     "output_type": "stream",
     "text": [
      "첫 문장 : '[Emma by Jane Austen 1816]\\n\\nVOLUME I\\n\\nCHAPTER I\\n\\n\\nEmma Woodhouse, handsome, clever, and rich, with a comfortable home\\nand happy disposition, seemed to unite some of the best blessings\\nof existence; and had lived nearly twenty-one years in the world\\nwith very little to distress or vex her.'\n",
      "두 번째 문장 : \"She was the youngest of the two daughters of a most affectionate,\\nindulgent father; and had, in consequence of her sister's marriage,\\nbeen mistress of his house from a very early period.\"\n",
      "문장 수 : 7456\n"
     ]
    }
   ],
   "source": [
    "# sent_tokenize() : 문장단위로 쪼갠 list\n",
    "from nltk.tokenize import sent_tokenize\n",
    "sent_tokens = sent_tokenize(emma)\n",
    "print('첫 문장 : %r' % (sent_tokens[0]))\n",
    "print('두 번째 문장 : %r' % sent_tokens[1])\n",
    "print('문장 수 :', len(sent_tokens))"
   ]
  },
  {
   "cell_type": "code",
   "execution_count": 16,
   "id": "9a140a3e",
   "metadata": {
    "ExecuteTime": {
     "end_time": "2024-12-27T05:42:23.925279Z",
     "start_time": "2024-12-27T05:42:23.919262Z"
    }
   },
   "outputs": [
    {
     "name": "stdout",
     "output_type": "stream",
     "text": [
      "['[', 'Emma', 'by', 'Jane', 'Austen', '1816', ']', 'VOLUME', 'I', 'CHAPTER', 'I', 'Emma', 'Woodhouse', ',', 'handsome', ',', 'clever', ',', 'and', 'rich', ',', 'with', 'a', 'comfortable', 'home', 'and', 'happy', 'disposition', ',', 'seemed', 'to', 'unite', 'some', 'of', 'the', 'best', 'blessings', 'of', 'existence', ';', 'and', 'had', 'lived', 'nearly', 'twenty-one', 'years', 'in', 'the', 'world', 'with', 'very', 'little', 'to', 'distress', 'or', 'vex', 'her', '.']\n"
     ]
    }
   ],
   "source": [
    "# word_tokenize() : 단어 단위로 쪼갠 list 반환\n",
    "from nltk.tokenize import word_tokenize\n",
    "print(word_tokenize(sent_tokens[0]))"
   ]
  },
  {
   "cell_type": "code",
   "execution_count": 17,
   "id": "9babf60e",
   "metadata": {
    "ExecuteTime": {
     "end_time": "2024-12-27T05:46:20.670305Z",
     "start_time": "2024-12-27T05:46:20.663324Z"
    }
   },
   "outputs": [
    {
     "name": "stdout",
     "output_type": "stream",
     "text": [
      "['Emma', 'by', 'Jane', 'Austen', '1816', 'VOLUME', 'I', 'CHAPTER', 'I', 'Emma', 'Woodhouse', 'handsome', 'clever', 'and', 'rich', 'with', 'a', 'comfortable', 'home', 'and', 'happy', 'disposition', 'seemed', 'to', 'unite', 'some', 'of', 'the', 'best', 'blessings', 'of', 'existence', 'and', 'had', 'lived', 'nearly', 'twenty', 'one', 'years', 'in', 'the', 'world', 'with', 'very', 'little', 'to', 'distress', 'or', 'vex', 'her']\n"
     ]
    }
   ],
   "source": [
    "# RegexpTokenizer클래스 : 토큰화할 때 정규표현식 이용\n",
    "from nltk.tokenize import RegexpTokenizer\n",
    "ret = RegexpTokenizer('\\w+')\n",
    "words = ret.tokenize(sent_tokens[0])\n",
    "print(words)"
   ]
  },
  {
   "cell_type": "markdown",
   "id": "038dfdec",
   "metadata": {},
   "source": [
    "# 2. 형태소(의미있는 가장 작은 말의 단위) 분석\n",
    "- 자연어처리의 기본은 형태소 분석과 품사태깅\n",
    "    * 어간추출(stemming), 원형복원(lemmatizing), 품사태깅"
   ]
  },
  {
   "cell_type": "code",
   "execution_count": 19,
   "id": "17aa4c19",
   "metadata": {
    "ExecuteTime": {
     "end_time": "2024-12-27T05:52:45.950493Z",
     "start_time": "2024-12-27T05:52:45.943046Z"
    }
   },
   "outputs": [
    {
     "data": {
      "text/plain": [
       "('send', 'cook', 'file')"
      ]
     },
     "execution_count": 19,
     "metadata": {},
     "output_type": "execute_result"
    }
   ],
   "source": [
    "words = ['sending', 'cooking', 'files', 'lives', 'crying', 'dying']\n",
    "# (1) 어간 추출(1)\n",
    "from nltk.stem import PorterStemmer\n",
    "pst = PorterStemmer()\n",
    "pst.stem(words[0]), pst.stem(words[1]), pst.stem(words[2])"
   ]
  },
  {
   "cell_type": "code",
   "execution_count": 20,
   "id": "57d904a7",
   "metadata": {
    "ExecuteTime": {
     "end_time": "2024-12-27T05:53:48.798181Z",
     "start_time": "2024-12-27T05:53:48.791164Z"
    }
   },
   "outputs": [
    {
     "data": {
      "text/plain": [
       "['send', 'cook', 'file', 'live', 'cri', 'die']"
      ]
     },
     "execution_count": 20,
     "metadata": {},
     "output_type": "execute_result"
    }
   ],
   "source": [
    "[pst.stem(word) for word in words]"
   ]
  },
  {
   "cell_type": "code",
   "execution_count": 21,
   "id": "2092b6ad",
   "metadata": {
    "ExecuteTime": {
     "end_time": "2024-12-27T05:55:50.015320Z",
     "start_time": "2024-12-27T05:55:50.007309Z"
    }
   },
   "outputs": [
    {
     "data": {
      "text/plain": [
       "['send', 'cook', 'fil', 'liv', 'cry', 'dying']"
      ]
     },
     "execution_count": 21,
     "metadata": {},
     "output_type": "execute_result"
    }
   ],
   "source": [
    "# (2) 어간 추출(2)\n",
    "from nltk.stem import LancasterStemmer\n",
    "lst = LancasterStemmer()\n",
    "[lst.stem(word) for word in words]"
   ]
  },
  {
   "cell_type": "code",
   "execution_count": 22,
   "id": "7ecad0d7",
   "metadata": {
    "ExecuteTime": {
     "end_time": "2024-12-27T05:58:32.509268Z",
     "start_time": "2024-12-27T05:58:32.503272Z"
    }
   },
   "outputs": [
    {
     "data": {
      "text/plain": [
       "['send', 'cook', 'files', 'lives', 'cry', 'dy']"
      ]
     },
     "execution_count": 22,
     "metadata": {},
     "output_type": "execute_result"
    }
   ],
   "source": [
    "# 어간 추출 방법3\n",
    "from nltk.stem import RegexpStemmer\n",
    "rst = RegexpStemmer('ing')\n",
    "[rst.stem(word) for word in words]"
   ]
  },
  {
   "cell_type": "code",
   "execution_count": 23,
   "id": "7c23b24c",
   "metadata": {
    "ExecuteTime": {
     "end_time": "2024-12-27T06:13:09.303351Z",
     "start_time": "2024-12-27T06:13:09.296224Z"
    }
   },
   "outputs": [
    {
     "data": {
      "text/plain": [
       "['believ', 'cook']"
      ]
     },
     "execution_count": 23,
     "metadata": {},
     "output_type": "execute_result"
    }
   ],
   "source": [
    "# 어간을 추출할 경우 의미가 달라지는 경우 있어 원형복원을 하기도 함\n",
    "words2 = ['believes', 'cooking']\n",
    "[lst.stem(word) for word in words2]"
   ]
  },
  {
   "cell_type": "code",
   "execution_count": null,
   "id": "91f3cd97",
   "metadata": {},
   "outputs": [],
   "source": [
    "# 원형 복원\n",
    "from nltk.stem.wordnet import WordNetLemmatizer\n",
    "w1 = WordNetLemmatizer()\n",
    "[w1.]"
   ]
  },
  {
   "cell_type": "code",
   "execution_count": 25,
   "id": "1699db5a",
   "metadata": {
    "ExecuteTime": {
     "end_time": "2024-12-27T06:21:30.790004Z",
     "start_time": "2024-12-27T06:21:30.687271Z"
    }
   },
   "outputs": [
    {
     "name": "stdout",
     "output_type": "stream",
     "text": [
      "[('It', 'PRP'), ('was', 'VBD'), ('on', 'IN'), ('the', 'DT'), ('wedding-day', 'NN'), ('of', 'IN'), ('this', 'DT'), ('beloved', 'VBN'), ('friend', 'NN'), ('that', 'WDT'), ('Emma', 'NNP'), ('first', 'RB'), ('sat', 'VBD'), ('in', 'IN'), ('mournful', 'JJ'), ('thought', 'NN'), ('of', 'IN'), ('any', 'DT'), ('continuance', 'NN'), ('.', '.')]\n"
     ]
    }
   ],
   "source": [
    "# 품사 태깅 : sent_tokens[10]\n",
    "from nltk.tag import pos_tag\n",
    "words = word_tokenize(sent_tokens[10])\n",
    "tagged_list = pos_tag(words)\n",
    "print(tagged_list)"
   ]
  },
  {
   "cell_type": "markdown",
   "id": "14e0ea8c",
   "metadata": {},
   "source": [
    "퀴즈 : emma 소설 안에서\n",
    "1. 특수문자가 들어가지 않은 3글자 이상의 단어만 추출해서 품사 태깅을 하시오(RegexpTokenizer)\n",
    "    * emma 소설의 글자수, 단어 출현수, 단어종류수, 품사태깅한 데이터 초반 10개 출력\n",
    "2. 'Emma' 단어가 몇 번 등장하며, 품사 태깅이 어떤 품사들로 되어있는 지 모두 출력 하시오.(nnp, ..)\n",
    "3. 내가 원하는 품사(명사;nn, nns, nnp, nnps)의 단어만 뽑아 등장하는 명사의 종류 갯수를 출력하시오."
   ]
  },
  {
   "cell_type": "code",
   "execution_count": 62,
   "id": "6eb9bb40",
   "metadata": {
    "ExecuteTime": {
     "end_time": "2024-12-27T07:14:19.253516Z",
     "start_time": "2024-12-27T07:14:14.127009Z"
    }
   },
   "outputs": [
    {
     "name": "stdout",
     "output_type": "stream",
     "text": [
      "887071\n",
      "123877\n",
      "[('Emma', 'NNP'), ('Jane', 'NNP'), ('Austen', 'NNP'), ('1816', 'CD'), ('VOLUME', 'NNP'), ('CHAPTER', 'NNP'), ('Emma', 'NNP'), ('Woodhouse', 'NNP'), ('handsome', 'VBD'), ('clever', 'NN')]\n"
     ]
    }
   ],
   "source": [
    "# 1\n",
    "ret = RegexpTokenizer('\\w+')\n",
    "words_len3 = []\n",
    "for sentence in sent_tokens:\n",
    "    for word in ret.tokenize(sentence):\n",
    "        if len(word)>=3:\n",
    "            words_len3.append(word)\n",
    "tagged_list = pos_tag(words_len3)\n",
    "print(len(emma))\n",
    "print(len(words_len3))\n",
    "print(tagged_list[:10])"
   ]
  },
  {
   "cell_type": "code",
   "execution_count": 82,
   "id": "8f6d5f68",
   "metadata": {
    "ExecuteTime": {
     "end_time": "2024-12-27T07:35:23.494867Z",
     "start_time": "2024-12-27T07:35:17.590935Z"
    }
   },
   "outputs": [
    {
     "name": "stdout",
     "output_type": "stream",
     "text": [
      "Emma 단어 출현 횟수 : 865\n",
      "Emma가 사용된 품사의 종류 : {'VBP', 'RB', 'NNP', 'JJ', 'VBN', 'NNS', 'VB', 'NNPS', 'NN'}\n"
     ]
    }
   ],
   "source": [
    "# 2\n",
    "emma = nltk.corpus.gutenberg.raw('austen-emma.txt')\n",
    "ret = RegexpTokenizer('\\w+')\n",
    "words = ret.tokenize(emma)\n",
    "pos_emma = []\n",
    "\n",
    "words = ret.tokenize(emma)\n",
    "tagged_list = pos_tag(words)\n",
    "for tag in tagged_list:\n",
    "    if tag[0] == 'Emma':\n",
    "        pos_emma.append(tag[1])\n",
    "print('Emma 단어 출현 횟수 :', emma.count('Emma'))\n",
    "print('Emma가 사용된 품사의 종류 :', set(pos_emma))"
   ]
  },
  {
   "cell_type": "code",
   "execution_count": 78,
   "id": "899d42b0",
   "metadata": {
    "ExecuteTime": {
     "end_time": "2024-12-27T07:32:09.133206Z",
     "start_time": "2024-12-27T07:32:09.086911Z"
    }
   },
   "outputs": [
    {
     "name": "stdout",
     "output_type": "stream",
     "text": [
      "명사가 나온 횟수 : 30781\n",
      "출력한 명사의 수(반복제거) : 4165\n",
      "한단어가 나오는 평균 빈도수 : 7.3903961584633855\n"
     ]
    }
   ],
   "source": [
    "# 3\n",
    "cnt=0\n",
    "tag_n = []\n",
    "for tag in tagged_list:\n",
    "    if tag[1][0] == 'N':\n",
    "        cnt += 1\n",
    "        tag_n.append(tag[0])\n",
    "print('명사가 나온 횟수 :', cnt)\n",
    "print('출력한 명사의 수(반복제거) :', len(set(tag_n)))\n",
    "print('한단어가 나오는 평균 빈도수 :', cnt/len(set(tag_n)))"
   ]
  },
  {
   "cell_type": "code",
   "execution_count": null,
   "id": "5bb7e470",
   "metadata": {},
   "outputs": [],
   "source": []
  },
  {
   "cell_type": "code",
   "execution_count": null,
   "id": "734b2019",
   "metadata": {},
   "outputs": [],
   "source": []
  },
  {
   "cell_type": "code",
   "execution_count": null,
   "id": "23c0db9b",
   "metadata": {},
   "outputs": [],
   "source": []
  },
  {
   "cell_type": "code",
   "execution_count": null,
   "id": "72f42562",
   "metadata": {},
   "outputs": [],
   "source": []
  },
  {
   "cell_type": "code",
   "execution_count": null,
   "id": "f6938157",
   "metadata": {},
   "outputs": [],
   "source": []
  },
  {
   "cell_type": "code",
   "execution_count": null,
   "id": "8deba92c",
   "metadata": {},
   "outputs": [],
   "source": []
  },
  {
   "cell_type": "code",
   "execution_count": null,
   "id": "0be2c5f2",
   "metadata": {},
   "outputs": [],
   "source": []
  },
  {
   "cell_type": "code",
   "execution_count": null,
   "id": "ab880e1a",
   "metadata": {},
   "outputs": [],
   "source": []
  },
  {
   "cell_type": "code",
   "execution_count": null,
   "id": "954918fe",
   "metadata": {},
   "outputs": [],
   "source": []
  },
  {
   "cell_type": "code",
   "execution_count": null,
   "id": "164c21bc",
   "metadata": {},
   "outputs": [],
   "source": []
  },
  {
   "cell_type": "code",
   "execution_count": null,
   "id": "ddde1ed6",
   "metadata": {},
   "outputs": [],
   "source": []
  },
  {
   "cell_type": "code",
   "execution_count": null,
   "id": "b83036c0",
   "metadata": {},
   "outputs": [],
   "source": []
  },
  {
   "cell_type": "code",
   "execution_count": null,
   "id": "19c7af2a",
   "metadata": {},
   "outputs": [],
   "source": []
  },
  {
   "cell_type": "code",
   "execution_count": null,
   "id": "911cc922",
   "metadata": {},
   "outputs": [],
   "source": []
  },
  {
   "cell_type": "code",
   "execution_count": null,
   "id": "4bf545c7",
   "metadata": {},
   "outputs": [],
   "source": []
  },
  {
   "cell_type": "code",
   "execution_count": null,
   "id": "f5e7ab7c",
   "metadata": {},
   "outputs": [],
   "source": []
  },
  {
   "cell_type": "code",
   "execution_count": null,
   "id": "7f4d8e92",
   "metadata": {},
   "outputs": [],
   "source": []
  },
  {
   "cell_type": "code",
   "execution_count": null,
   "id": "e9494031",
   "metadata": {},
   "outputs": [],
   "source": []
  },
  {
   "cell_type": "code",
   "execution_count": null,
   "id": "f4a6ae7d",
   "metadata": {},
   "outputs": [],
   "source": []
  },
  {
   "cell_type": "code",
   "execution_count": null,
   "id": "1dafa811",
   "metadata": {},
   "outputs": [],
   "source": []
  },
  {
   "cell_type": "code",
   "execution_count": null,
   "id": "a80a3b06",
   "metadata": {},
   "outputs": [],
   "source": []
  },
  {
   "cell_type": "code",
   "execution_count": null,
   "id": "acbb3c98",
   "metadata": {},
   "outputs": [],
   "source": []
  },
  {
   "cell_type": "code",
   "execution_count": null,
   "id": "6eb14b29",
   "metadata": {},
   "outputs": [],
   "source": []
  },
  {
   "cell_type": "code",
   "execution_count": null,
   "id": "ebb33b73",
   "metadata": {},
   "outputs": [],
   "source": []
  },
  {
   "cell_type": "code",
   "execution_count": null,
   "id": "14ab2e01",
   "metadata": {},
   "outputs": [],
   "source": []
  },
  {
   "cell_type": "code",
   "execution_count": null,
   "id": "eff39e28",
   "metadata": {},
   "outputs": [],
   "source": []
  }
 ],
 "metadata": {
  "kernelspec": {
   "display_name": "Python 3 (ipykernel)",
   "language": "python",
   "name": "python3"
  },
  "language_info": {
   "codemirror_mode": {
    "name": "ipython",
    "version": 3
   },
   "file_extension": ".py",
   "mimetype": "text/x-python",
   "name": "python",
   "nbconvert_exporter": "python",
   "pygments_lexer": "ipython3",
   "version": "3.10.9"
  },
  "toc": {
   "base_numbering": 1,
   "nav_menu": {},
   "number_sections": true,
   "sideBar": true,
   "skip_h1_title": false,
   "title_cell": "Table of Contents",
   "title_sidebar": "Contents",
   "toc_cell": false,
   "toc_position": {},
   "toc_section_display": true,
   "toc_window_display": false
  }
 },
 "nbformat": 4,
 "nbformat_minor": 5
}
