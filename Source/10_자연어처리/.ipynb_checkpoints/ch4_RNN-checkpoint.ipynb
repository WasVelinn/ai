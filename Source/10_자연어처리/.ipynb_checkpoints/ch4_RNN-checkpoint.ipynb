{
 "cells": [
  {
   "cell_type": "code",
   "execution_count": 1,
   "id": "f36993e4",
   "metadata": {},
   "outputs": [
    {
     "data": {
      "text/html": [
       "\n",
       "<style>\n",
       "div.container{width:99% !important;}\n",
       "div.cell.code_cell.rendered{width:99%;}\n",
       "div.CodeMirror {font-family:Consolas; font-size:20pt;}\n",
       "div.output {font-size:18pt; font-weight:bold;}\n",
       "div.input {font-family:Consolas; font-size:19pt;}\n",
       "div.prompt {min-width:70px;}\n",
       "div#toc-wrapper{padding-top:120px;}\n",
       "span.toc-item-num{display:none;}\n",
       "div.text_cell_render ul li{font-size:16pt;padding:5px;}\n",
       "div.CodeMirror-lines > div {padding-left:10px;}\n",
       "table.dataframe{font-size:19px;}\n",
       "</style>\n"
      ],
      "text/plain": [
       "<IPython.core.display.HTML object>"
      ]
     },
     "metadata": {},
     "output_type": "display_data"
    }
   ],
   "source": [
    "from IPython.display import display, HTML\n",
    "display(HTML(\"\"\"\n",
    "<style>\n",
    "div.container{width:99% !important;}\n",
    "div.cell.code_cell.rendered{width:99%;}\n",
    "div.CodeMirror {font-family:Consolas; font-size:20pt;}\n",
    "div.output {font-size:18pt; font-weight:bold;}\n",
    "div.input {font-family:Consolas; font-size:19pt;}\n",
    "div.prompt {min-width:70px;}\n",
    "div#toc-wrapper{padding-top:120px;}\n",
    "span.toc-item-num{display:none;}\n",
    "div.text_cell_render ul li{font-size:16pt;padding:5px;}\n",
    "div.CodeMirror-lines > div {padding-left:10px;}\n",
    "table.dataframe{font-size:19px;}\n",
    "</style>\n",
    "\"\"\"))"
   ]
  },
  {
   "cell_type": "markdown",
   "id": "8762c08c",
   "metadata": {},
   "source": [
    "**<font size=\"5\" color=\"red\">ch4. RNN(Recurrent Neural Network 순환신경망</font>**\n",
    "# 1. 문맥을 이용하여 모델만들기 - 자연어 전처리"
   ]
  },
  {
   "cell_type": "code",
   "execution_count": 1,
   "id": "24d54f11",
   "metadata": {
    "ExecuteTime": {
     "end_time": "2025-01-02T00:31:27.748975Z",
     "start_time": "2025-01-02T00:31:27.743989Z"
    }
   },
   "outputs": [],
   "source": [
    "text = \"\"\"경마장에 있는 말이 뛰고 있다\n",
    "그의 말이 법이다\n",
    "가는 말이 고와야 오는 말이 곱다\"\"\""
   ]
  },
  {
   "cell_type": "code",
   "execution_count": 2,
   "id": "27808188",
   "metadata": {
    "ExecuteTime": {
     "end_time": "2025-01-02T00:31:31.840930Z",
     "start_time": "2025-01-02T00:31:31.695314Z"
    }
   },
   "outputs": [
    {
     "name": "stdout",
     "output_type": "stream",
     "text": [
      "[2, 3, 1, 4, 5, 6, 1, 7, 8, 1, 9, 10, 1, 11]\n",
      "{'말이': 1, '경마장에': 2, '있는': 3, '뛰고': 4, '있다': 5, '그의': 6, '법이다': 7, '가는': 8, '고와야': 9, '오는': 10, '곱다': 11}\n"
     ]
    }
   ],
   "source": [
    "from keras_preprocessing.text import Tokenizer\n",
    "t = Tokenizer()\n",
    "t.fit_on_texts([text])\n",
    "encoded = t.texts_to_sequences([text])[0]\n",
    "print(encoded)\n",
    "print(t.word_index)"
   ]
  },
  {
   "cell_type": "code",
   "execution_count": 8,
   "id": "14744fee",
   "metadata": {
    "ExecuteTime": {
     "end_time": "2025-01-02T00:55:30.277422Z",
     "start_time": "2025-01-02T00:55:30.271178Z"
    }
   },
   "outputs": [
    {
     "name": "stdout",
     "output_type": "stream",
     "text": [
      "[[2, 1, 5], [1, 4]]\n",
      "[[2, 1, 5]]\n"
     ]
    }
   ],
   "source": [
    "# 문자열 리스트를 인덱스 시퀀스로 반환\n",
    "print(t.texts_to_sequences(['경마장에 말이 있다', '말이 뛰고']))\n",
    "print(t.texts_to_sequences(['경마장에 말이 있다']))"
   ]
  },
  {
   "cell_type": "code",
   "execution_count": 17,
   "id": "3f705189",
   "metadata": {
    "ExecuteTime": {
     "end_time": "2025-01-02T01:41:43.023505Z",
     "start_time": "2025-01-02T01:41:43.016141Z"
    }
   },
   "outputs": [
    {
     "name": "stdout",
     "output_type": "stream",
     "text": [
      "원래 문장 : 경마장에 있는 말이 뛰고 있다\n",
      "encoded된 문장 : [2, 3, 1, 4, 5]\n",
      "원래 문장 : 그의 말이 법이다\n",
      "encoded된 문장 : [6, 1, 7]\n",
      "원래 문장 : 가는 말이 고와야 오는 말이 곱다\n",
      "encoded된 문장 : [8, 1, 9, 10, 1, 11]\n",
      "sequence와 해석을 출력\n",
      "[2 : 경마장에 3 : 있는 ]\n",
      "[2 : 경마장에 3 : 있는 1 : 말이 ]\n",
      "[2 : 경마장에 3 : 있는 1 : 말이 4 : 뛰고 ]\n",
      "[2 : 경마장에 3 : 있는 1 : 말이 4 : 뛰고 5 : 있다 ]\n",
      "[3 : 있는 1 : 말이 ]\n",
      "[3 : 있는 1 : 말이 4 : 뛰고 ]\n",
      "[3 : 있는 1 : 말이 4 : 뛰고 5 : 있다 ]\n",
      "[1 : 말이 4 : 뛰고 ]\n",
      "[1 : 말이 4 : 뛰고 5 : 있다 ]\n",
      "[4 : 뛰고 5 : 있다 ]\n",
      "[6 : 그의 1 : 말이 ]\n",
      "[6 : 그의 1 : 말이 7 : 법이다 ]\n",
      "[1 : 말이 7 : 법이다 ]\n",
      "[8 : 가는 1 : 말이 ]\n",
      "[8 : 가는 1 : 말이 9 : 고와야 ]\n",
      "[8 : 가는 1 : 말이 9 : 고와야 10 : 오는 ]\n",
      "[8 : 가는 1 : 말이 9 : 고와야 10 : 오는 1 : 말이 ]\n",
      "[8 : 가는 1 : 말이 9 : 고와야 10 : 오는 1 : 말이 11 : 곱다 ]\n",
      "[1 : 말이 9 : 고와야 ]\n",
      "[1 : 말이 9 : 고와야 10 : 오는 ]\n",
      "[1 : 말이 9 : 고와야 10 : 오는 1 : 말이 ]\n",
      "[1 : 말이 9 : 고와야 10 : 오는 1 : 말이 11 : 곱다 ]\n",
      "[9 : 고와야 10 : 오는 ]\n",
      "[9 : 고와야 10 : 오는 1 : 말이 ]\n",
      "[9 : 고와야 10 : 오는 1 : 말이 11 : 곱다 ]\n",
      "[10 : 오는 1 : 말이 ]\n",
      "[10 : 오는 1 : 말이 11 : 곱다 ]\n",
      "[1 : 말이 11 : 곱다 ]\n"
     ]
    }
   ],
   "source": [
    "# text를 학습시키기 위해 ['경마장에 있는', '경마장에 있는 말이', '경마장에 있는 말이 뛰고', '경마장에 있는 말이 뛰고 있다.'...]\n",
    "sequences = []\n",
    "for line in text.split('\\n'):\n",
    "    print('원래 문장 :', line)\n",
    "    encoded = t.texts_to_sequences([line])[0]\n",
    "    print('encoded된 문장 :', encoded)\n",
    "    for i in range(0, len(encoded)-1): # 빨간색 시작 index\n",
    "        for j in range(i+2, len(encoded)+1): # 끝나는 index(파란색 화살표)\n",
    "            sequences.append(encoded[i:j])\n",
    "# sequences\n",
    "print('sequence와 해석을 출력')\n",
    "for sequence in sequences:\n",
    "    print('[', end='')\n",
    "    for word_seq in sequence:\n",
    "        for word, value in t.word_index.items():\n",
    "            if word_seq == value:\n",
    "                print(\"{} : {}\".format(word_seq, word), end=' ')\n",
    "                break\n",
    "    print(']')"
   ]
  },
  {
   "cell_type": "code",
   "execution_count": 15,
   "id": "1c21f5c3",
   "metadata": {
    "ExecuteTime": {
     "end_time": "2025-01-02T01:36:34.108169Z",
     "start_time": "2025-01-02T01:36:34.103149Z"
    }
   },
   "outputs": [
    {
     "name": "stdout",
     "output_type": "stream",
     "text": [
      "{'말이': 1, '경마장에': 2, '있는': 3, '뛰고': 4, '있다': 5, '그의': 6, '법이다': 7, '가는': 8, '고와야': 9, '오는': 10, '곱다': 11}\n",
      "2 : 경마장에\n"
     ]
    }
   ],
   "source": [
    "print(t.word_index)\n",
    "for word, value in t.word_index.items():\n",
    "    if value == 2:\n",
    "        print('2 :', word)\n",
    "        break"
   ]
  },
  {
   "cell_type": "code",
   "execution_count": 22,
   "id": "dfb6c9ad",
   "metadata": {
    "ExecuteTime": {
     "end_time": "2025-01-02T01:49:59.700053Z",
     "start_time": "2025-01-02T01:49:59.695098Z"
    }
   },
   "outputs": [],
   "source": [
    "# sequence 별 len\n",
    "len_seq = [len(sequence) for sequence in sequences]"
   ]
  },
  {
   "cell_type": "code",
   "execution_count": 24,
   "id": "816b7b32",
   "metadata": {
    "ExecuteTime": {
     "end_time": "2025-01-02T01:50:08.364974Z",
     "start_time": "2025-01-02T01:50:08.358957Z"
    }
   },
   "outputs": [
    {
     "data": {
      "text/plain": [
       "6"
      ]
     },
     "execution_count": 24,
     "metadata": {},
     "output_type": "execute_result"
    }
   ],
   "source": [
    "my_len = max(len_seq)\n",
    "my_len"
   ]
  },
  {
   "cell_type": "code",
   "execution_count": 30,
   "id": "65b23111",
   "metadata": {
    "ExecuteTime": {
     "end_time": "2025-01-02T02:07:01.238554Z",
     "start_time": "2025-01-02T02:07:01.230800Z"
    }
   },
   "outputs": [
    {
     "name": "stdout",
     "output_type": "stream",
     "text": [
      "[[ 0  0  0  0  2  3]\n",
      " [ 0  0  0  2  3  1]\n",
      " [ 0  0  2  3  1  4]\n",
      " [ 0  2  3  1  4  5]\n",
      " [ 0  0  0  0  3  1]\n",
      " [ 0  0  0  3  1  4]\n",
      " [ 0  0  3  1  4  5]\n",
      " [ 0  0  0  0  1  4]\n",
      " [ 0  0  0  1  4  5]\n",
      " [ 0  0  0  0  4  5]\n",
      " [ 0  0  0  0  6  1]\n",
      " [ 0  0  0  6  1  7]\n",
      " [ 0  0  0  0  1  7]\n",
      " [ 0  0  0  0  8  1]\n",
      " [ 0  0  0  8  1  9]\n",
      " [ 0  0  8  1  9 10]\n",
      " [ 0  8  1  9 10  1]\n",
      " [ 8  1  9 10  1 11]\n",
      " [ 0  0  0  0  1  9]\n",
      " [ 0  0  0  1  9 10]\n",
      " [ 0  0  1  9 10  1]\n",
      " [ 0  1  9 10  1 11]\n",
      " [ 0  0  0  0  9 10]\n",
      " [ 0  0  0  9 10  1]\n",
      " [ 0  0  9 10  1 11]\n",
      " [ 0  0  0  0 10  1]\n",
      " [ 0  0  0 10  1 11]\n",
      " [ 0  0  0  0  1 11]]\n"
     ]
    },
    {
     "data": {
      "text/plain": [
       "(numpy.ndarray, None)"
      ]
     },
     "execution_count": 30,
     "metadata": {},
     "output_type": "execute_result"
    }
   ],
   "source": [
    "# sequences를 훈련 가능하도록 6개열로 조정\n",
    "from tensorflow.keras.preprocessing.sequence import pad_sequences\n",
    "padded_sequences = pad_sequences(sequences=sequences, maxlen=my_len,\n",
    "                                 # padding = 'post',\n",
    "                                 padding='pre', # 최대 열 수보다 작은 경우 0을 채울 위치\n",
    "                                 truncating='pre'\n",
    "                                 )\n",
    "type(padded_sequences), print(padded_sequences)"
   ]
  },
  {
   "cell_type": "code",
   "execution_count": 32,
   "id": "1a072dac",
   "metadata": {
    "ExecuteTime": {
     "end_time": "2025-01-02T02:11:10.052034Z",
     "start_time": "2025-01-02T02:11:10.047131Z"
    }
   },
   "outputs": [],
   "source": [
    "# 독립변수(X)와 타겟변수(종속변수 Y)로 분리\n",
    "X = padded_sequences[:, :-1]\n",
    "y = padded_sequences[:, -1]"
   ]
  },
  {
   "cell_type": "code",
   "execution_count": 37,
   "id": "bcb689c4",
   "metadata": {
    "ExecuteTime": {
     "end_time": "2025-01-02T02:11:41.548723Z",
     "start_time": "2025-01-02T02:11:41.542739Z"
    }
   },
   "outputs": [
    {
     "data": {
      "text/plain": [
       "((28, 5), (28,))"
      ]
     },
     "execution_count": 37,
     "metadata": {},
     "output_type": "execute_result"
    }
   ],
   "source": [
    "X.shape, y.shape"
   ]
  },
  {
   "cell_type": "code",
   "execution_count": 40,
   "id": "396b4e17",
   "metadata": {
    "ExecuteTime": {
     "end_time": "2025-01-02T02:19:57.211474Z",
     "start_time": "2025-01-02T02:19:57.207484Z"
    }
   },
   "outputs": [],
   "source": [
    "# 단어 갯수\n",
    "vocab_size = len(t.word_index)"
   ]
  },
  {
   "cell_type": "code",
   "execution_count": 41,
   "id": "c04bb0e4",
   "metadata": {
    "ExecuteTime": {
     "end_time": "2025-01-02T02:20:05.606717Z",
     "start_time": "2025-01-02T02:20:05.598727Z"
    }
   },
   "outputs": [
    {
     "data": {
      "text/plain": [
       "array([[0., 0., 0., 1., 0., 0., 0., 0., 0., 0., 0., 0.],\n",
       "       [0., 1., 0., 0., 0., 0., 0., 0., 0., 0., 0., 0.],\n",
       "       [0., 0., 0., 0., 1., 0., 0., 0., 0., 0., 0., 0.],\n",
       "       [0., 0., 0., 0., 0., 1., 0., 0., 0., 0., 0., 0.],\n",
       "       [0., 1., 0., 0., 0., 0., 0., 0., 0., 0., 0., 0.],\n",
       "       [0., 0., 0., 0., 1., 0., 0., 0., 0., 0., 0., 0.],\n",
       "       [0., 0., 0., 0., 0., 1., 0., 0., 0., 0., 0., 0.],\n",
       "       [0., 0., 0., 0., 1., 0., 0., 0., 0., 0., 0., 0.],\n",
       "       [0., 0., 0., 0., 0., 1., 0., 0., 0., 0., 0., 0.],\n",
       "       [0., 0., 0., 0., 0., 1., 0., 0., 0., 0., 0., 0.],\n",
       "       [0., 1., 0., 0., 0., 0., 0., 0., 0., 0., 0., 0.],\n",
       "       [0., 0., 0., 0., 0., 0., 0., 1., 0., 0., 0., 0.],\n",
       "       [0., 0., 0., 0., 0., 0., 0., 1., 0., 0., 0., 0.],\n",
       "       [0., 1., 0., 0., 0., 0., 0., 0., 0., 0., 0., 0.],\n",
       "       [0., 0., 0., 0., 0., 0., 0., 0., 0., 1., 0., 0.],\n",
       "       [0., 0., 0., 0., 0., 0., 0., 0., 0., 0., 1., 0.],\n",
       "       [0., 1., 0., 0., 0., 0., 0., 0., 0., 0., 0., 0.],\n",
       "       [0., 0., 0., 0., 0., 0., 0., 0., 0., 0., 0., 1.],\n",
       "       [0., 0., 0., 0., 0., 0., 0., 0., 0., 1., 0., 0.],\n",
       "       [0., 0., 0., 0., 0., 0., 0., 0., 0., 0., 1., 0.],\n",
       "       [0., 1., 0., 0., 0., 0., 0., 0., 0., 0., 0., 0.],\n",
       "       [0., 0., 0., 0., 0., 0., 0., 0., 0., 0., 0., 1.],\n",
       "       [0., 0., 0., 0., 0., 0., 0., 0., 0., 0., 1., 0.],\n",
       "       [0., 1., 0., 0., 0., 0., 0., 0., 0., 0., 0., 0.],\n",
       "       [0., 0., 0., 0., 0., 0., 0., 0., 0., 0., 0., 1.],\n",
       "       [0., 1., 0., 0., 0., 0., 0., 0., 0., 0., 0., 0.],\n",
       "       [0., 0., 0., 0., 0., 0., 0., 0., 0., 0., 0., 1.],\n",
       "       [0., 0., 0., 0., 0., 0., 0., 0., 0., 0., 0., 1.]], dtype=float32)"
      ]
     },
     "execution_count": 41,
     "metadata": {},
     "output_type": "execute_result"
    }
   ],
   "source": [
    "# 원핫인코딩\n",
    "from tensorflow.keras.utils import to_categorical\n",
    "Y = to_categorical(y, vocab_size+1)\n",
    "Y"
   ]
  },
  {
   "cell_type": "code",
   "execution_count": 42,
   "id": "6b43a12d",
   "metadata": {
    "ExecuteTime": {
     "end_time": "2025-01-02T02:20:31.452718Z",
     "start_time": "2025-01-02T02:20:31.446734Z"
    }
   },
   "outputs": [
    {
     "data": {
      "text/plain": [
       "((28, 5), (28, 12))"
      ]
     },
     "execution_count": 42,
     "metadata": {},
     "output_type": "execute_result"
    }
   ],
   "source": [
    "X.shape, Y.shape"
   ]
  },
  {
   "cell_type": "markdown",
   "id": "0a4ec7b0",
   "metadata": {},
   "source": [
    "# 2. 모델 생성 (RNN)\n",
    "- 순서가 의미 있는 데이터를 학습할 경우 ex. 자연어처리, 연주, 주식, 날씨, ....."
   ]
  },
  {
   "cell_type": "code",
   "execution_count": 47,
   "id": "199048ab",
   "metadata": {
    "ExecuteTime": {
     "end_time": "2025-01-02T03:53:20.246016Z",
     "start_time": "2025-01-02T03:53:20.135202Z"
    }
   },
   "outputs": [
    {
     "name": "stdout",
     "output_type": "stream",
     "text": [
      "Model: \"sequential_3\"\n",
      "_________________________________________________________________\n",
      " Layer (type)                Output Shape              Param #   \n",
      "=================================================================\n",
      " embedding_3 (Embedding)     (None, 5, 10)             120       \n",
      "                                                                 \n",
      " simple_rnn_2 (SimpleRNN)    (None, 32)                1376      \n",
      "                                                                 \n",
      " dense_1 (Dense)             (None, 12)                396       \n",
      "                                                                 \n",
      "=================================================================\n",
      "Total params: 1,892\n",
      "Trainable params: 1,892\n",
      "Non-trainable params: 0\n",
      "_________________________________________________________________\n",
      "None\n"
     ]
    }
   ],
   "source": [
    "from tensorflow.keras.models import Sequential # 순차적 레이어 모델 생성\n",
    "from tensorflow.keras.layers import Embedding, SimpleRNN # 긴 희소행렬변환, RNN\n",
    "from tensorflow.keras.layers import Dense\n",
    "\n",
    "model = Sequential()\n",
    "# 희소행렬(12열) -> 10열 행렬 (28개 = 독립변수 행 수)\n",
    "model.add(Embedding(input_dim=vocab_size+1, # 12개 입력\n",
    "                    output_dim=vocab_size-1, # 10개 출력하기 위한 embedding \n",
    "                    input_length=X.shape[1] # 독립변수 데이터 수\n",
    "                    ))\n",
    "model.add(SimpleRNN(units=32))\n",
    "model.add(Dense(units=12, activation='softmax'))\n",
    "print(model.summary())"
   ]
  },
  {
   "cell_type": "code",
   "execution_count": 51,
   "id": "298869db",
   "metadata": {
    "ExecuteTime": {
     "end_time": "2025-01-02T03:55:37.471769Z",
     "start_time": "2025-01-02T03:55:30.550247Z"
    },
    "scrolled": false
   },
   "outputs": [
    {
     "name": "stdout",
     "output_type": "stream",
     "text": [
      "Epoch 1/300\n",
      "1/1 - 1s - loss: 0.2824 - accuracy: 0.8929 - 825ms/epoch - 825ms/step\n",
      "Epoch 2/300\n",
      "1/1 - 0s - loss: 0.2803 - accuracy: 0.8929 - 12ms/epoch - 12ms/step\n",
      "Epoch 3/300\n",
      "1/1 - 0s - loss: 0.2787 - accuracy: 0.8929 - 19ms/epoch - 19ms/step\n",
      "Epoch 4/300\n",
      "1/1 - 0s - loss: 0.2764 - accuracy: 0.8929 - 17ms/epoch - 17ms/step\n",
      "Epoch 5/300\n",
      "1/1 - 0s - loss: 0.2749 - accuracy: 0.8929 - 17ms/epoch - 17ms/step\n",
      "Epoch 6/300\n",
      "1/1 - 0s - loss: 0.2727 - accuracy: 0.8929 - 18ms/epoch - 18ms/step\n",
      "Epoch 7/300\n",
      "1/1 - 0s - loss: 0.2711 - accuracy: 0.8929 - 16ms/epoch - 16ms/step\n",
      "Epoch 8/300\n",
      "1/1 - 0s - loss: 0.2695 - accuracy: 0.8929 - 16ms/epoch - 16ms/step\n",
      "Epoch 9/300\n",
      "1/1 - 0s - loss: 0.2676 - accuracy: 0.8929 - 17ms/epoch - 17ms/step\n",
      "Epoch 10/300\n",
      "1/1 - 0s - loss: 0.2660 - accuracy: 0.8929 - 8ms/epoch - 8ms/step\n",
      "Epoch 11/300\n",
      "1/1 - 0s - loss: 0.2645 - accuracy: 0.8929 - 15ms/epoch - 15ms/step\n",
      "Epoch 12/300\n",
      "1/1 - 0s - loss: 0.2629 - accuracy: 0.8929 - 16ms/epoch - 16ms/step\n",
      "Epoch 13/300\n",
      "1/1 - 0s - loss: 0.2613 - accuracy: 0.8929 - 17ms/epoch - 17ms/step\n",
      "Epoch 14/300\n",
      "1/1 - 0s - loss: 0.2598 - accuracy: 0.8929 - 15ms/epoch - 15ms/step\n",
      "Epoch 15/300\n",
      "1/1 - 0s - loss: 0.2584 - accuracy: 0.8929 - 14ms/epoch - 14ms/step\n",
      "Epoch 16/300\n",
      "1/1 - 0s - loss: 0.2569 - accuracy: 0.8929 - 17ms/epoch - 17ms/step\n",
      "Epoch 17/300\n",
      "1/1 - 0s - loss: 0.2555 - accuracy: 0.8929 - 17ms/epoch - 17ms/step\n",
      "Epoch 18/300\n",
      "1/1 - 0s - loss: 0.2542 - accuracy: 0.8929 - 15ms/epoch - 15ms/step\n",
      "Epoch 19/300\n",
      "1/1 - 0s - loss: 0.2529 - accuracy: 0.8929 - 16ms/epoch - 16ms/step\n",
      "Epoch 20/300\n",
      "1/1 - 0s - loss: 0.2516 - accuracy: 0.8929 - 16ms/epoch - 16ms/step\n",
      "Epoch 21/300\n",
      "1/1 - 0s - loss: 0.2503 - accuracy: 0.8929 - 16ms/epoch - 16ms/step\n",
      "Epoch 22/300\n",
      "1/1 - 0s - loss: 0.2491 - accuracy: 0.8929 - 18ms/epoch - 18ms/step\n",
      "Epoch 23/300\n",
      "1/1 - 0s - loss: 0.2479 - accuracy: 0.8929 - 17ms/epoch - 17ms/step\n",
      "Epoch 24/300\n",
      "1/1 - 0s - loss: 0.2467 - accuracy: 0.8929 - 15ms/epoch - 15ms/step\n",
      "Epoch 25/300\n",
      "1/1 - 0s - loss: 0.2456 - accuracy: 0.8929 - 15ms/epoch - 15ms/step\n",
      "Epoch 26/300\n",
      "1/1 - 0s - loss: 0.2445 - accuracy: 0.8929 - 15ms/epoch - 15ms/step\n",
      "Epoch 27/300\n",
      "1/1 - 0s - loss: 0.2435 - accuracy: 0.8929 - 15ms/epoch - 15ms/step\n",
      "Epoch 28/300\n",
      "1/1 - 0s - loss: 0.2424 - accuracy: 0.8929 - 17ms/epoch - 17ms/step\n",
      "Epoch 29/300\n",
      "1/1 - 0s - loss: 0.2414 - accuracy: 0.8929 - 18ms/epoch - 18ms/step\n",
      "Epoch 30/300\n",
      "1/1 - 0s - loss: 0.2404 - accuracy: 0.8929 - 15ms/epoch - 15ms/step\n",
      "Epoch 31/300\n",
      "1/1 - 0s - loss: 0.2395 - accuracy: 0.8929 - 9ms/epoch - 9ms/step\n",
      "Epoch 32/300\n",
      "1/1 - 0s - loss: 0.2385 - accuracy: 0.8929 - 23ms/epoch - 23ms/step\n",
      "Epoch 33/300\n",
      "1/1 - 0s - loss: 0.2376 - accuracy: 0.8929 - 18ms/epoch - 18ms/step\n",
      "Epoch 34/300\n",
      "1/1 - 0s - loss: 0.2368 - accuracy: 0.8929 - 15ms/epoch - 15ms/step\n",
      "Epoch 35/300\n",
      "1/1 - 0s - loss: 0.2359 - accuracy: 0.8929 - 17ms/epoch - 17ms/step\n",
      "Epoch 36/300\n",
      "1/1 - 0s - loss: 0.2351 - accuracy: 0.8929 - 16ms/epoch - 16ms/step\n",
      "Epoch 37/300\n",
      "1/1 - 0s - loss: 0.2343 - accuracy: 0.8929 - 14ms/epoch - 14ms/step\n",
      "Epoch 38/300\n",
      "1/1 - 0s - loss: 0.2335 - accuracy: 0.8929 - 16ms/epoch - 16ms/step\n",
      "Epoch 39/300\n",
      "1/1 - 0s - loss: 0.2327 - accuracy: 0.8929 - 16ms/epoch - 16ms/step\n",
      "Epoch 40/300\n",
      "1/1 - 0s - loss: 0.2320 - accuracy: 0.8929 - 17ms/epoch - 17ms/step\n",
      "Epoch 41/300\n",
      "1/1 - 0s - loss: 0.2312 - accuracy: 0.8929 - 16ms/epoch - 16ms/step\n",
      "Epoch 42/300\n",
      "1/1 - 0s - loss: 0.2305 - accuracy: 0.8929 - 7ms/epoch - 7ms/step\n",
      "Epoch 43/300\n",
      "1/1 - 0s - loss: 0.2299 - accuracy: 0.8929 - 17ms/epoch - 17ms/step\n",
      "Epoch 44/300\n",
      "1/1 - 0s - loss: 0.2292 - accuracy: 0.8929 - 17ms/epoch - 17ms/step\n",
      "Epoch 45/300\n",
      "1/1 - 0s - loss: 0.2285 - accuracy: 0.8929 - 13ms/epoch - 13ms/step\n",
      "Epoch 46/300\n",
      "1/1 - 0s - loss: 0.2279 - accuracy: 0.8929 - 14ms/epoch - 14ms/step\n",
      "Epoch 47/300\n",
      "1/1 - 0s - loss: 0.2273 - accuracy: 0.8929 - 14ms/epoch - 14ms/step\n",
      "Epoch 48/300\n",
      "1/1 - 0s - loss: 0.2267 - accuracy: 0.8929 - 6ms/epoch - 6ms/step\n",
      "Epoch 49/300\n",
      "1/1 - 0s - loss: 0.2261 - accuracy: 0.8929 - 14ms/epoch - 14ms/step\n",
      "Epoch 50/300\n",
      "1/1 - 0s - loss: 0.2256 - accuracy: 0.8929 - 18ms/epoch - 18ms/step\n",
      "Epoch 51/300\n",
      "1/1 - 0s - loss: 0.2250 - accuracy: 0.8929 - 14ms/epoch - 14ms/step\n",
      "Epoch 52/300\n",
      "1/1 - 0s - loss: 0.2245 - accuracy: 0.8929 - 15ms/epoch - 15ms/step\n",
      "Epoch 53/300\n",
      "1/1 - 0s - loss: 0.2240 - accuracy: 0.8929 - 16ms/epoch - 16ms/step\n",
      "Epoch 54/300\n",
      "1/1 - 0s - loss: 0.2235 - accuracy: 0.8929 - 13ms/epoch - 13ms/step\n",
      "Epoch 55/300\n",
      "1/1 - 0s - loss: 0.2230 - accuracy: 0.8929 - 15ms/epoch - 15ms/step\n",
      "Epoch 56/300\n",
      "1/1 - 0s - loss: 0.2225 - accuracy: 0.8929 - 18ms/epoch - 18ms/step\n",
      "Epoch 57/300\n",
      "1/1 - 0s - loss: 0.2220 - accuracy: 0.8929 - 16ms/epoch - 16ms/step\n",
      "Epoch 58/300\n",
      "1/1 - 0s - loss: 0.2216 - accuracy: 0.8929 - 13ms/epoch - 13ms/step\n",
      "Epoch 59/300\n",
      "1/1 - 0s - loss: 0.2212 - accuracy: 0.8929 - 17ms/epoch - 17ms/step\n",
      "Epoch 60/300\n",
      "1/1 - 0s - loss: 0.2207 - accuracy: 0.8929 - 16ms/epoch - 16ms/step\n",
      "Epoch 61/300\n",
      "1/1 - 0s - loss: 0.2203 - accuracy: 0.8929 - 17ms/epoch - 17ms/step\n",
      "Epoch 62/300\n",
      "1/1 - 0s - loss: 0.2199 - accuracy: 0.8929 - 16ms/epoch - 16ms/step\n",
      "Epoch 63/300\n",
      "1/1 - 0s - loss: 0.2195 - accuracy: 0.8929 - 17ms/epoch - 17ms/step\n",
      "Epoch 64/300\n",
      "1/1 - 0s - loss: 0.2191 - accuracy: 0.8929 - 17ms/epoch - 17ms/step\n",
      "Epoch 65/300\n",
      "1/1 - 0s - loss: 0.2187 - accuracy: 0.8929 - 15ms/epoch - 15ms/step\n",
      "Epoch 66/300\n",
      "1/1 - 0s - loss: 0.2184 - accuracy: 0.8929 - 16ms/epoch - 16ms/step\n",
      "Epoch 67/300\n",
      "1/1 - 0s - loss: 0.2180 - accuracy: 0.8929 - 15ms/epoch - 15ms/step\n",
      "Epoch 68/300\n",
      "1/1 - 0s - loss: 0.2177 - accuracy: 0.8929 - 15ms/epoch - 15ms/step\n",
      "Epoch 69/300\n",
      "1/1 - 0s - loss: 0.2173 - accuracy: 0.8929 - 16ms/epoch - 16ms/step\n",
      "Epoch 70/300\n",
      "1/1 - 0s - loss: 0.2170 - accuracy: 0.8929 - 18ms/epoch - 18ms/step\n",
      "Epoch 71/300\n",
      "1/1 - 0s - loss: 0.2167 - accuracy: 0.8929 - 16ms/epoch - 16ms/step\n",
      "Epoch 72/300\n",
      "1/1 - 0s - loss: 0.2164 - accuracy: 0.8929 - 16ms/epoch - 16ms/step\n",
      "Epoch 73/300\n",
      "1/1 - 0s - loss: 0.2161 - accuracy: 0.8929 - 15ms/epoch - 15ms/step\n",
      "Epoch 74/300\n",
      "1/1 - 0s - loss: 0.2158 - accuracy: 0.8929 - 7ms/epoch - 7ms/step\n",
      "Epoch 75/300\n",
      "1/1 - 0s - loss: 0.2155 - accuracy: 0.8929 - 16ms/epoch - 16ms/step\n",
      "Epoch 76/300\n",
      "1/1 - 0s - loss: 0.2152 - accuracy: 0.8929 - 16ms/epoch - 16ms/step\n",
      "Epoch 77/300\n",
      "1/1 - 0s - loss: 0.2149 - accuracy: 0.8929 - 21ms/epoch - 21ms/step\n",
      "Epoch 78/300\n",
      "1/1 - 0s - loss: 0.2146 - accuracy: 0.8929 - 16ms/epoch - 16ms/step\n",
      "Epoch 79/300\n",
      "1/1 - 0s - loss: 0.2144 - accuracy: 0.8929 - 17ms/epoch - 17ms/step\n",
      "Epoch 80/300\n",
      "1/1 - 0s - loss: 0.2141 - accuracy: 0.8929 - 17ms/epoch - 17ms/step\n",
      "Epoch 81/300\n",
      "1/1 - 0s - loss: 0.2138 - accuracy: 0.8929 - 16ms/epoch - 16ms/step\n",
      "Epoch 82/300\n",
      "1/1 - 0s - loss: 0.2136 - accuracy: 0.8929 - 10ms/epoch - 10ms/step\n",
      "Epoch 83/300\n",
      "1/1 - 0s - loss: 0.2133 - accuracy: 0.8929 - 15ms/epoch - 15ms/step\n",
      "Epoch 84/300\n",
      "1/1 - 0s - loss: 0.2131 - accuracy: 0.8929 - 18ms/epoch - 18ms/step\n",
      "Epoch 85/300\n",
      "1/1 - 0s - loss: 0.2129 - accuracy: 0.8929 - 16ms/epoch - 16ms/step\n",
      "Epoch 86/300\n",
      "1/1 - 0s - loss: 0.2127 - accuracy: 0.8929 - 17ms/epoch - 17ms/step\n",
      "Epoch 87/300\n",
      "1/1 - 0s - loss: 0.2124 - accuracy: 0.8929 - 15ms/epoch - 15ms/step\n",
      "Epoch 88/300\n",
      "1/1 - 0s - loss: 0.2122 - accuracy: 0.8929 - 16ms/epoch - 16ms/step\n",
      "Epoch 89/300\n",
      "1/1 - 0s - loss: 0.2120 - accuracy: 0.8929 - 17ms/epoch - 17ms/step\n",
      "Epoch 90/300\n",
      "1/1 - 0s - loss: 0.2118 - accuracy: 0.8929 - 16ms/epoch - 16ms/step\n",
      "Epoch 91/300\n",
      "1/1 - 0s - loss: 0.2116 - accuracy: 0.8929 - 24ms/epoch - 24ms/step\n",
      "Epoch 92/300\n",
      "1/1 - 0s - loss: 0.2114 - accuracy: 0.8929 - 18ms/epoch - 18ms/step\n",
      "Epoch 93/300\n",
      "1/1 - 0s - loss: 0.2112 - accuracy: 0.8929 - 13ms/epoch - 13ms/step\n",
      "Epoch 94/300\n",
      "1/1 - 0s - loss: 0.2110 - accuracy: 0.8929 - 22ms/epoch - 22ms/step\n",
      "Epoch 95/300\n",
      "1/1 - 0s - loss: 0.2108 - accuracy: 0.8929 - 17ms/epoch - 17ms/step\n",
      "Epoch 96/300\n",
      "1/1 - 0s - loss: 0.2106 - accuracy: 0.8929 - 16ms/epoch - 16ms/step\n",
      "Epoch 97/300\n",
      "1/1 - 0s - loss: 0.2105 - accuracy: 0.8929 - 16ms/epoch - 16ms/step\n",
      "Epoch 98/300\n",
      "1/1 - 0s - loss: 0.2103 - accuracy: 0.8929 - 16ms/epoch - 16ms/step\n",
      "Epoch 99/300\n",
      "1/1 - 0s - loss: 0.2101 - accuracy: 0.8929 - 15ms/epoch - 15ms/step\n",
      "Epoch 100/300\n",
      "1/1 - 0s - loss: 0.2099 - accuracy: 0.8929 - 16ms/epoch - 16ms/step\n",
      "Epoch 101/300\n",
      "1/1 - 0s - loss: 0.2098 - accuracy: 0.8929 - 17ms/epoch - 17ms/step\n",
      "Epoch 102/300\n",
      "1/1 - 0s - loss: 0.2096 - accuracy: 0.8929 - 15ms/epoch - 15ms/step\n"
     ]
    },
    {
     "name": "stdout",
     "output_type": "stream",
     "text": [
      "Epoch 103/300\n",
      "1/1 - 0s - loss: 0.2095 - accuracy: 0.8929 - 17ms/epoch - 17ms/step\n",
      "Epoch 104/300\n",
      "1/1 - 0s - loss: 0.2093 - accuracy: 0.8929 - 13ms/epoch - 13ms/step\n",
      "Epoch 105/300\n",
      "1/1 - 0s - loss: 0.2092 - accuracy: 0.8929 - 15ms/epoch - 15ms/step\n",
      "Epoch 106/300\n",
      "1/1 - 0s - loss: 0.2090 - accuracy: 0.8929 - 32ms/epoch - 32ms/step\n",
      "Epoch 107/300\n",
      "1/1 - 0s - loss: 0.2089 - accuracy: 0.8929 - 19ms/epoch - 19ms/step\n",
      "Epoch 108/300\n",
      "1/1 - 0s - loss: 0.2087 - accuracy: 0.8929 - 21ms/epoch - 21ms/step\n",
      "Epoch 109/300\n",
      "1/1 - 0s - loss: 0.2086 - accuracy: 0.8929 - 17ms/epoch - 17ms/step\n",
      "Epoch 110/300\n",
      "1/1 - 0s - loss: 0.2084 - accuracy: 0.8929 - 16ms/epoch - 16ms/step\n",
      "Epoch 111/300\n",
      "1/1 - 0s - loss: 0.2083 - accuracy: 0.8929 - 15ms/epoch - 15ms/step\n",
      "Epoch 112/300\n",
      "1/1 - 0s - loss: 0.2082 - accuracy: 0.8929 - 16ms/epoch - 16ms/step\n",
      "Epoch 113/300\n",
      "1/1 - 0s - loss: 0.2081 - accuracy: 0.8929 - 17ms/epoch - 17ms/step\n",
      "Epoch 114/300\n",
      "1/1 - 0s - loss: 0.2079 - accuracy: 0.8929 - 18ms/epoch - 18ms/step\n",
      "Epoch 115/300\n",
      "1/1 - 0s - loss: 0.2078 - accuracy: 0.8929 - 17ms/epoch - 17ms/step\n",
      "Epoch 116/300\n",
      "1/1 - 0s - loss: 0.2077 - accuracy: 0.8929 - 17ms/epoch - 17ms/step\n",
      "Epoch 117/300\n",
      "1/1 - 0s - loss: 0.2076 - accuracy: 0.8929 - 16ms/epoch - 16ms/step\n",
      "Epoch 118/300\n",
      "1/1 - 0s - loss: 0.2074 - accuracy: 0.8929 - 17ms/epoch - 17ms/step\n",
      "Epoch 119/300\n",
      "1/1 - 0s - loss: 0.2073 - accuracy: 0.8929 - 0s/epoch - 0s/step\n",
      "Epoch 120/300\n",
      "1/1 - 0s - loss: 0.2072 - accuracy: 0.8929 - 14ms/epoch - 14ms/step\n",
      "Epoch 121/300\n",
      "1/1 - 0s - loss: 0.2071 - accuracy: 0.8929 - 16ms/epoch - 16ms/step\n",
      "Epoch 122/300\n",
      "1/1 - 0s - loss: 0.2070 - accuracy: 0.8929 - 7ms/epoch - 7ms/step\n",
      "Epoch 123/300\n",
      "1/1 - 0s - loss: 0.2069 - accuracy: 0.8929 - 16ms/epoch - 16ms/step\n",
      "Epoch 124/300\n",
      "1/1 - 0s - loss: 0.2068 - accuracy: 0.8929 - 16ms/epoch - 16ms/step\n",
      "Epoch 125/300\n",
      "1/1 - 0s - loss: 0.2067 - accuracy: 0.8929 - 17ms/epoch - 17ms/step\n",
      "Epoch 126/300\n",
      "1/1 - 0s - loss: 0.2066 - accuracy: 0.8929 - 17ms/epoch - 17ms/step\n",
      "Epoch 127/300\n",
      "1/1 - 0s - loss: 0.2065 - accuracy: 0.8929 - 13ms/epoch - 13ms/step\n",
      "Epoch 128/300\n",
      "1/1 - 0s - loss: 0.2064 - accuracy: 0.8929 - 23ms/epoch - 23ms/step\n",
      "Epoch 129/300\n",
      "1/1 - 0s - loss: 0.2063 - accuracy: 0.8929 - 15ms/epoch - 15ms/step\n",
      "Epoch 130/300\n",
      "1/1 - 0s - loss: 0.2062 - accuracy: 0.8929 - 16ms/epoch - 16ms/step\n",
      "Epoch 131/300\n",
      "1/1 - 0s - loss: 0.2061 - accuracy: 0.8929 - 15ms/epoch - 15ms/step\n",
      "Epoch 132/300\n",
      "1/1 - 0s - loss: 0.2060 - accuracy: 0.8929 - 14ms/epoch - 14ms/step\n",
      "Epoch 133/300\n",
      "1/1 - 0s - loss: 0.2059 - accuracy: 0.8929 - 13ms/epoch - 13ms/step\n",
      "Epoch 134/300\n",
      "1/1 - 0s - loss: 0.2058 - accuracy: 0.8929 - 18ms/epoch - 18ms/step\n",
      "Epoch 135/300\n",
      "1/1 - 0s - loss: 0.2057 - accuracy: 0.8929 - 16ms/epoch - 16ms/step\n",
      "Epoch 136/300\n",
      "1/1 - 0s - loss: 0.2057 - accuracy: 0.8929 - 17ms/epoch - 17ms/step\n",
      "Epoch 137/300\n",
      "1/1 - 0s - loss: 0.2056 - accuracy: 0.8929 - 17ms/epoch - 17ms/step\n",
      "Epoch 138/300\n",
      "1/1 - 0s - loss: 0.2055 - accuracy: 0.8929 - 17ms/epoch - 17ms/step\n",
      "Epoch 139/300\n",
      "1/1 - 0s - loss: 0.2054 - accuracy: 0.8929 - 0s/epoch - 0s/step\n",
      "Epoch 140/300\n",
      "1/1 - 0s - loss: 0.2053 - accuracy: 0.8929 - 17ms/epoch - 17ms/step\n",
      "Epoch 141/300\n",
      "1/1 - 0s - loss: 0.2052 - accuracy: 0.8929 - 17ms/epoch - 17ms/step\n",
      "Epoch 142/300\n",
      "1/1 - 0s - loss: 0.2052 - accuracy: 0.8929 - 16ms/epoch - 16ms/step\n",
      "Epoch 143/300\n",
      "1/1 - 0s - loss: 0.2051 - accuracy: 0.8929 - 17ms/epoch - 17ms/step\n",
      "Epoch 144/300\n",
      "1/1 - 0s - loss: 0.2050 - accuracy: 0.8929 - 17ms/epoch - 17ms/step\n",
      "Epoch 145/300\n",
      "1/1 - 0s - loss: 0.2049 - accuracy: 0.8929 - 15ms/epoch - 15ms/step\n",
      "Epoch 146/300\n",
      "1/1 - 0s - loss: 0.2049 - accuracy: 0.8929 - 17ms/epoch - 17ms/step\n",
      "Epoch 147/300\n",
      "1/1 - 0s - loss: 0.2048 - accuracy: 0.8929 - 15ms/epoch - 15ms/step\n",
      "Epoch 148/300\n",
      "1/1 - 0s - loss: 0.2047 - accuracy: 0.8929 - 18ms/epoch - 18ms/step\n",
      "Epoch 149/300\n",
      "1/1 - 0s - loss: 0.2047 - accuracy: 0.8929 - 10ms/epoch - 10ms/step\n",
      "Epoch 150/300\n",
      "1/1 - 0s - loss: 0.2046 - accuracy: 0.8929 - 17ms/epoch - 17ms/step\n",
      "Epoch 151/300\n",
      "1/1 - 0s - loss: 0.2045 - accuracy: 0.8929 - 17ms/epoch - 17ms/step\n",
      "Epoch 152/300\n",
      "1/1 - 0s - loss: 0.2045 - accuracy: 0.8929 - 16ms/epoch - 16ms/step\n",
      "Epoch 153/300\n",
      "1/1 - 0s - loss: 0.2044 - accuracy: 0.8929 - 17ms/epoch - 17ms/step\n",
      "Epoch 154/300\n",
      "1/1 - 0s - loss: 0.2043 - accuracy: 0.8929 - 23ms/epoch - 23ms/step\n",
      "Epoch 155/300\n",
      "1/1 - 0s - loss: 0.2043 - accuracy: 0.8929 - 15ms/epoch - 15ms/step\n",
      "Epoch 156/300\n",
      "1/1 - 0s - loss: 0.2042 - accuracy: 0.8929 - 16ms/epoch - 16ms/step\n",
      "Epoch 157/300\n",
      "1/1 - 0s - loss: 0.2041 - accuracy: 0.8929 - 17ms/epoch - 17ms/step\n",
      "Epoch 158/300\n",
      "1/1 - 0s - loss: 0.2041 - accuracy: 0.8929 - 16ms/epoch - 16ms/step\n",
      "Epoch 159/300\n",
      "1/1 - 0s - loss: 0.2040 - accuracy: 0.8929 - 15ms/epoch - 15ms/step\n",
      "Epoch 160/300\n",
      "1/1 - 0s - loss: 0.2040 - accuracy: 0.8929 - 16ms/epoch - 16ms/step\n",
      "Epoch 161/300\n",
      "1/1 - 0s - loss: 0.2039 - accuracy: 0.8929 - 17ms/epoch - 17ms/step\n",
      "Epoch 162/300\n",
      "1/1 - 0s - loss: 0.2038 - accuracy: 0.8929 - 16ms/epoch - 16ms/step\n",
      "Epoch 163/300\n",
      "1/1 - 0s - loss: 0.2038 - accuracy: 0.8929 - 17ms/epoch - 17ms/step\n",
      "Epoch 164/300\n",
      "1/1 - 0s - loss: 0.2037 - accuracy: 0.8929 - 7ms/epoch - 7ms/step\n",
      "Epoch 165/300\n",
      "1/1 - 0s - loss: 0.2037 - accuracy: 0.8929 - 16ms/epoch - 16ms/step\n",
      "Epoch 166/300\n",
      "1/1 - 0s - loss: 0.2036 - accuracy: 0.8929 - 16ms/epoch - 16ms/step\n",
      "Epoch 167/300\n",
      "1/1 - 0s - loss: 0.2036 - accuracy: 0.8929 - 17ms/epoch - 17ms/step\n",
      "Epoch 168/300\n",
      "1/1 - 0s - loss: 0.2035 - accuracy: 0.8929 - 24ms/epoch - 24ms/step\n",
      "Epoch 169/300\n",
      "1/1 - 0s - loss: 0.2035 - accuracy: 0.8929 - 16ms/epoch - 16ms/step\n",
      "Epoch 170/300\n",
      "1/1 - 0s - loss: 0.2034 - accuracy: 0.8929 - 17ms/epoch - 17ms/step\n",
      "Epoch 171/300\n",
      "1/1 - 0s - loss: 0.2034 - accuracy: 0.8929 - 17ms/epoch - 17ms/step\n",
      "Epoch 172/300\n",
      "1/1 - 0s - loss: 0.2033 - accuracy: 0.8929 - 16ms/epoch - 16ms/step\n",
      "Epoch 173/300\n",
      "1/1 - 0s - loss: 0.2033 - accuracy: 0.8929 - 6ms/epoch - 6ms/step\n",
      "Epoch 174/300\n",
      "1/1 - 0s - loss: 0.2032 - accuracy: 0.8929 - 17ms/epoch - 17ms/step\n",
      "Epoch 175/300\n",
      "1/1 - 0s - loss: 0.2032 - accuracy: 0.8929 - 16ms/epoch - 16ms/step\n",
      "Epoch 176/300\n",
      "1/1 - 0s - loss: 0.2031 - accuracy: 0.8929 - 13ms/epoch - 13ms/step\n",
      "Epoch 177/300\n",
      "1/1 - 0s - loss: 0.2031 - accuracy: 0.8929 - 16ms/epoch - 16ms/step\n",
      "Epoch 178/300\n",
      "1/1 - 0s - loss: 0.2030 - accuracy: 0.8929 - 6ms/epoch - 6ms/step\n",
      "Epoch 179/300\n",
      "1/1 - 0s - loss: 0.2030 - accuracy: 0.8929 - 14ms/epoch - 14ms/step\n",
      "Epoch 180/300\n",
      "1/1 - 0s - loss: 0.2030 - accuracy: 0.8929 - 16ms/epoch - 16ms/step\n",
      "Epoch 181/300\n",
      "1/1 - 0s - loss: 0.2030 - accuracy: 0.8929 - 17ms/epoch - 17ms/step\n",
      "Epoch 182/300\n",
      "1/1 - 0s - loss: 0.2029 - accuracy: 0.8929 - 23ms/epoch - 23ms/step\n",
      "Epoch 183/300\n",
      "1/1 - 0s - loss: 0.2029 - accuracy: 0.8929 - 16ms/epoch - 16ms/step\n",
      "Epoch 184/300\n",
      "1/1 - 0s - loss: 0.2028 - accuracy: 0.8929 - 16ms/epoch - 16ms/step\n",
      "Epoch 185/300\n",
      "1/1 - 0s - loss: 0.2028 - accuracy: 0.8929 - 17ms/epoch - 17ms/step\n",
      "Epoch 186/300\n",
      "1/1 - 0s - loss: 0.2028 - accuracy: 0.8929 - 11ms/epoch - 11ms/step\n",
      "Epoch 187/300\n",
      "1/1 - 0s - loss: 0.2027 - accuracy: 0.8929 - 5ms/epoch - 5ms/step\n",
      "Epoch 188/300\n",
      "1/1 - 0s - loss: 0.2026 - accuracy: 0.8929 - 14ms/epoch - 14ms/step\n",
      "Epoch 189/300\n",
      "1/1 - 0s - loss: 0.2026 - accuracy: 0.8929 - 16ms/epoch - 16ms/step\n",
      "Epoch 190/300\n",
      "1/1 - 0s - loss: 0.2026 - accuracy: 0.8929 - 30ms/epoch - 30ms/step\n",
      "Epoch 191/300\n",
      "1/1 - 0s - loss: 0.2025 - accuracy: 0.8929 - 17ms/epoch - 17ms/step\n",
      "Epoch 192/300\n",
      "1/1 - 0s - loss: 0.2025 - accuracy: 0.8929 - 12ms/epoch - 12ms/step\n",
      "Epoch 193/300\n",
      "1/1 - 0s - loss: 0.2025 - accuracy: 0.8929 - 15ms/epoch - 15ms/step\n",
      "Epoch 194/300\n",
      "1/1 - 0s - loss: 0.2024 - accuracy: 0.8929 - 16ms/epoch - 16ms/step\n",
      "Epoch 195/300\n",
      "1/1 - 0s - loss: 0.2024 - accuracy: 0.8929 - 17ms/epoch - 17ms/step\n",
      "Epoch 196/300\n",
      "1/1 - 0s - loss: 0.2023 - accuracy: 0.8929 - 16ms/epoch - 16ms/step\n",
      "Epoch 197/300\n",
      "1/1 - 0s - loss: 0.2023 - accuracy: 0.8929 - 24ms/epoch - 24ms/step\n",
      "Epoch 198/300\n",
      "1/1 - 0s - loss: 0.2023 - accuracy: 0.8929 - 16ms/epoch - 16ms/step\n",
      "Epoch 199/300\n",
      "1/1 - 0s - loss: 0.2022 - accuracy: 0.8929 - 17ms/epoch - 17ms/step\n",
      "Epoch 200/300\n",
      "1/1 - 0s - loss: 0.2022 - accuracy: 0.8929 - 17ms/epoch - 17ms/step\n",
      "Epoch 201/300\n",
      "1/1 - 0s - loss: 0.2022 - accuracy: 0.8929 - 17ms/epoch - 17ms/step\n",
      "Epoch 202/300\n",
      "1/1 - 0s - loss: 0.2021 - accuracy: 0.8929 - 16ms/epoch - 16ms/step\n",
      "Epoch 203/300\n"
     ]
    },
    {
     "name": "stdout",
     "output_type": "stream",
     "text": [
      "1/1 - 0s - loss: 0.2021 - accuracy: 0.8929 - 14ms/epoch - 14ms/step\n",
      "Epoch 204/300\n",
      "1/1 - 0s - loss: 0.2021 - accuracy: 0.8929 - 17ms/epoch - 17ms/step\n",
      "Epoch 205/300\n",
      "1/1 - 0s - loss: 0.2020 - accuracy: 0.8929 - 15ms/epoch - 15ms/step\n",
      "Epoch 206/300\n",
      "1/1 - 0s - loss: 0.2020 - accuracy: 0.8929 - 15ms/epoch - 15ms/step\n",
      "Epoch 207/300\n",
      "1/1 - 0s - loss: 0.2020 - accuracy: 0.8929 - 17ms/epoch - 17ms/step\n",
      "Epoch 208/300\n",
      "1/1 - 0s - loss: 0.2019 - accuracy: 0.8929 - 17ms/epoch - 17ms/step\n",
      "Epoch 209/300\n",
      "1/1 - 0s - loss: 0.2019 - accuracy: 0.8929 - 14ms/epoch - 14ms/step\n",
      "Epoch 210/300\n",
      "1/1 - 0s - loss: 0.2019 - accuracy: 0.8929 - 15ms/epoch - 15ms/step\n",
      "Epoch 211/300\n",
      "1/1 - 0s - loss: 0.2019 - accuracy: 0.8929 - 15ms/epoch - 15ms/step\n",
      "Epoch 212/300\n",
      "1/1 - 0s - loss: 0.2018 - accuracy: 0.8929 - 16ms/epoch - 16ms/step\n",
      "Epoch 213/300\n",
      "1/1 - 0s - loss: 0.2018 - accuracy: 0.8929 - 16ms/epoch - 16ms/step\n",
      "Epoch 214/300\n",
      "1/1 - 0s - loss: 0.2018 - accuracy: 0.8929 - 4ms/epoch - 4ms/step\n",
      "Epoch 215/300\n",
      "1/1 - 0s - loss: 0.2017 - accuracy: 0.8929 - 16ms/epoch - 16ms/step\n",
      "Epoch 216/300\n",
      "1/1 - 0s - loss: 0.2017 - accuracy: 0.8929 - 16ms/epoch - 16ms/step\n",
      "Epoch 217/300\n",
      "1/1 - 0s - loss: 0.2017 - accuracy: 0.8929 - 17ms/epoch - 17ms/step\n",
      "Epoch 218/300\n",
      "1/1 - 0s - loss: 0.2017 - accuracy: 0.8929 - 16ms/epoch - 16ms/step\n",
      "Epoch 219/300\n",
      "1/1 - 0s - loss: 0.2016 - accuracy: 0.8929 - 4ms/epoch - 4ms/step\n",
      "Epoch 220/300\n",
      "1/1 - 0s - loss: 0.2016 - accuracy: 0.8929 - 14ms/epoch - 14ms/step\n",
      "Epoch 221/300\n",
      "1/1 - 0s - loss: 0.2016 - accuracy: 0.8929 - 14ms/epoch - 14ms/step\n",
      "Epoch 222/300\n",
      "1/1 - 0s - loss: 0.2016 - accuracy: 0.8929 - 23ms/epoch - 23ms/step\n",
      "Epoch 223/300\n",
      "1/1 - 0s - loss: 0.2015 - accuracy: 0.8929 - 15ms/epoch - 15ms/step\n",
      "Epoch 224/300\n",
      "1/1 - 0s - loss: 0.2015 - accuracy: 0.8929 - 17ms/epoch - 17ms/step\n",
      "Epoch 225/300\n",
      "1/1 - 0s - loss: 0.2015 - accuracy: 0.8929 - 16ms/epoch - 16ms/step\n",
      "Epoch 226/300\n",
      "1/1 - 0s - loss: 0.2015 - accuracy: 0.8929 - 9ms/epoch - 9ms/step\n",
      "Epoch 227/300\n",
      "1/1 - 0s - loss: 0.2014 - accuracy: 0.8929 - 17ms/epoch - 17ms/step\n",
      "Epoch 228/300\n",
      "1/1 - 0s - loss: 0.2014 - accuracy: 0.8929 - 10ms/epoch - 10ms/step\n",
      "Epoch 229/300\n",
      "1/1 - 0s - loss: 0.2014 - accuracy: 0.8929 - 17ms/epoch - 17ms/step\n",
      "Epoch 230/300\n",
      "1/1 - 0s - loss: 0.2014 - accuracy: 0.8929 - 16ms/epoch - 16ms/step\n",
      "Epoch 231/300\n",
      "1/1 - 0s - loss: 0.2013 - accuracy: 0.8929 - 5ms/epoch - 5ms/step\n",
      "Epoch 232/300\n",
      "1/1 - 0s - loss: 0.2013 - accuracy: 0.8929 - 5ms/epoch - 5ms/step\n",
      "Epoch 233/300\n",
      "1/1 - 0s - loss: 0.2013 - accuracy: 0.8929 - 5ms/epoch - 5ms/step\n",
      "Epoch 234/300\n",
      "1/1 - 0s - loss: 0.2013 - accuracy: 0.8929 - 17ms/epoch - 17ms/step\n",
      "Epoch 235/300\n",
      "1/1 - 0s - loss: 0.2012 - accuracy: 0.8929 - 15ms/epoch - 15ms/step\n",
      "Epoch 236/300\n",
      "1/1 - 0s - loss: 0.2012 - accuracy: 0.8929 - 18ms/epoch - 18ms/step\n",
      "Epoch 237/300\n",
      "1/1 - 0s - loss: 0.2012 - accuracy: 0.8929 - 16ms/epoch - 16ms/step\n",
      "Epoch 238/300\n",
      "1/1 - 0s - loss: 0.2012 - accuracy: 0.8929 - 16ms/epoch - 16ms/step\n",
      "Epoch 239/300\n",
      "1/1 - 0s - loss: 0.2012 - accuracy: 0.8929 - 16ms/epoch - 16ms/step\n",
      "Epoch 240/300\n",
      "1/1 - 0s - loss: 0.2011 - accuracy: 0.8929 - 16ms/epoch - 16ms/step\n",
      "Epoch 241/300\n",
      "1/1 - 0s - loss: 0.2011 - accuracy: 0.8929 - 17ms/epoch - 17ms/step\n",
      "Epoch 242/300\n",
      "1/1 - 0s - loss: 0.2011 - accuracy: 0.8929 - 16ms/epoch - 16ms/step\n",
      "Epoch 243/300\n",
      "1/1 - 0s - loss: 0.2011 - accuracy: 0.8929 - 14ms/epoch - 14ms/step\n",
      "Epoch 244/300\n",
      "1/1 - 0s - loss: 0.2011 - accuracy: 0.8929 - 14ms/epoch - 14ms/step\n",
      "Epoch 245/300\n",
      "1/1 - 0s - loss: 0.2010 - accuracy: 0.8929 - 15ms/epoch - 15ms/step\n",
      "Epoch 246/300\n",
      "1/1 - 0s - loss: 0.2010 - accuracy: 0.8929 - 16ms/epoch - 16ms/step\n",
      "Epoch 247/300\n",
      "1/1 - 0s - loss: 0.2010 - accuracy: 0.8929 - 13ms/epoch - 13ms/step\n",
      "Epoch 248/300\n",
      "1/1 - 0s - loss: 0.2010 - accuracy: 0.8929 - 15ms/epoch - 15ms/step\n",
      "Epoch 249/300\n",
      "1/1 - 0s - loss: 0.2010 - accuracy: 0.8929 - 19ms/epoch - 19ms/step\n",
      "Epoch 250/300\n",
      "1/1 - 0s - loss: 0.2009 - accuracy: 0.8929 - 18ms/epoch - 18ms/step\n",
      "Epoch 251/300\n",
      "1/1 - 0s - loss: 0.2009 - accuracy: 0.8929 - 16ms/epoch - 16ms/step\n",
      "Epoch 252/300\n",
      "1/1 - 0s - loss: 0.2009 - accuracy: 0.8929 - 14ms/epoch - 14ms/step\n",
      "Epoch 253/300\n",
      "1/1 - 0s - loss: 0.2009 - accuracy: 0.8929 - 14ms/epoch - 14ms/step\n",
      "Epoch 254/300\n",
      "1/1 - 0s - loss: 0.2009 - accuracy: 0.8929 - 24ms/epoch - 24ms/step\n",
      "Epoch 255/300\n",
      "1/1 - 0s - loss: 0.2008 - accuracy: 0.8929 - 16ms/epoch - 16ms/step\n",
      "Epoch 256/300\n",
      "1/1 - 0s - loss: 0.2008 - accuracy: 0.8929 - 12ms/epoch - 12ms/step\n",
      "Epoch 257/300\n",
      "1/1 - 0s - loss: 0.2008 - accuracy: 0.8929 - 16ms/epoch - 16ms/step\n",
      "Epoch 258/300\n",
      "1/1 - 0s - loss: 0.2008 - accuracy: 0.8929 - 17ms/epoch - 17ms/step\n",
      "Epoch 259/300\n",
      "1/1 - 0s - loss: 0.2008 - accuracy: 0.8929 - 17ms/epoch - 17ms/step\n",
      "Epoch 260/300\n",
      "1/1 - 0s - loss: 0.2008 - accuracy: 0.8929 - 17ms/epoch - 17ms/step\n",
      "Epoch 261/300\n",
      "1/1 - 0s - loss: 0.2007 - accuracy: 0.8929 - 11ms/epoch - 11ms/step\n",
      "Epoch 262/300\n",
      "1/1 - 0s - loss: 0.2007 - accuracy: 0.8929 - 16ms/epoch - 16ms/step\n",
      "Epoch 263/300\n",
      "1/1 - 0s - loss: 0.2007 - accuracy: 0.8929 - 18ms/epoch - 18ms/step\n",
      "Epoch 264/300\n",
      "1/1 - 0s - loss: 0.2007 - accuracy: 0.8929 - 14ms/epoch - 14ms/step\n",
      "Epoch 265/300\n",
      "1/1 - 0s - loss: 0.2007 - accuracy: 0.8929 - 16ms/epoch - 16ms/step\n",
      "Epoch 266/300\n",
      "1/1 - 0s - loss: 0.2007 - accuracy: 0.8929 - 27ms/epoch - 27ms/step\n",
      "Epoch 267/300\n",
      "1/1 - 0s - loss: 0.2006 - accuracy: 0.8929 - 17ms/epoch - 17ms/step\n",
      "Epoch 268/300\n",
      "1/1 - 0s - loss: 0.2006 - accuracy: 0.8929 - 37ms/epoch - 37ms/step\n",
      "Epoch 269/300\n",
      "1/1 - 0s - loss: 0.2006 - accuracy: 0.8929 - 15ms/epoch - 15ms/step\n",
      "Epoch 270/300\n",
      "1/1 - 0s - loss: 0.2006 - accuracy: 0.8929 - 16ms/epoch - 16ms/step\n",
      "Epoch 271/300\n",
      "1/1 - 0s - loss: 0.2006 - accuracy: 0.8929 - 10ms/epoch - 10ms/step\n",
      "Epoch 272/300\n",
      "1/1 - 0s - loss: 0.2006 - accuracy: 0.8929 - 16ms/epoch - 16ms/step\n",
      "Epoch 273/300\n",
      "1/1 - 0s - loss: 0.2005 - accuracy: 0.8929 - 17ms/epoch - 17ms/step\n",
      "Epoch 274/300\n",
      "1/1 - 0s - loss: 0.2005 - accuracy: 0.8929 - 17ms/epoch - 17ms/step\n",
      "Epoch 275/300\n",
      "1/1 - 0s - loss: 0.2005 - accuracy: 0.8929 - 23ms/epoch - 23ms/step\n",
      "Epoch 276/300\n",
      "1/1 - 0s - loss: 0.2005 - accuracy: 0.8929 - 14ms/epoch - 14ms/step\n",
      "Epoch 277/300\n",
      "1/1 - 0s - loss: 0.2005 - accuracy: 0.8929 - 15ms/epoch - 15ms/step\n",
      "Epoch 278/300\n",
      "1/1 - 0s - loss: 0.2005 - accuracy: 0.8929 - 19ms/epoch - 19ms/step\n",
      "Epoch 279/300\n",
      "1/1 - 0s - loss: 0.2005 - accuracy: 0.8929 - 15ms/epoch - 15ms/step\n",
      "Epoch 280/300\n",
      "1/1 - 0s - loss: 0.2004 - accuracy: 0.8929 - 17ms/epoch - 17ms/step\n",
      "Epoch 281/300\n",
      "1/1 - 0s - loss: 0.2004 - accuracy: 0.8929 - 14ms/epoch - 14ms/step\n",
      "Epoch 282/300\n",
      "1/1 - 0s - loss: 0.2004 - accuracy: 0.8929 - 12ms/epoch - 12ms/step\n",
      "Epoch 283/300\n",
      "1/1 - 0s - loss: 0.2004 - accuracy: 0.8929 - 18ms/epoch - 18ms/step\n",
      "Epoch 284/300\n",
      "1/1 - 0s - loss: 0.2004 - accuracy: 0.8929 - 17ms/epoch - 17ms/step\n",
      "Epoch 285/300\n",
      "1/1 - 0s - loss: 0.2004 - accuracy: 0.8929 - 17ms/epoch - 17ms/step\n",
      "Epoch 286/300\n",
      "1/1 - 0s - loss: 0.2004 - accuracy: 0.8929 - 10ms/epoch - 10ms/step\n",
      "Epoch 287/300\n",
      "1/1 - 0s - loss: 0.2004 - accuracy: 0.8929 - 4ms/epoch - 4ms/step\n",
      "Epoch 288/300\n",
      "1/1 - 0s - loss: 0.2004 - accuracy: 0.8929 - 16ms/epoch - 16ms/step\n",
      "Epoch 289/300\n",
      "1/1 - 0s - loss: 0.2003 - accuracy: 0.8929 - 15ms/epoch - 15ms/step\n",
      "Epoch 290/300\n",
      "1/1 - 0s - loss: 0.2003 - accuracy: 0.8929 - 17ms/epoch - 17ms/step\n",
      "Epoch 291/300\n",
      "1/1 - 0s - loss: 0.2003 - accuracy: 0.8929 - 17ms/epoch - 17ms/step\n",
      "Epoch 292/300\n",
      "1/1 - 0s - loss: 0.2003 - accuracy: 0.8929 - 20ms/epoch - 20ms/step\n",
      "Epoch 293/300\n",
      "1/1 - 0s - loss: 0.2003 - accuracy: 0.8929 - 20ms/epoch - 20ms/step\n",
      "Epoch 294/300\n",
      "1/1 - 0s - loss: 0.2003 - accuracy: 0.8929 - 13ms/epoch - 13ms/step\n",
      "Epoch 295/300\n",
      "1/1 - 0s - loss: 0.2002 - accuracy: 0.8929 - 19ms/epoch - 19ms/step\n",
      "Epoch 296/300\n",
      "1/1 - 0s - loss: 0.2003 - accuracy: 0.8929 - 4ms/epoch - 4ms/step\n",
      "Epoch 297/300\n",
      "1/1 - 0s - loss: 0.2002 - accuracy: 0.8929 - 17ms/epoch - 17ms/step\n",
      "Epoch 298/300\n",
      "1/1 - 0s - loss: 0.2002 - accuracy: 0.8929 - 16ms/epoch - 16ms/step\n",
      "Epoch 299/300\n",
      "1/1 - 0s - loss: 0.2002 - accuracy: 0.8929 - 17ms/epoch - 17ms/step\n",
      "Epoch 300/300\n",
      "1/1 - 0s - loss: 0.2002 - accuracy: 0.8929 - 30ms/epoch - 30ms/step\n"
     ]
    }
   ],
   "source": [
    "model.compile(loss='categorical_crossentropy', # 다중 분류에서의 손실함수\n",
    "              optimizer = 'adam', \n",
    "              metrics=['accuracy']) # 평가지표 : accuracy, recall, precision\n",
    "hist = model.fit(X, Y, epochs=300, verbose=2)"
   ]
  },
  {
   "cell_type": "code",
   "execution_count": 52,
   "id": "204936e1",
   "metadata": {
    "ExecuteTime": {
     "end_time": "2025-01-02T03:55:40.083417Z",
     "start_time": "2025-01-02T03:55:40.078398Z"
    }
   },
   "outputs": [
    {
     "data": {
      "text/plain": [
       "dict_keys(['loss', 'accuracy'])"
      ]
     },
     "execution_count": 52,
     "metadata": {},
     "output_type": "execute_result"
    }
   ],
   "source": [
    "hist.history.keys()"
   ]
  },
  {
   "cell_type": "code",
   "execution_count": 53,
   "id": "9a5b7e45",
   "metadata": {
    "ExecuteTime": {
     "end_time": "2025-01-02T03:56:04.724704Z",
     "start_time": "2025-01-02T03:56:03.430452Z"
    }
   },
   "outputs": [
    {
     "data": {
      "image/png": "[encoded data removed]",
      "text/plain": [
       "<Figure size 1000x500 with 2 Axes>"
      ]
     },
     "metadata": {},
     "output_type": "display_data"
    }
   ],
   "source": [
    "# 모델 평가\n",
    "import matplotlib.pyplot as plt\n",
    "fig, loss_ax = plt.subplots(figsize=(10,5))\n",
    "loss_ax.plot(hist.history['loss'], 'r', label='train loss')\n",
    "loss_ax.set_xlabel('epoch')\n",
    "loss_ax.set_ylabel('loss')\n",
    "acc_ax = loss_ax.twinx()\n",
    "acc_ax.plot(hist.history['accuracy'], 'b', label='train accuracy')\n",
    "acc_ax.set_ylabel('accuracy')\n",
    "loss_ax.legend(loc='center right')\n",
    "acc_ax.legend(loc='lower right')\n",
    "acc_ax.legend(bbox_to_anchor=(0.999, 0.65))\n",
    "plt.show()"
   ]
  },
  {
   "cell_type": "markdown",
   "id": "55162266",
   "metadata": {},
   "source": [
    "# 3. 다음 문맥 예측해 보기"
   ]
  },
  {
   "cell_type": "code",
   "execution_count": 54,
   "id": "5a554d2e",
   "metadata": {
    "ExecuteTime": {
     "end_time": "2025-01-02T04:00:14.411790Z",
     "start_time": "2025-01-02T04:00:14.406803Z"
    }
   },
   "outputs": [
    {
     "name": "stdout",
     "output_type": "stream",
     "text": [
      "{'말이': 1, '경마장에': 2, '있는': 3, '뛰고': 4, '있다': 5, '그의': 6, '법이다': 7, '가는': 8, '고와야': 9, '오는': 10, '곱다': 11}\n"
     ]
    }
   ],
   "source": [
    "print(t.word_index)"
   ]
  },
  {
   "cell_type": "code",
   "execution_count": 64,
   "id": "6b0f4c04",
   "metadata": {
    "ExecuteTime": {
     "end_time": "2025-01-02T05:16:53.080724Z",
     "start_time": "2025-01-02T05:16:49.230024Z"
    }
   },
   "outputs": [
    {
     "name": "stdout",
     "output_type": "stream",
     "text": [
      "입력단어 :가는 말이 고와야\n",
      "입력한 단어 : 가는 말이 고와야, input_data : [[0 0 8 1 9]]\n",
      "1/1 [==============================] - 0s 17ms/step\n",
      "예측된 단어 : 오는\n"
     ]
    }
   ],
   "source": [
    "# 모델 사용하기 (문자 -> sequence로 수정 -> predict -> argmax -> 문자)\n",
    "word = input('입력단어 :')\n",
    "encoded = t.texts_to_sequences([word])[0]\n",
    "# print('입력한 단어 : {}, encoded : {}'.format(word,encoded))\n",
    "input_data = pad_sequences([encoded],\n",
    "                           maxlen=X.shape[1],\n",
    "                           padding='pre')\n",
    "print('입력한 단어 : {}, input_data : {}'.format(word, input_data))\n",
    "pred = model.predict(input_data).argmax()\n",
    "for word, value in t.word_index.items():\n",
    "    if pred==value:\n",
    "        print('예측된 단어 :', word)\n",
    "        break"
   ]
  },
  {
   "cell_type": "code",
   "execution_count": 78,
   "id": "9ee10f18",
   "metadata": {
    "ExecuteTime": {
     "end_time": "2025-01-02T05:36:22.110430Z",
     "start_time": "2025-01-02T05:36:22.102200Z"
    }
   },
   "outputs": [],
   "source": [
    "# 단어(가는), 5 => 가는 말이 고와야 오는 말이 곱다.\n",
    "def sentence_generation(model, t, current_word, n):\n",
    "    for i in range(n): # n번 반복\n",
    "        # current_word -> sequence -> padding -> predict.argmax -> 결과 단어 (result)\n",
    "        # current_word = current_word + ' ' + result\n",
    "        encoded = t.texts_to_sequences([current_word])[0]\n",
    "        input_data = pad_sequences([encoded], maxlen=5, padding='pre')\n",
    "        pred = model.predict(input_data, verbose=0).argmax()\n",
    "        for word, value in t.word_index.items():\n",
    "            if pred == value:\n",
    "                result = word\n",
    "                print(\"{} : {}\".format(i+1, result))\n",
    "                current_word = current_word + ' ' + result\n",
    "                print(\"{} : {}\".format(i+1, current_word))\n",
    "                break\n",
    "    return current_word"
   ]
  },
  {
   "cell_type": "code",
   "execution_count": 83,
   "id": "ab666f7d",
   "metadata": {
    "ExecuteTime": {
     "end_time": "2025-01-02T05:37:17.922804Z",
     "start_time": "2025-01-02T05:37:17.805981Z"
    }
   },
   "outputs": [
    {
     "name": "stdout",
     "output_type": "stream",
     "text": [
      "1 : 곱다\n",
      "1 : 말이 곱다\n",
      "2 : 오는\n",
      "2 : 말이 곱다 오는\n"
     ]
    },
    {
     "data": {
      "text/plain": [
       "'말이 곱다 오는'"
      ]
     },
     "execution_count": 83,
     "metadata": {},
     "output_type": "execute_result"
    }
   ],
   "source": [
    "# 문맥 예측해 보기\n",
    "sentence_generation(model, t, '말이', 2)"
   ]
  },
  {
   "cell_type": "code",
   "execution_count": 84,
   "id": "8e269738",
   "metadata": {
    "ExecuteTime": {
     "end_time": "2025-01-02T05:38:41.668634Z",
     "start_time": "2025-01-02T05:38:41.639681Z"
    }
   },
   "outputs": [
    {
     "ename": "NameError",
     "evalue": "name '니애미' is not defined",
     "output_type": "error",
     "traceback": [
      "\u001b[1;31m---------------------------------------------------------------------------\u001b[0m",
      "\u001b[1;31mNameError\u001b[0m                                 Traceback (most recent call last)",
      "Cell \u001b[1;32mIn[84], line 1\u001b[0m\n\u001b[1;32m----> 1\u001b[0m \u001b[43m니애미\u001b[49m\n",
      "\u001b[1;31mNameError\u001b[0m: name '니애미' is not defined"
     ]
    }
   ],
   "source": []
  },
  {
   "cell_type": "code",
   "execution_count": null,
   "id": "8a73d942",
   "metadata": {},
   "outputs": [],
   "source": []
  },
  {
   "cell_type": "code",
   "execution_count": null,
   "id": "7eea6aa7",
   "metadata": {},
   "outputs": [],
   "source": []
  },
  {
   "cell_type": "code",
   "execution_count": null,
   "id": "26203ed0",
   "metadata": {},
   "outputs": [],
   "source": []
  },
  {
   "cell_type": "code",
   "execution_count": null,
   "id": "94096530",
   "metadata": {},
   "outputs": [],
   "source": []
  },
  {
   "cell_type": "code",
   "execution_count": null,
   "id": "f2e21680",
   "metadata": {},
   "outputs": [],
   "source": []
  },
  {
   "cell_type": "code",
   "execution_count": null,
   "id": "468b7b8b",
   "metadata": {},
   "outputs": [],
   "source": []
  },
  {
   "cell_type": "code",
   "execution_count": null,
   "id": "d642a48d",
   "metadata": {},
   "outputs": [],
   "source": []
  },
  {
   "cell_type": "code",
   "execution_count": null,
   "id": "2e0f9405",
   "metadata": {},
   "outputs": [],
   "source": []
  },
  {
   "cell_type": "code",
   "execution_count": null,
   "id": "bd243373",
   "metadata": {},
   "outputs": [],
   "source": []
  },
  {
   "cell_type": "code",
   "execution_count": null,
   "id": "0d4ff7b5",
   "metadata": {},
   "outputs": [],
   "source": []
  },
  {
   "cell_type": "code",
   "execution_count": null,
   "id": "def239d2",
   "metadata": {},
   "outputs": [],
   "source": []
  },
  {
   "cell_type": "code",
   "execution_count": null,
   "id": "03de78c2",
   "metadata": {},
   "outputs": [],
   "source": []
  },
  {
   "cell_type": "code",
   "execution_count": null,
   "id": "460c33aa",
   "metadata": {},
   "outputs": [],
   "source": []
  },
  {
   "cell_type": "code",
   "execution_count": null,
   "id": "4184e011",
   "metadata": {},
   "outputs": [],
   "source": []
  },
  {
   "cell_type": "code",
   "execution_count": null,
   "id": "044490ba",
   "metadata": {},
   "outputs": [],
   "source": []
  },
  {
   "cell_type": "code",
   "execution_count": null,
   "id": "d28b98a5",
   "metadata": {},
   "outputs": [],
   "source": []
  },
  {
   "cell_type": "code",
   "execution_count": null,
   "id": "75befc50",
   "metadata": {},
   "outputs": [],
   "source": []
  },
  {
   "cell_type": "code",
   "execution_count": null,
   "id": "5f9b68ae",
   "metadata": {},
   "outputs": [],
   "source": []
  },
  {
   "cell_type": "code",
   "execution_count": null,
   "id": "4b2a3032",
   "metadata": {},
   "outputs": [],
   "source": []
  },
  {
   "cell_type": "code",
   "execution_count": null,
   "id": "fe33ba71",
   "metadata": {},
   "outputs": [],
   "source": []
  },
  {
   "cell_type": "code",
   "execution_count": null,
   "id": "7f940113",
   "metadata": {},
   "outputs": [],
   "source": []
  },
  {
   "cell_type": "code",
   "execution_count": null,
   "id": "70f4af9d",
   "metadata": {},
   "outputs": [],
   "source": []
  },
  {
   "cell_type": "code",
   "execution_count": null,
   "id": "19262536",
   "metadata": {},
   "outputs": [],
   "source": []
  },
  {
   "cell_type": "code",
   "execution_count": null,
   "id": "3af8cb5a",
   "metadata": {},
   "outputs": [],
   "source": []
  },
  {
   "cell_type": "code",
   "execution_count": null,
   "id": "4aded200",
   "metadata": {},
   "outputs": [],
   "source": []
  },
  {
   "cell_type": "code",
   "execution_count": null,
   "id": "aac7ee15",
   "metadata": {},
   "outputs": [],
   "source": []
  },
  {
   "cell_type": "code",
   "execution_count": null,
   "id": "6a61ce05",
   "metadata": {},
   "outputs": [],
   "source": []
  },
  {
   "cell_type": "code",
   "execution_count": null,
   "id": "996cc238",
   "metadata": {},
   "outputs": [],
   "source": []
  },
  {
   "cell_type": "code",
   "execution_count": null,
   "id": "fc0d0b29",
   "metadata": {},
   "outputs": [],
   "source": []
  },
  {
   "cell_type": "code",
   "execution_count": null,
   "id": "7b230d6d",
   "metadata": {},
   "outputs": [],
   "source": []
  },
  {
   "cell_type": "code",
   "execution_count": null,
   "id": "d4bc709e",
   "metadata": {},
   "outputs": [],
   "source": []
  },
  {
   "cell_type": "code",
   "execution_count": null,
   "id": "7ad0a421",
   "metadata": {},
   "outputs": [],
   "source": []
  },
  {
   "cell_type": "code",
   "execution_count": null,
   "id": "ecb226e3",
   "metadata": {},
   "outputs": [],
   "source": []
  },
  {
   "cell_type": "code",
   "execution_count": null,
   "id": "05293378",
   "metadata": {},
   "outputs": [],
   "source": []
  },
  {
   "cell_type": "code",
   "execution_count": null,
   "id": "35fb2bc2",
   "metadata": {},
   "outputs": [],
   "source": []
  },
  {
   "cell_type": "code",
   "execution_count": null,
   "id": "9e41b8e3",
   "metadata": {},
   "outputs": [],
   "source": []
  },
  {
   "cell_type": "code",
   "execution_count": null,
   "id": "9a1de7cf",
   "metadata": {},
   "outputs": [],
   "source": []
  },
  {
   "cell_type": "code",
   "execution_count": null,
   "id": "a0990923",
   "metadata": {},
   "outputs": [],
   "source": []
  },
  {
   "cell_type": "code",
   "execution_count": null,
   "id": "c6fa8036",
   "metadata": {},
   "outputs": [],
   "source": []
  },
  {
   "cell_type": "code",
   "execution_count": null,
   "id": "3d16b2f0",
   "metadata": {},
   "outputs": [],
   "source": []
  },
  {
   "cell_type": "code",
   "execution_count": null,
   "id": "5637c04b",
   "metadata": {},
   "outputs": [],
   "source": []
  },
  {
   "cell_type": "code",
   "execution_count": null,
   "id": "e43f9543",
   "metadata": {},
   "outputs": [],
   "source": []
  },
  {
   "cell_type": "code",
   "execution_count": null,
   "id": "797ad89c",
   "metadata": {},
   "outputs": [],
   "source": []
  },
  {
   "cell_type": "code",
   "execution_count": null,
   "id": "e05388ad",
   "metadata": {},
   "outputs": [],
   "source": []
  },
  {
   "cell_type": "code",
   "execution_count": null,
   "id": "37cf8600",
   "metadata": {},
   "outputs": [],
   "source": []
  },
  {
   "cell_type": "code",
   "execution_count": null,
   "id": "ad17f219",
   "metadata": {},
   "outputs": [],
   "source": []
  },
  {
   "cell_type": "code",
   "execution_count": null,
   "id": "7692d6a3",
   "metadata": {},
   "outputs": [],
   "source": []
  },
  {
   "cell_type": "code",
   "execution_count": null,
   "id": "2589996b",
   "metadata": {},
   "outputs": [],
   "source": []
  },
  {
   "cell_type": "code",
   "execution_count": null,
   "id": "f80e0e66",
   "metadata": {},
   "outputs": [],
   "source": []
  },
  {
   "cell_type": "code",
   "execution_count": null,
   "id": "375dc851",
   "metadata": {},
   "outputs": [],
   "source": []
  }
 ],
 "metadata": {
  "kernelspec": {
   "display_name": "Python 3 (ipykernel)",
   "language": "python",
   "name": "python3"
  },
  "language_info": {
   "codemirror_mode": {
    "name": "ipython",
    "version": 3
   },
   "file_extension": ".py",
   "mimetype": "text/x-python",
   "name": "python",
   "nbconvert_exporter": "python",
   "pygments_lexer": "ipython3",
   "version": "3.10.9"
  },
  "toc": {
   "base_numbering": 1,
   "nav_menu": {},
   "number_sections": false,
   "sideBar": true,
   "skip_h1_title": false,
   "title_cell": "Table of Contents",
   "title_sidebar": "Contents",
   "toc_cell": false,
   "toc_position": {},
   "toc_section_display": true,
   "toc_window_display": false
  }
 },
 "nbformat": 4,
 "nbformat_minor": 5
}
