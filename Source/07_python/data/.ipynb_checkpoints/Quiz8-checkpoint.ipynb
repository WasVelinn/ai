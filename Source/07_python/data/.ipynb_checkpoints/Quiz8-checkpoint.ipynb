{
 "cells": [
  {
   "cell_type": "code",
   "execution_count": 12,
   "id": "fb14f375",
   "metadata": {
    "ExecuteTime": {
     "end_time": "2024-11-20T08:36:06.584962Z",
     "start_time": "2024-11-20T08:36:06.578005Z"
    }
   },
   "outputs": [],
   "source": [
    "class Member:\n",
    "    def __init__(self, name, phone, email, age, grade, etc):\n",
    "        self.name = name\n",
    "        self.phone = phone\n",
    "        self.email = email\n",
    "        self.age = age\n",
    "        self.grade = grade\n",
    "        self.etc = etc\n",
    "    def to_dict(self):\n",
    "        return {'name':self.name, 'phone':self.phone, 'email':self.email, 'age':self.age, 'grade':self.grade, 'etc':self.etc}\n",
    "    def __str__(self):\n",
    "        result = ''\n",
    "        for i in range(int(self.grade)):\n",
    "            result += '*'\n",
    "        return \"{}  {}  {}  {}  {}  {}\".format(result, self.name, self.phone, self.email, self.age, self.etc)\n",
    "    \n",
    "def to_member(*row):\n",
    "    return Member(row[0], row[1], row[2], row[3], row[4], row[5])"
   ]
  },
  {
   "cell_type": "code",
   "execution_count": 13,
   "id": "205b520b",
   "metadata": {
    "ExecuteTime": {
     "end_time": "2024-11-20T08:36:09.175058Z",
     "start_time": "2024-11-20T08:36:09.168822Z"
    }
   },
   "outputs": [],
   "source": [
    "def insert_member():\n",
    "    global conn\n",
    "    global cursor\n",
    "    name = input('이름 :')\n",
    "    phone = input('전화번호 :')\n",
    "    email = input('이메일 :')\n",
    "    age = input('나이 :')\n",
    "    grade = input('고객등급(1~5) :')\n",
    "    etc = input('기타 정보 :')\n",
    "    inputdata = {'name':name, 'phone':phone, 'email':email, 'age':age, 'grade':grade, 'etc':etc}\n",
    "    cursor.execute(\"INSERT INTO MEMBER VALUE (:name, :phone, :email, :age, :grade, :etc)\".inputdata)\n",
    "    print('입력 완료')\n",
    "    return Customer(name, phone, email, age, grade, etc)\n",
    "    conn.commit()\n",
    "    if cursor.rowcount == 1:\n",
    "        print('저장 완료')"
   ]
  },
  {
   "cell_type": "code",
   "execution_count": 16,
   "id": "d99cf341",
   "metadata": {
    "ExecuteTime": {
     "end_time": "2024-11-20T08:40:24.967589Z",
     "start_time": "2024-11-20T08:40:24.961089Z"
    }
   },
   "outputs": [],
   "source": [
    "def select_all():\n",
    "    print(\"===========================================================\")\n",
    "    print(\"                        고객정보                           \")\n",
    "    print(\"-----------------------------------------------------------\")\n",
    "    print(\"GRADE\\t이름\\t전화\\t\\t메일\\t\\t나이\\t기타\")\n",
    "    print(\"===========================================================\")\n",
    "    global conn\n",
    "    global cursor\n",
    "    cursor.execute(\"SELECT * FROM MEMBER\")\n",
    "    for member in cursor.fetchall():\n",
    "        print(to_member(member))\n",
    "    print(\"===========================================================\")"
   ]
  },
  {
   "cell_type": "code",
   "execution_count": 18,
   "id": "df00a0f9",
   "metadata": {
    "ExecuteTime": {
     "end_time": "2024-11-20T08:41:54.238594Z",
     "start_time": "2024-11-20T08:41:54.232601Z"
    }
   },
   "outputs": [],
   "source": [
    "def select_name():\n",
    "    name = input('조회할 고객정보 고객의 성함을 입력하여 주십시오.')\n",
    "    print(\"===========================================================\")\n",
    "    print(\"                        고객정보                           \")\n",
    "    print(\"-----------------------------------------------------------\")\n",
    "    print(\"GRADE\\t이름\\t전화\\t\\t메일\\t\\t나이\\t기타\")\n",
    "    print(\"===========================================================\")\n",
    "    global conn\n",
    "    global cursor\n",
    "    cursor.execute(\"SELECT * FROM MEMBER WHERE NAME = :name\", {'name':name})\n",
    "    for member in cursor.fetchall():\n",
    "        print(to_member(member))\n",
    "    print(\"===========================================================\")"
   ]
  },
  {
   "cell_type": "code",
   "execution_count": 19,
   "id": "867af7bf",
   "metadata": {
    "ExecuteTime": {
     "end_time": "2024-11-20T08:45:33.806019Z",
     "start_time": "2024-11-20T08:45:33.801025Z"
    }
   },
   "outputs": [],
   "source": [
    "def delete_email():\n",
    "    global conn\n",
    "    global cursor\n",
    "    email = input('삭제할 고객정보 고객의 이메일 주소를 입력하여 주십시오.')\n",
    "    cursor.execute(\"DELETE FROM MEMBER WHERE EMAIL = :email\", {'email':email})\n",
    "    if cursor.rowcount >=1 :\n",
    "        print('{}행 삭제 완료'.format(cursor.rowcount))\n",
    "    else :\n",
    "        print('삭제 실패')"
   ]
  },
  {
   "cell_type": "code",
   "execution_count": null,
   "id": "d4a21ad8",
   "metadata": {},
   "outputs": [],
   "source": [
    "def save_csv():\n",
    "    import csv\n",
    "    global conn\n",
    "    global cursor\n",
    "    import csv\n",
    "    a = input('출력하실 파일명을 입력하여 주십시오.')\n",
    "    try:\n",
    "        with open('data/{}'.format(a), 'w', newline='', encoding='utf-8') as f:\n",
    "            writer = csv.writer(f)\n",
    "            for user in customer_list:\n",
    "                writer.writerow(user.to_list_style())\n",
    "    except FileNotFoundError as e:\n",
    "        print(e)"
   ]
  },
  {
   "cell_type": "code",
   "execution_count": 25,
   "id": "7be8f068",
   "metadata": {
    "ExecuteTime": {
     "end_time": "2024-11-20T08:56:55.594817Z",
     "start_time": "2024-11-20T08:56:54.025623Z"
    }
   },
   "outputs": [
    {
     "name": "stdout",
     "output_type": "stream",
     "text": [
      "출력하실 파일명을 입력하여 주십시오.def.csv\n",
      "[Errno 2] No such file or directory: 'data/def.csv'\n"
     ]
    }
   ],
   "source": [
    "import csv\n",
    "a = input('출력하실 파일명을 입력하여 주십시오.')\n",
    "try:\n",
    "    with open('data/{}'.format(a), 'w', newline='', encoding='utf-8') as f:\n",
    "        writer = csv.writer(f)\n",
    "        for user in customer_list:\n",
    "            writer.writerow(user.to_list_style())\n",
    "except FileNotFoundError as e:\n",
    "    print(e)"
   ]
  },
  {
   "cell_type": "code",
   "execution_count": null,
   "id": "a21f600d",
   "metadata": {},
   "outputs": [],
   "source": []
  },
  {
   "cell_type": "code",
   "execution_count": null,
   "id": "f8db5cb8",
   "metadata": {},
   "outputs": [],
   "source": []
  },
  {
   "cell_type": "code",
   "execution_count": null,
   "id": "95918bb0",
   "metadata": {},
   "outputs": [],
   "source": []
  },
  {
   "cell_type": "code",
   "execution_count": null,
   "id": "374bd3ca",
   "metadata": {},
   "outputs": [],
   "source": []
  }
 ],
 "metadata": {
  "kernelspec": {
   "display_name": "Python 3 (ipykernel)",
   "language": "python",
   "name": "python3"
  },
  "language_info": {
   "codemirror_mode": {
    "name": "ipython",
    "version": 3
   },
   "file_extension": ".py",
   "mimetype": "text/x-python",
   "name": "python",
   "nbconvert_exporter": "python",
   "pygments_lexer": "ipython3",
   "version": "3.10.9"
  },
  "toc": {
   "base_numbering": 1,
   "nav_menu": {},
   "number_sections": true,
   "sideBar": true,
   "skip_h1_title": false,
   "title_cell": "Table of Contents",
   "title_sidebar": "Contents",
   "toc_cell": false,
   "toc_position": {},
   "toc_section_display": true,
   "toc_window_display": false
  }
 },
 "nbformat": 4,
 "nbformat_minor": 5
}
