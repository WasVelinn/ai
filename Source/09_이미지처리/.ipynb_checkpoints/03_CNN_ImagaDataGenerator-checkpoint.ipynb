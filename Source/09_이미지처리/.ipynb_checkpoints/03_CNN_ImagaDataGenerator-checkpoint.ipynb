{
 "cells": [
  {
   "cell_type": "code",
   "execution_count": 1,
   "id": "9df16ae7",
   "metadata": {
    "ExecuteTime": {
     "end_time": "2024-12-24T05:40:22.741066Z",
     "start_time": "2024-12-24T05:40:22.542842Z"
    }
   },
   "outputs": [
    {
     "data": {
      "image/png": "[encoded data removed]",
      "text/plain": [
       "<PIL.PngImagePlugin.PngImageFile image mode=RGBA size=28x28>"
      ]
     },
     "metadata": {},
     "output_type": "display_data"
    },
    {
     "data": {
      "text/plain": [
       "(28, 28, 4)"
      ]
     },
     "execution_count": 1,
     "metadata": {},
     "output_type": "execute_result"
    }
   ],
   "source": [
    "from PIL import Image\n",
    "import numpy as np\n",
    "c0 = Image.open('data/test/0/1.png')\n",
    "display(c0)\n",
    "c0_numpy = np.array(c0)\n",
    "c0_numpy.shape"
   ]
  },
  {
   "cell_type": "code",
   "execution_count": 4,
   "id": "eedbcd85",
   "metadata": {
    "ExecuteTime": {
     "end_time": "2024-12-24T05:41:59.315957Z",
     "start_time": "2024-12-24T05:41:59.309260Z"
    }
   },
   "outputs": [
    {
     "data": {
      "text/plain": [
       "(28, 28, 3)"
      ]
     },
     "execution_count": 4,
     "metadata": {},
     "output_type": "execute_result"
    }
   ],
   "source": [
    "c0_numpy[:, :, :-1].shape"
   ]
  },
  {
   "cell_type": "markdown",
   "id": "76644430",
   "metadata": {},
   "source": [
    "# 1. CNN"
   ]
  },
  {
   "cell_type": "code",
   "execution_count": 5,
   "id": "1a24184b",
   "metadata": {
    "ExecuteTime": {
     "end_time": "2024-12-24T05:47:14.204568Z",
     "start_time": "2024-12-24T05:47:14.198593Z"
    }
   },
   "outputs": [],
   "source": [
    "import numpy as np\n",
    "from tensorflow.keras.preprocessing.image import ImageDataGenerator\n",
    "from tensorflow.keras.models import Sequential\n",
    "from tensorflow.keras.layers import Conv2D, MaxPooling2D, Flatten, Dense, Dropout\n",
    "from PIL import Image\n",
    "np.random.seed(3)"
   ]
  },
  {
   "cell_type": "code",
   "execution_count": 8,
   "id": "b66710bc",
   "metadata": {
    "ExecuteTime": {
     "end_time": "2024-12-24T05:50:09.020405Z",
     "start_time": "2024-12-24T05:50:09.013372Z"
    }
   },
   "outputs": [
    {
     "data": {
      "text/plain": [
       "(24, 24, 4)"
      ]
     },
     "execution_count": 8,
     "metadata": {},
     "output_type": "execute_result"
    }
   ],
   "source": [
    "circle = Image.open('data/handwriting/handwriting_shape/train/circle/circle003.png')\n",
    "np.array(circle).shape\n",
    "# 모든 이미지의 shape이 같을 필요는 없음"
   ]
  },
  {
   "cell_type": "code",
   "execution_count": 10,
   "id": "5efce02d",
   "metadata": {
    "ExecuteTime": {
     "end_time": "2024-12-24T06:17:03.841492Z",
     "start_time": "2024-12-24T06:17:03.814850Z"
    }
   },
   "outputs": [
    {
     "name": "stdout",
     "output_type": "stream",
     "text": [
      "Found 45 images belonging to 3 classes.\n",
      "Found 15 images belonging to 3 classes.\n"
     ]
    }
   ],
   "source": [
    "# 1. 데이터 생성하기 학습훈련셋 : (data/handwriting/handwriting_shape/train)*\n",
    "                     # 테스트셋 : (data/handwriting/handwriting_shape/test)*\n",
    "train_datagen = ImageDataGenerator(rescale=1./255) # 0 ~ 1 사이의 값으로 스케일 조정\n",
    "train_data = train_datagen.flow_from_directory(\n",
    "    'data/handwriting/handwriting_shape/train', # train 아래 폴더명이 라벨\n",
    "    target_size = (24, 24),     # 넘파이 배열의 이미지 크기 조정\n",
    "    class_mode = 'categorical', # 원핫인코딩 형식으로 반환\n",
    "    batch_size = 3              # 한번에 반환할 이미지와 라벨 수\n",
    ")\n",
    "test_datagen = ImageDataGenerator(rescale = 1./255)\n",
    "test_data = test_datagen.flow_from_directory(\n",
    "    'data/handwriting/handwriting_shape/test',\n",
    "    target_size = (24, 24),\n",
    "    class_mode = 'categorical',\n",
    "    batch_size = 3,\n",
    "    shuffle = False # 이미지와 라벨 순서가 고정\n",
    ")"
   ]
  },
  {
   "cell_type": "code",
   "execution_count": 11,
   "id": "5038552f",
   "metadata": {
    "ExecuteTime": {
     "end_time": "2024-12-24T06:17:08.019256Z",
     "start_time": "2024-12-24T06:17:08.013233Z"
    }
   },
   "outputs": [
    {
     "data": {
      "text/plain": [
       "<keras.preprocessing.image.DirectoryIterator at 0x1af68f12fe0>"
      ]
     },
     "execution_count": 11,
     "metadata": {},
     "output_type": "execute_result"
    }
   ],
   "source": [
    "test_data"
   ]
  },
  {
   "cell_type": "code",
   "execution_count": 13,
   "id": "7e8e2d29",
   "metadata": {
    "ExecuteTime": {
     "end_time": "2024-12-24T06:20:25.820977Z",
     "start_time": "2024-12-24T06:20:25.748948Z"
    }
   },
   "outputs": [
    {
     "data": {
      "text/plain": [
       "array([[[[1., 1., 1.],\n",
       "         [1., 1., 1.],\n",
       "         [1., 1., 1.],\n",
       "         ...,\n",
       "         [1., 1., 1.],\n",
       "         [1., 1., 1.],\n",
       "         [1., 1., 1.]],\n",
       "\n",
       "        [[1., 1., 1.],\n",
       "         [1., 1., 1.],\n",
       "         [1., 1., 1.],\n",
       "         ...,\n",
       "         [1., 1., 1.],\n",
       "         [1., 1., 1.],\n",
       "         [1., 1., 1.]],\n",
       "\n",
       "        [[1., 1., 1.],\n",
       "         [1., 1., 1.],\n",
       "         [1., 1., 1.],\n",
       "         ...,\n",
       "         [1., 1., 1.],\n",
       "         [1., 1., 1.],\n",
       "         [1., 1., 1.]],\n",
       "\n",
       "        ...,\n",
       "\n",
       "        [[1., 1., 1.],\n",
       "         [1., 1., 1.],\n",
       "         [1., 1., 1.],\n",
       "         ...,\n",
       "         [1., 1., 1.],\n",
       "         [1., 1., 1.],\n",
       "         [1., 1., 1.]],\n",
       "\n",
       "        [[1., 1., 1.],\n",
       "         [1., 1., 1.],\n",
       "         [1., 1., 1.],\n",
       "         ...,\n",
       "         [1., 1., 1.],\n",
       "         [1., 1., 1.],\n",
       "         [1., 1., 1.]],\n",
       "\n",
       "        [[1., 1., 1.],\n",
       "         [1., 1., 1.],\n",
       "         [1., 1., 1.],\n",
       "         ...,\n",
       "         [1., 1., 1.],\n",
       "         [1., 1., 1.],\n",
       "         [1., 1., 1.]]],\n",
       "\n",
       "\n",
       "       [[[1., 1., 1.],\n",
       "         [1., 1., 1.],\n",
       "         [1., 1., 1.],\n",
       "         ...,\n",
       "         [1., 1., 1.],\n",
       "         [1., 1., 1.],\n",
       "         [1., 1., 1.]],\n",
       "\n",
       "        [[1., 1., 1.],\n",
       "         [1., 1., 1.],\n",
       "         [1., 1., 1.],\n",
       "         ...,\n",
       "         [1., 1., 1.],\n",
       "         [1., 1., 1.],\n",
       "         [1., 1., 1.]],\n",
       "\n",
       "        [[1., 1., 1.],\n",
       "         [1., 1., 1.],\n",
       "         [1., 1., 1.],\n",
       "         ...,\n",
       "         [1., 1., 1.],\n",
       "         [1., 1., 1.],\n",
       "         [1., 1., 1.]],\n",
       "\n",
       "        ...,\n",
       "\n",
       "        [[1., 1., 1.],\n",
       "         [1., 1., 1.],\n",
       "         [1., 1., 1.],\n",
       "         ...,\n",
       "         [1., 1., 1.],\n",
       "         [1., 1., 1.],\n",
       "         [1., 1., 1.]],\n",
       "\n",
       "        [[1., 1., 1.],\n",
       "         [1., 1., 1.],\n",
       "         [1., 1., 1.],\n",
       "         ...,\n",
       "         [1., 1., 1.],\n",
       "         [1., 1., 1.],\n",
       "         [1., 1., 1.]],\n",
       "\n",
       "        [[1., 1., 1.],\n",
       "         [1., 1., 1.],\n",
       "         [1., 1., 1.],\n",
       "         ...,\n",
       "         [1., 1., 1.],\n",
       "         [1., 1., 1.],\n",
       "         [1., 1., 1.]]],\n",
       "\n",
       "\n",
       "       [[[1., 1., 1.],\n",
       "         [1., 1., 1.],\n",
       "         [1., 1., 1.],\n",
       "         ...,\n",
       "         [1., 1., 1.],\n",
       "         [1., 1., 1.],\n",
       "         [1., 1., 1.]],\n",
       "\n",
       "        [[1., 1., 1.],\n",
       "         [1., 1., 1.],\n",
       "         [1., 1., 1.],\n",
       "         ...,\n",
       "         [1., 1., 1.],\n",
       "         [1., 1., 1.],\n",
       "         [1., 1., 1.]],\n",
       "\n",
       "        [[1., 1., 1.],\n",
       "         [1., 1., 1.],\n",
       "         [1., 1., 1.],\n",
       "         ...,\n",
       "         [1., 1., 1.],\n",
       "         [1., 1., 1.],\n",
       "         [1., 1., 1.]],\n",
       "\n",
       "        ...,\n",
       "\n",
       "        [[1., 1., 1.],\n",
       "         [1., 1., 1.],\n",
       "         [1., 1., 1.],\n",
       "         ...,\n",
       "         [1., 1., 1.],\n",
       "         [1., 1., 1.],\n",
       "         [1., 1., 1.]],\n",
       "\n",
       "        [[1., 1., 1.],\n",
       "         [1., 1., 1.],\n",
       "         [1., 1., 1.],\n",
       "         ...,\n",
       "         [1., 1., 1.],\n",
       "         [1., 1., 1.],\n",
       "         [1., 1., 1.]],\n",
       "\n",
       "        [[1., 1., 1.],\n",
       "         [1., 1., 1.],\n",
       "         [1., 1., 1.],\n",
       "         ...,\n",
       "         [1., 1., 1.],\n",
       "         [1., 1., 1.],\n",
       "         [1., 1., 1.]]]], dtype=float32)"
      ]
     },
     "execution_count": 13,
     "metadata": {},
     "output_type": "execute_result"
    }
   ],
   "source": [
    "X_images, Y_labels = next(test_data) # 한 배치사이즈 만큼만 데이터 가져오기\n",
    "X_images"
   ]
  },
  {
   "cell_type": "code",
   "execution_count": 14,
   "id": "676b24fc",
   "metadata": {
    "ExecuteTime": {
     "end_time": "2024-12-24T06:22:00.507256Z",
     "start_time": "2024-12-24T06:22:00.501272Z"
    }
   },
   "outputs": [
    {
     "name": "stdout",
     "output_type": "stream",
     "text": [
      "데이터 전체 갯수 : 15\n",
      "배치 사이즈 : 3\n"
     ]
    }
   ],
   "source": [
    "print('데이터 전체 갯수 :', test_data.n)\n",
    "print('배치 사이즈 :', test_data.batch_size)"
   ]
  },
  {
   "cell_type": "code",
   "execution_count": 15,
   "id": "b98002ad",
   "metadata": {
    "ExecuteTime": {
     "end_time": "2024-12-24T06:29:24.349303Z",
     "start_time": "2024-12-24T06:29:24.253523Z"
    }
   },
   "outputs": [
    {
     "data": {
      "text/plain": [
       "((15, 24, 24, 3), (15, 3))"
      ]
     },
     "execution_count": 15,
     "metadata": {},
     "output_type": "execute_result"
    }
   ],
   "source": [
    "# 전체 가져오기\n",
    "all_images = [] # 독립변수\n",
    "all_labels = [] # 종속변수\n",
    "\n",
    "for images, labels in test_data:\n",
    "    all_images.append(images)\n",
    "    all_labels.append(labels)\n",
    "    \n",
    "    if len(all_images) * test_data.batch_size >= test_data.n :\n",
    "        break\n",
    "X_test_images = np.concatenate(all_images)\n",
    "Y_test_labels = np.concatenate(all_labels)\n",
    "\n",
    "X_test_images.shape, Y_test_labels.shape"
   ]
  },
  {
   "cell_type": "code",
   "execution_count": 23,
   "id": "eea7e98e",
   "metadata": {
    "ExecuteTime": {
     "end_time": "2024-12-24T06:43:57.003314Z",
     "start_time": "2024-12-24T06:43:56.933812Z"
    }
   },
   "outputs": [],
   "source": [
    "# 2. 모델 구성\n",
    "model = Sequential()\n",
    "model.add(Conv2D(16, kernel_size=(3,3), activation='relu', input_shape=(24,24,3)))\n",
    "model.add(Conv2D(32, kernel_size=(3,3), activation='relu'))\n",
    "model.add(MaxPooling2D(pool_size=(2,2)))\n",
    "model.add(Flatten()) # 3차원 데이터를 1차원으로\n",
    "model.add(Dense(units=64, activation='relu'))\n",
    "model.add(Dense(units=3, activation='softmax'))"
   ]
  },
  {
   "cell_type": "code",
   "execution_count": 24,
   "id": "ebd685bc",
   "metadata": {
    "ExecuteTime": {
     "end_time": "2024-12-24T06:43:57.922051Z",
     "start_time": "2024-12-24T06:43:57.900636Z"
    }
   },
   "outputs": [
    {
     "name": "stdout",
     "output_type": "stream",
     "text": [
      "Model: \"sequential_3\"\n",
      "_________________________________________________________________\n",
      " Layer (type)                Output Shape              Param #   \n",
      "=================================================================\n",
      " conv2d_6 (Conv2D)           (None, 22, 22, 16)        448       \n",
      "                                                                 \n",
      " conv2d_7 (Conv2D)           (None, 20, 20, 32)        4640      \n",
      "                                                                 \n",
      " max_pooling2d_3 (MaxPooling  (None, 10, 10, 32)       0         \n",
      " 2D)                                                             \n",
      "                                                                 \n",
      " flatten_3 (Flatten)         (None, 3200)              0         \n",
      "                                                                 \n",
      " dense_4 (Dense)             (None, 64)                204864    \n",
      "                                                                 \n",
      " dense_5 (Dense)             (None, 3)                 195       \n",
      "                                                                 \n",
      "=================================================================\n",
      "Total params: 210,147\n",
      "Trainable params: 210,147\n",
      "Non-trainable params: 0\n",
      "_________________________________________________________________\n"
     ]
    }
   ],
   "source": [
    "model.summary()"
   ]
  },
  {
   "cell_type": "code",
   "execution_count": 27,
   "id": "688a6c84",
   "metadata": {
    "ExecuteTime": {
     "end_time": "2024-12-24T06:44:54.390386Z",
     "start_time": "2024-12-24T06:44:44.716616Z"
    }
   },
   "outputs": [
    {
     "name": "stdout",
     "output_type": "stream",
     "text": [
      "Epoch 1/50\n",
      "15/15 [==============================] - 1s 22ms/step - loss: 2.6491e-09 - accuracy: 1.0000 - val_loss: 0.3696 - val_accuracy: 0.9333\n",
      "Epoch 2/50\n",
      "15/15 [==============================] - 0s 11ms/step - loss: 0.0000e+00 - accuracy: 1.0000 - val_loss: 0.3751 - val_accuracy: 0.9333\n",
      "Epoch 3/50\n",
      "15/15 [==============================] - 0s 10ms/step - loss: 0.0000e+00 - accuracy: 1.0000 - val_loss: 0.3679 - val_accuracy: 0.9333\n",
      "Epoch 4/50\n",
      "15/15 [==============================] - 0s 10ms/step - loss: 0.0000e+00 - accuracy: 1.0000 - val_loss: 0.3564 - val_accuracy: 0.9333\n",
      "Epoch 5/50\n",
      "15/15 [==============================] - 0s 10ms/step - loss: 0.0000e+00 - accuracy: 1.0000 - val_loss: 0.3442 - val_accuracy: 0.9333\n",
      "Epoch 6/50\n",
      "15/15 [==============================] - 0s 9ms/step - loss: 0.0000e+00 - accuracy: 1.0000 - val_loss: 0.3428 - val_accuracy: 0.9333\n",
      "Epoch 7/50\n",
      "15/15 [==============================] - 0s 12ms/step - loss: 0.0000e+00 - accuracy: 1.0000 - val_loss: 0.3339 - val_accuracy: 0.9333\n",
      "Epoch 8/50\n",
      "15/15 [==============================] - 0s 10ms/step - loss: 0.0000e+00 - accuracy: 1.0000 - val_loss: 0.3359 - val_accuracy: 0.9333\n",
      "Epoch 9/50\n",
      "15/15 [==============================] - 0s 10ms/step - loss: 0.0000e+00 - accuracy: 1.0000 - val_loss: 0.3362 - val_accuracy: 0.9333\n",
      "Epoch 10/50\n",
      "15/15 [==============================] - 0s 10ms/step - loss: 0.0000e+00 - accuracy: 1.0000 - val_loss: 0.3295 - val_accuracy: 0.9333\n",
      "Epoch 11/50\n",
      "15/15 [==============================] - 0s 11ms/step - loss: 0.0000e+00 - accuracy: 1.0000 - val_loss: 0.3242 - val_accuracy: 0.9333\n",
      "Epoch 12/50\n",
      "15/15 [==============================] - 0s 10ms/step - loss: 2.6491e-09 - accuracy: 1.0000 - val_loss: 0.3364 - val_accuracy: 0.9333\n",
      "Epoch 13/50\n",
      "15/15 [==============================] - 0s 12ms/step - loss: 2.6491e-09 - accuracy: 1.0000 - val_loss: 0.3716 - val_accuracy: 0.9333\n",
      "Epoch 14/50\n",
      "15/15 [==============================] - 0s 12ms/step - loss: 0.0000e+00 - accuracy: 1.0000 - val_loss: 0.3499 - val_accuracy: 0.9333\n",
      "Epoch 15/50\n",
      "15/15 [==============================] - 0s 9ms/step - loss: 0.0000e+00 - accuracy: 1.0000 - val_loss: 0.3366 - val_accuracy: 0.9333\n",
      "Epoch 16/50\n",
      "15/15 [==============================] - 0s 10ms/step - loss: 0.0000e+00 - accuracy: 1.0000 - val_loss: 0.3189 - val_accuracy: 0.9333\n",
      "Epoch 17/50\n",
      "15/15 [==============================] - 0s 10ms/step - loss: 0.0000e+00 - accuracy: 1.0000 - val_loss: 0.3188 - val_accuracy: 0.9333\n",
      "Epoch 18/50\n",
      "15/15 [==============================] - 0s 10ms/step - loss: 0.0000e+00 - accuracy: 1.0000 - val_loss: 0.3203 - val_accuracy: 0.9333\n",
      "Epoch 19/50\n",
      "15/15 [==============================] - 0s 10ms/step - loss: 0.0000e+00 - accuracy: 1.0000 - val_loss: 0.3130 - val_accuracy: 0.9333\n",
      "Epoch 20/50\n",
      "15/15 [==============================] - 0s 10ms/step - loss: 0.0000e+00 - accuracy: 1.0000 - val_loss: 0.3112 - val_accuracy: 0.9333\n",
      "Epoch 21/50\n",
      "15/15 [==============================] - 0s 12ms/step - loss: 0.0000e+00 - accuracy: 1.0000 - val_loss: 0.2987 - val_accuracy: 0.9333\n",
      "Epoch 22/50\n",
      "15/15 [==============================] - 0s 9ms/step - loss: 0.0000e+00 - accuracy: 1.0000 - val_loss: 0.3087 - val_accuracy: 0.9333\n",
      "Epoch 23/50\n",
      "15/15 [==============================] - 0s 9ms/step - loss: 0.0000e+00 - accuracy: 1.0000 - val_loss: 0.3046 - val_accuracy: 0.9333\n",
      "Epoch 24/50\n",
      "15/15 [==============================] - 0s 10ms/step - loss: 2.6491e-09 - accuracy: 1.0000 - val_loss: 0.3768 - val_accuracy: 0.9333\n",
      "Epoch 25/50\n",
      "15/15 [==============================] - 0s 10ms/step - loss: 0.0000e+00 - accuracy: 1.0000 - val_loss: 0.3605 - val_accuracy: 0.9333\n",
      "Epoch 26/50\n",
      "15/15 [==============================] - 0s 9ms/step - loss: 0.0000e+00 - accuracy: 1.0000 - val_loss: 0.3335 - val_accuracy: 0.9333\n",
      "Epoch 27/50\n",
      "15/15 [==============================] - 0s 12ms/step - loss: 0.0000e+00 - accuracy: 1.0000 - val_loss: 0.3242 - val_accuracy: 0.9333\n",
      "Epoch 28/50\n",
      "15/15 [==============================] - 0s 12ms/step - loss: 0.0000e+00 - accuracy: 1.0000 - val_loss: 0.3051 - val_accuracy: 0.9333\n",
      "Epoch 29/50\n",
      "15/15 [==============================] - 0s 10ms/step - loss: 2.6491e-09 - accuracy: 1.0000 - val_loss: 0.3489 - val_accuracy: 0.9333\n",
      "Epoch 30/50\n",
      "15/15 [==============================] - 0s 10ms/step - loss: 0.0000e+00 - accuracy: 1.0000 - val_loss: 0.4042 - val_accuracy: 0.9333\n",
      "Epoch 31/50\n",
      "15/15 [==============================] - 0s 9ms/step - loss: 0.0000e+00 - accuracy: 1.0000 - val_loss: 0.3642 - val_accuracy: 0.9333\n",
      "Epoch 32/50\n",
      "15/15 [==============================] - 0s 10ms/step - loss: 0.0000e+00 - accuracy: 1.0000 - val_loss: 0.3373 - val_accuracy: 0.9333\n",
      "Epoch 33/50\n",
      "15/15 [==============================] - 0s 11ms/step - loss: 0.0000e+00 - accuracy: 1.0000 - val_loss: 0.3187 - val_accuracy: 0.9333\n",
      "Epoch 34/50\n",
      "15/15 [==============================] - 0s 12ms/step - loss: 0.0000e+00 - accuracy: 1.0000 - val_loss: 0.3168 - val_accuracy: 0.9333\n",
      "Epoch 35/50\n",
      "15/15 [==============================] - 0s 9ms/step - loss: 0.0000e+00 - accuracy: 1.0000 - val_loss: 0.2952 - val_accuracy: 0.9333\n",
      "Epoch 36/50\n",
      "15/15 [==============================] - 0s 10ms/step - loss: 2.6491e-09 - accuracy: 1.0000 - val_loss: 0.3214 - val_accuracy: 0.9333\n",
      "Epoch 37/50\n",
      "15/15 [==============================] - 0s 9ms/step - loss: 0.0000e+00 - accuracy: 1.0000 - val_loss: 0.3930 - val_accuracy: 0.9333\n",
      "Epoch 38/50\n",
      "15/15 [==============================] - 0s 10ms/step - loss: 0.0000e+00 - accuracy: 1.0000 - val_loss: 0.3443 - val_accuracy: 0.9333\n",
      "Epoch 39/50\n",
      "15/15 [==============================] - 0s 10ms/step - loss: 0.0000e+00 - accuracy: 1.0000 - val_loss: 0.3011 - val_accuracy: 0.9333\n",
      "Epoch 40/50\n",
      "15/15 [==============================] - 0s 9ms/step - loss: 0.0000e+00 - accuracy: 1.0000 - val_loss: 0.2825 - val_accuracy: 0.9333\n",
      "Epoch 41/50\n",
      "15/15 [==============================] - 0s 9ms/step - loss: 5.2982e-09 - accuracy: 1.0000 - val_loss: 0.3428 - val_accuracy: 0.9333\n",
      "Epoch 42/50\n",
      "15/15 [==============================] - 0s 10ms/step - loss: 2.6491e-09 - accuracy: 1.0000 - val_loss: 0.5034 - val_accuracy: 0.9333\n",
      "Epoch 43/50\n",
      "15/15 [==============================] - 0s 10ms/step - loss: 2.6491e-09 - accuracy: 1.0000 - val_loss: 0.3524 - val_accuracy: 0.9333\n",
      "Epoch 44/50\n",
      "15/15 [==============================] - 0s 9ms/step - loss: 0.0000e+00 - accuracy: 1.0000 - val_loss: 0.3311 - val_accuracy: 0.9333\n",
      "Epoch 45/50\n",
      "15/15 [==============================] - 0s 10ms/step - loss: 0.0000e+00 - accuracy: 1.0000 - val_loss: 0.3306 - val_accuracy: 0.9333\n",
      "Epoch 46/50\n",
      "15/15 [==============================] - 0s 9ms/step - loss: 0.0000e+00 - accuracy: 1.0000 - val_loss: 0.3380 - val_accuracy: 0.9333\n",
      "Epoch 47/50\n",
      "15/15 [==============================] - 0s 11ms/step - loss: 0.0000e+00 - accuracy: 1.0000 - val_loss: 0.3401 - val_accuracy: 0.9333\n",
      "Epoch 48/50\n",
      "15/15 [==============================] - 0s 12ms/step - loss: 0.0000e+00 - accuracy: 1.0000 - val_loss: 0.3415 - val_accuracy: 0.9333\n",
      "Epoch 49/50\n",
      "15/15 [==============================] - 0s 10ms/step - loss: 0.0000e+00 - accuracy: 1.0000 - val_loss: 0.3422 - val_accuracy: 0.9333\n",
      "Epoch 50/50\n",
      "15/15 [==============================] - 0s 12ms/step - loss: 0.0000e+00 - accuracy: 1.0000 - val_loss: 0.3404 - val_accuracy: 0.9333\n"
     ]
    },
    {
     "data": {
      "text/plain": [
       "<keras.callbacks.History at 0x1af12788d00>"
      ]
     },
     "execution_count": 27,
     "metadata": {},
     "output_type": "execute_result"
    }
   ],
   "source": [
    "# 3. 학습설정\n",
    "model.compile(loss='categorical_crossentropy', optimizer='adam', metrics=['accuracy'])\n",
    "# 4. 학습시키기\n",
    "model.fit(train_data, epochs=50, validation_data=test_data)"
   ]
  },
  {
   "cell_type": "code",
   "execution_count": 28,
   "id": "e1565a88",
   "metadata": {
    "ExecuteTime": {
     "end_time": "2024-12-24T06:45:26.229469Z",
     "start_time": "2024-12-24T06:45:26.125605Z"
    }
   },
   "outputs": [
    {
     "name": "stdout",
     "output_type": "stream",
     "text": [
      "5/5 [==============================] - 0s 5ms/step - loss: 0.3404 - accuracy: 0.9333\n",
      "0.3403969705104828\n",
      "0.9333333373069763\n"
     ]
    }
   ],
   "source": [
    "# 모델평가\n",
    "loss, accuracy = model.evaluate(test_data)\n",
    "print(loss)\n",
    "print(accuracy)"
   ]
  },
  {
   "cell_type": "code",
   "execution_count": 31,
   "id": "218d96ed",
   "metadata": {
    "ExecuteTime": {
     "end_time": "2024-12-24T06:47:33.825112Z",
     "start_time": "2024-12-24T06:47:33.716978Z"
    }
   },
   "outputs": [
    {
     "name": "stdout",
     "output_type": "stream",
     "text": [
      "5/5 [==============================] - 0s 4ms/step\n"
     ]
    },
    {
     "data": {
      "text/plain": [
       "array([0, 0, 0, 0, 0, 1, 1, 1, 1, 0, 2, 2, 2, 2, 2], dtype=int64)"
      ]
     },
     "execution_count": 31,
     "metadata": {},
     "output_type": "execute_result"
    }
   ],
   "source": [
    "# 예측하기\n",
    "yhat = model.predict(test_data)\n",
    "yhat.argmax(axis=1)"
   ]
  },
  {
   "cell_type": "code",
   "execution_count": 35,
   "id": "538d24ea",
   "metadata": {
    "ExecuteTime": {
     "end_time": "2024-12-24T06:50:30.443680Z",
     "start_time": "2024-12-24T06:50:30.437685Z"
    }
   },
   "outputs": [
    {
     "data": {
      "text/plain": [
       "array([[1.00, 0.00, 0.00],\n",
       "       [1.00, 0.00, 0.00],\n",
       "       [1.00, 0.00, 0.00],\n",
       "       [1.00, 0.00, 0.00],\n",
       "       [1.00, 0.00, 0.00],\n",
       "       [0.00, 1.00, 0.00],\n",
       "       [0.00, 1.00, 0.00],\n",
       "       [0.00, 1.00, 0.00],\n",
       "       [0.00, 1.00, 0.00],\n",
       "       [0.86, 0.01, 0.14],\n",
       "       [0.00, 0.00, 1.00],\n",
       "       [0.00, 0.00, 1.00],\n",
       "       [0.00, 0.00, 1.00],\n",
       "       [0.00, 0.00, 1.00],\n",
       "       [0.00, 0.00, 1.00]], dtype=float32)"
      ]
     },
     "execution_count": 35,
     "metadata": {},
     "output_type": "execute_result"
    }
   ],
   "source": [
    "np.set_printoptions(formatter={'float':lambda x : \"{:0.2f}\".format(x)})\n",
    "yhat"
   ]
  },
  {
   "cell_type": "code",
   "execution_count": 32,
   "id": "e328d205",
   "metadata": {
    "ExecuteTime": {
     "end_time": "2024-12-24T06:48:00.291931Z",
     "start_time": "2024-12-24T06:48:00.285978Z"
    }
   },
   "outputs": [
    {
     "data": {
      "text/plain": [
       "array([0, 0, 0, 0, 0, 1, 1, 1, 1, 1, 2, 2, 2, 2, 2])"
      ]
     },
     "execution_count": 32,
     "metadata": {},
     "output_type": "execute_result"
    }
   ],
   "source": [
    "# 실제 데이터\n",
    "test_data.labels"
   ]
  },
  {
   "cell_type": "markdown",
   "id": "015854d9",
   "metadata": {},
   "source": [
    "# 2. 데이터 증강을 통한 CNN accuracy 올리기\n",
    "- 데이터 추가 확보\n",
    "- 이미지 데이터를 증강(데이터 부풀리기)\n",
    "- 레이어층(Conv2D, MaxPooling, 배치정규화, Dense)\n",
    "- 활성화함수, 옵티마이저, Dropout(과적합 다소 해결)"
   ]
  },
  {
   "cell_type": "code",
   "execution_count": 36,
   "id": "8558ae08",
   "metadata": {
    "ExecuteTime": {
     "end_time": "2024-12-24T07:19:36.886067Z",
     "start_time": "2024-12-24T07:19:36.853878Z"
    }
   },
   "outputs": [
    {
     "name": "stdout",
     "output_type": "stream",
     "text": [
      "Found 45 images belonging to 3 classes.\n",
      "Found 15 images belonging to 3 classes.\n"
     ]
    }
   ],
   "source": [
    "# 데이터 생성\n",
    "train_datagen = ImageDataGenerator(rescale=1.0/255, # 스케일조정\n",
    "                                   rotation_range=10, # 이미지를 최대 +10 ~ -10도 회전\n",
    "                                   width_shift_range = 0.2, # 가로방향으로 최대 20%이동\n",
    "                                   height_shift_range = 0.2, # 세로방향으로 최대 20%이동\n",
    "                                   shear_range = 0.7, # 최대 0.7라디안으로 이미지 밀림\n",
    "                                   zoom_range = [0.9, 2.1], # 90~210%크기로 확대/축소\n",
    "                                   fill_mode='nearest', # 이미지 확대시 채우는 방식\n",
    "                                   horizontal_flip = True, # 수평방향 뒤집기\n",
    "                                   vertical_flip = True, # 수직방향 뒤집기\n",
    "                                   )\n",
    "train_data = train_datagen.flow_from_directory(\n",
    "    'data/handwriting/handwriting_shape/train',\n",
    "    target_size=(24,24),\n",
    "    class_mode='categorical',\n",
    "    batch_size=3\n",
    ")\n",
    "test_datagen = ImageDataGenerator(rescale=1.0/255)\n",
    "test_data = test_datagen.flow_from_directory(\n",
    "    'data/handwriting/handwriting_shape/test',\n",
    "    target_size=(24,24),\n",
    "    class_mode='categorical',\n",
    "    batch_size=3,\n",
    "    # shuffle = True 기본값\n",
    ")"
   ]
  },
  {
   "cell_type": "code",
   "execution_count": 38,
   "id": "54eef5bc",
   "metadata": {
    "ExecuteTime": {
     "end_time": "2024-12-24T07:23:15.923345Z",
     "start_time": "2024-12-24T07:23:15.861789Z"
    }
   },
   "outputs": [
    {
     "ename": "TypeError",
     "evalue": "Dropout.__init__() missing 1 required positional argument: 'rate'",
     "output_type": "error",
     "traceback": [
      "\u001b[1;31m---------------------------------------------------------------------------\u001b[0m",
      "\u001b[1;31mTypeError\u001b[0m                                 Traceback (most recent call last)",
      "Cell \u001b[1;32mIn[38], line 6\u001b[0m\n\u001b[0;32m      4\u001b[0m model\u001b[38;5;241m.\u001b[39madd(Conv2D(\u001b[38;5;241m64\u001b[39m, kernel_size\u001b[38;5;241m=\u001b[39m(\u001b[38;5;241m3\u001b[39m,\u001b[38;5;241m3\u001b[39m), activation\u001b[38;5;241m=\u001b[39m\u001b[38;5;124m'\u001b[39m\u001b[38;5;124mrelu\u001b[39m\u001b[38;5;124m'\u001b[39m))\n\u001b[0;32m      5\u001b[0m model\u001b[38;5;241m.\u001b[39madd(MaxPooling2D(pool_size\u001b[38;5;241m=\u001b[39m(\u001b[38;5;241m2\u001b[39m,\u001b[38;5;241m2\u001b[39m)))\n\u001b[1;32m----> 6\u001b[0m model\u001b[38;5;241m.\u001b[39madd(\u001b[43mDropout\u001b[49m\u001b[43m(\u001b[49m\u001b[43m)\u001b[49m)\n\u001b[0;32m      8\u001b[0m model\u001b[38;5;241m.\u001b[39madd(Conv2D(\u001b[38;5;241m64\u001b[39m, kernel_size\u001b[38;5;241m=\u001b[39m(\u001b[38;5;241m3\u001b[39m,\u001b[38;5;241m3\u001b[39m), activation\u001b[38;5;241m=\u001b[39m\u001b[38;5;124m'\u001b[39m\u001b[38;5;124mrelu\u001b[39m\u001b[38;5;124m'\u001b[39m, input_shape\u001b[38;5;241m=\u001b[39m(\u001b[38;5;241m24\u001b[39m,\u001b[38;5;241m24\u001b[39m,\u001b[38;5;241m3\u001b[39m)))\n\u001b[0;32m      9\u001b[0m model\u001b[38;5;241m.\u001b[39madd(Conv2D(\u001b[38;5;241m64\u001b[39m, kernel_size\u001b[38;5;241m=\u001b[39m(\u001b[38;5;241m3\u001b[39m,\u001b[38;5;241m3\u001b[39m), activation\u001b[38;5;241m=\u001b[39m\u001b[38;5;124m'\u001b[39m\u001b[38;5;124mrelu\u001b[39m\u001b[38;5;124m'\u001b[39m))\n",
      "\u001b[1;31mTypeError\u001b[0m: Dropout.__init__() missing 1 required positional argument: 'rate'"
     ]
    }
   ],
   "source": [
    "# 2. 모델 구성\n",
    "model = Sequential()\n",
    "model.add(Conv2D(32, kernel_size=(3,3), activation='relu', input_shape=(24,24,3)))\n",
    "model.add(Conv2D(64, kernel_size=(3,3), activation='relu'))\n",
    "model.add(MaxPooling2D(pool_size=(2,2)))\n",
    "\n",
    "model.add(Conv2D(64, kernel_size=(3,3), activation='relu', input_shape=(24,24,3)))\n",
    "model.add(Conv2D(64, kernel_size=(3,3), activation='relu'))\n",
    "model.add(MaxPooling2D(pool_size=(2,2)))\n",
    "\n",
    "model.add(Flatten()) # 3차원 데이터를 1차원으로\n",
    "model.add(Dense(units=64, activation='relu'))\n",
    "model.add(Dense(units=3, activation='softmax'))"
   ]
  },
  {
   "cell_type": "code",
   "execution_count": 37,
   "id": "23cff235",
   "metadata": {
    "ExecuteTime": {
     "end_time": "2024-12-24T07:21:12.368797Z",
     "start_time": "2024-12-24T07:21:02.349737Z"
    }
   },
   "outputs": [
    {
     "name": "stdout",
     "output_type": "stream",
     "text": [
      "Epoch 1/50\n",
      "15/15 [==============================] - 1s 22ms/step - loss: 4.8984 - accuracy: 0.4444 - val_loss: 0.9217 - val_accuracy: 0.8000\n",
      "Epoch 2/50\n",
      "15/15 [==============================] - 0s 11ms/step - loss: 2.8378 - accuracy: 0.4222 - val_loss: 0.7390 - val_accuracy: 0.8000\n",
      "Epoch 3/50\n",
      "15/15 [==============================] - 0s 11ms/step - loss: 1.4973 - accuracy: 0.4000 - val_loss: 0.3155 - val_accuracy: 0.8667\n",
      "Epoch 4/50\n",
      "15/15 [==============================] - 0s 12ms/step - loss: 1.0796 - accuracy: 0.4667 - val_loss: 0.1362 - val_accuracy: 0.9333\n",
      "Epoch 5/50\n",
      "15/15 [==============================] - 0s 11ms/step - loss: 1.1494 - accuracy: 0.4000 - val_loss: 0.1887 - val_accuracy: 0.9333\n",
      "Epoch 6/50\n",
      "15/15 [==============================] - 0s 11ms/step - loss: 0.9027 - accuracy: 0.6222 - val_loss: 0.1575 - val_accuracy: 0.9333\n",
      "Epoch 7/50\n",
      "15/15 [==============================] - 0s 11ms/step - loss: 0.8792 - accuracy: 0.5556 - val_loss: 0.1656 - val_accuracy: 0.9333\n",
      "Epoch 8/50\n",
      "15/15 [==============================] - 0s 11ms/step - loss: 1.0271 - accuracy: 0.4222 - val_loss: 0.1864 - val_accuracy: 0.9333\n",
      "Epoch 9/50\n",
      "15/15 [==============================] - 0s 11ms/step - loss: 0.7223 - accuracy: 0.6889 - val_loss: 0.0802 - val_accuracy: 1.0000\n",
      "Epoch 10/50\n",
      "15/15 [==============================] - 0s 10ms/step - loss: 0.7675 - accuracy: 0.6667 - val_loss: 0.2569 - val_accuracy: 0.8667\n",
      "Epoch 11/50\n",
      "15/15 [==============================] - 0s 10ms/step - loss: 0.7453 - accuracy: 0.6667 - val_loss: 0.1961 - val_accuracy: 0.9333\n",
      "Epoch 12/50\n",
      "15/15 [==============================] - 0s 13ms/step - loss: 0.6500 - accuracy: 0.7111 - val_loss: 0.0798 - val_accuracy: 1.0000\n",
      "Epoch 13/50\n",
      "15/15 [==============================] - 0s 10ms/step - loss: 0.6965 - accuracy: 0.7111 - val_loss: 0.1547 - val_accuracy: 0.9333\n",
      "Epoch 14/50\n",
      "15/15 [==============================] - 0s 10ms/step - loss: 0.4867 - accuracy: 0.8444 - val_loss: 0.1531 - val_accuracy: 0.9333\n",
      "Epoch 15/50\n",
      "15/15 [==============================] - 0s 11ms/step - loss: 0.7556 - accuracy: 0.6222 - val_loss: 0.0632 - val_accuracy: 1.0000\n",
      "Epoch 16/50\n",
      "15/15 [==============================] - 0s 10ms/step - loss: 0.6147 - accuracy: 0.7778 - val_loss: 0.0163 - val_accuracy: 1.0000\n",
      "Epoch 17/50\n",
      "15/15 [==============================] - 0s 11ms/step - loss: 0.6571 - accuracy: 0.6889 - val_loss: 0.0350 - val_accuracy: 1.0000\n",
      "Epoch 18/50\n",
      "15/15 [==============================] - 0s 13ms/step - loss: 0.4362 - accuracy: 0.8667 - val_loss: 0.0207 - val_accuracy: 1.0000\n",
      "Epoch 19/50\n",
      "15/15 [==============================] - 0s 10ms/step - loss: 0.3755 - accuracy: 0.9111 - val_loss: 0.0374 - val_accuracy: 1.0000\n",
      "Epoch 20/50\n",
      "15/15 [==============================] - 0s 10ms/step - loss: 0.3575 - accuracy: 0.9111 - val_loss: 0.0162 - val_accuracy: 1.0000\n",
      "Epoch 21/50\n",
      "15/15 [==============================] - 0s 9ms/step - loss: 0.4146 - accuracy: 0.8222 - val_loss: 0.1067 - val_accuracy: 0.9333\n",
      "Epoch 22/50\n",
      "15/15 [==============================] - 0s 9ms/step - loss: 0.3045 - accuracy: 0.8889 - val_loss: 0.0436 - val_accuracy: 1.0000\n",
      "Epoch 23/50\n",
      "15/15 [==============================] - 0s 11ms/step - loss: 0.2855 - accuracy: 0.9111 - val_loss: 0.0163 - val_accuracy: 1.0000\n",
      "Epoch 24/50\n",
      "15/15 [==============================] - 0s 11ms/step - loss: 0.2328 - accuracy: 0.9111 - val_loss: 0.0318 - val_accuracy: 1.0000\n",
      "Epoch 25/50\n",
      "15/15 [==============================] - 0s 13ms/step - loss: 0.2651 - accuracy: 0.9111 - val_loss: 0.0432 - val_accuracy: 1.0000\n",
      "Epoch 26/50\n",
      "15/15 [==============================] - 0s 11ms/step - loss: 0.6204 - accuracy: 0.7333 - val_loss: 6.1562e-04 - val_accuracy: 1.0000\n",
      "Epoch 27/50\n",
      "15/15 [==============================] - 0s 10ms/step - loss: 0.2713 - accuracy: 0.9111 - val_loss: 0.1680 - val_accuracy: 0.9333\n",
      "Epoch 28/50\n",
      "15/15 [==============================] - 0s 11ms/step - loss: 0.3711 - accuracy: 0.8444 - val_loss: 0.0014 - val_accuracy: 1.0000\n",
      "Epoch 29/50\n",
      "15/15 [==============================] - 0s 12ms/step - loss: 0.2222 - accuracy: 0.9556 - val_loss: 0.0120 - val_accuracy: 1.0000\n",
      "Epoch 30/50\n",
      "15/15 [==============================] - 0s 10ms/step - loss: 0.2305 - accuracy: 0.9111 - val_loss: 0.0211 - val_accuracy: 1.0000\n",
      "Epoch 31/50\n",
      "15/15 [==============================] - 0s 10ms/step - loss: 0.1721 - accuracy: 0.9556 - val_loss: 0.0023 - val_accuracy: 1.0000\n",
      "Epoch 32/50\n",
      "15/15 [==============================] - 0s 11ms/step - loss: 0.3079 - accuracy: 0.8667 - val_loss: 0.3086 - val_accuracy: 0.8667\n",
      "Epoch 33/50\n",
      "15/15 [==============================] - 0s 11ms/step - loss: 0.4360 - accuracy: 0.8667 - val_loss: 6.3986e-04 - val_accuracy: 1.0000\n",
      "Epoch 34/50\n",
      "15/15 [==============================] - 0s 11ms/step - loss: 0.2470 - accuracy: 0.8667 - val_loss: 0.0276 - val_accuracy: 1.0000\n",
      "Epoch 35/50\n",
      "15/15 [==============================] - 0s 10ms/step - loss: 0.2682 - accuracy: 0.8889 - val_loss: 0.0607 - val_accuracy: 1.0000\n",
      "Epoch 36/50\n",
      "15/15 [==============================] - 0s 11ms/step - loss: 0.2057 - accuracy: 0.9111 - val_loss: 0.0387 - val_accuracy: 1.0000\n",
      "Epoch 37/50\n",
      "15/15 [==============================] - 0s 10ms/step - loss: 0.1660 - accuracy: 0.9556 - val_loss: 0.0316 - val_accuracy: 1.0000\n",
      "Epoch 38/50\n",
      "15/15 [==============================] - 0s 10ms/step - loss: 0.1896 - accuracy: 0.9556 - val_loss: 0.0461 - val_accuracy: 1.0000\n",
      "Epoch 39/50\n",
      "15/15 [==============================] - 0s 11ms/step - loss: 0.1903 - accuracy: 0.9333 - val_loss: 0.0045 - val_accuracy: 1.0000\n",
      "Epoch 40/50\n",
      "15/15 [==============================] - 0s 9ms/step - loss: 0.1266 - accuracy: 0.9556 - val_loss: 8.7356e-04 - val_accuracy: 1.0000\n",
      "Epoch 41/50\n",
      "15/15 [==============================] - 0s 9ms/step - loss: 0.2516 - accuracy: 0.9111 - val_loss: 0.0019 - val_accuracy: 1.0000\n",
      "Epoch 42/50\n",
      "15/15 [==============================] - 0s 10ms/step - loss: 0.1348 - accuracy: 0.9333 - val_loss: 3.3195e-04 - val_accuracy: 1.0000\n",
      "Epoch 43/50\n",
      "15/15 [==============================] - 0s 11ms/step - loss: 0.1850 - accuracy: 0.9333 - val_loss: 0.0063 - val_accuracy: 1.0000\n",
      "Epoch 44/50\n",
      "15/15 [==============================] - 0s 11ms/step - loss: 0.1721 - accuracy: 0.9333 - val_loss: 2.7640e-04 - val_accuracy: 1.0000\n",
      "Epoch 45/50\n",
      "15/15 [==============================] - 0s 10ms/step - loss: 0.2414 - accuracy: 0.8889 - val_loss: 0.0011 - val_accuracy: 1.0000\n",
      "Epoch 46/50\n",
      "15/15 [==============================] - 0s 11ms/step - loss: 0.1532 - accuracy: 0.9778 - val_loss: 0.0041 - val_accuracy: 1.0000\n",
      "Epoch 47/50\n",
      "15/15 [==============================] - 0s 10ms/step - loss: 0.1514 - accuracy: 0.9556 - val_loss: 0.0055 - val_accuracy: 1.0000\n",
      "Epoch 48/50\n",
      "15/15 [==============================] - 0s 10ms/step - loss: 0.1475 - accuracy: 0.9778 - val_loss: 0.1132 - val_accuracy: 0.9333\n",
      "Epoch 49/50\n",
      "15/15 [==============================] - 0s 10ms/step - loss: 0.2482 - accuracy: 0.9556 - val_loss: 0.0047 - val_accuracy: 1.0000\n",
      "Epoch 50/50\n",
      "15/15 [==============================] - 0s 10ms/step - loss: 0.0961 - accuracy: 0.9778 - val_loss: 0.0046 - val_accuracy: 1.0000\n"
     ]
    },
    {
     "data": {
      "text/plain": [
       "<keras.callbacks.History at 0x1afdf4ee410>"
      ]
     },
     "execution_count": 37,
     "metadata": {},
     "output_type": "execute_result"
    }
   ],
   "source": [
    "# 3. 학습설정\n",
    "model.compile(loss='categorical_crossentropy', optimizer='adam', metrics=['accuracy'])\n",
    "# 4. 학습시키기\n",
    "model.fit(train_data, epochs=50, validation_data=test_data)"
   ]
  },
  {
   "cell_type": "code",
   "execution_count": null,
   "id": "fa766d60",
   "metadata": {},
   "outputs": [],
   "source": []
  },
  {
   "cell_type": "code",
   "execution_count": null,
   "id": "bde0ff86",
   "metadata": {},
   "outputs": [],
   "source": []
  },
  {
   "cell_type": "code",
   "execution_count": null,
   "id": "0b529ba0",
   "metadata": {},
   "outputs": [],
   "source": []
  },
  {
   "cell_type": "code",
   "execution_count": null,
   "id": "ebdce26f",
   "metadata": {},
   "outputs": [],
   "source": []
  },
  {
   "cell_type": "code",
   "execution_count": null,
   "id": "39fd013d",
   "metadata": {},
   "outputs": [],
   "source": []
  },
  {
   "cell_type": "code",
   "execution_count": null,
   "id": "bf690744",
   "metadata": {},
   "outputs": [],
   "source": []
  },
  {
   "cell_type": "code",
   "execution_count": null,
   "id": "c803e4f7",
   "metadata": {},
   "outputs": [],
   "source": []
  },
  {
   "cell_type": "code",
   "execution_count": null,
   "id": "86bb05cb",
   "metadata": {},
   "outputs": [],
   "source": []
  },
  {
   "cell_type": "code",
   "execution_count": null,
   "id": "e38f9a0e",
   "metadata": {},
   "outputs": [],
   "source": []
  },
  {
   "cell_type": "code",
   "execution_count": null,
   "id": "095e04bd",
   "metadata": {},
   "outputs": [],
   "source": []
  },
  {
   "cell_type": "code",
   "execution_count": null,
   "id": "4dfb9da8",
   "metadata": {},
   "outputs": [],
   "source": []
  },
  {
   "cell_type": "code",
   "execution_count": null,
   "id": "c90576e2",
   "metadata": {},
   "outputs": [],
   "source": []
  },
  {
   "cell_type": "code",
   "execution_count": null,
   "id": "e363ee3b",
   "metadata": {},
   "outputs": [],
   "source": []
  },
  {
   "cell_type": "code",
   "execution_count": null,
   "id": "dd8ed1f7",
   "metadata": {},
   "outputs": [],
   "source": []
  },
  {
   "cell_type": "code",
   "execution_count": null,
   "id": "26db2c1f",
   "metadata": {},
   "outputs": [],
   "source": []
  },
  {
   "cell_type": "code",
   "execution_count": null,
   "id": "99def2d5",
   "metadata": {},
   "outputs": [],
   "source": []
  },
  {
   "cell_type": "code",
   "execution_count": null,
   "id": "1c84029e",
   "metadata": {},
   "outputs": [],
   "source": []
  },
  {
   "cell_type": "code",
   "execution_count": null,
   "id": "412625b9",
   "metadata": {},
   "outputs": [],
   "source": []
  },
  {
   "cell_type": "code",
   "execution_count": null,
   "id": "e05d2c90",
   "metadata": {},
   "outputs": [],
   "source": []
  },
  {
   "cell_type": "code",
   "execution_count": null,
   "id": "739f0390",
   "metadata": {},
   "outputs": [],
   "source": []
  },
  {
   "cell_type": "code",
   "execution_count": null,
   "id": "33fc7e27",
   "metadata": {},
   "outputs": [],
   "source": []
  },
  {
   "cell_type": "code",
   "execution_count": null,
   "id": "12566b18",
   "metadata": {},
   "outputs": [],
   "source": []
  },
  {
   "cell_type": "code",
   "execution_count": null,
   "id": "3cfb1b1a",
   "metadata": {},
   "outputs": [],
   "source": []
  },
  {
   "cell_type": "code",
   "execution_count": null,
   "id": "1b6ee787",
   "metadata": {},
   "outputs": [],
   "source": []
  },
  {
   "cell_type": "code",
   "execution_count": null,
   "id": "25e60317",
   "metadata": {},
   "outputs": [],
   "source": []
  },
  {
   "cell_type": "code",
   "execution_count": null,
   "id": "aa3ae020",
   "metadata": {},
   "outputs": [],
   "source": []
  },
  {
   "cell_type": "code",
   "execution_count": null,
   "id": "2bcfca24",
   "metadata": {},
   "outputs": [],
   "source": []
  },
  {
   "cell_type": "code",
   "execution_count": null,
   "id": "9fb3095e",
   "metadata": {},
   "outputs": [],
   "source": []
  },
  {
   "cell_type": "code",
   "execution_count": null,
   "id": "7e31ec39",
   "metadata": {},
   "outputs": [],
   "source": []
  },
  {
   "cell_type": "code",
   "execution_count": null,
   "id": "d77e6313",
   "metadata": {},
   "outputs": [],
   "source": []
  },
  {
   "cell_type": "code",
   "execution_count": null,
   "id": "ba5b456f",
   "metadata": {},
   "outputs": [],
   "source": []
  },
  {
   "cell_type": "code",
   "execution_count": null,
   "id": "15233fc5",
   "metadata": {},
   "outputs": [],
   "source": []
  },
  {
   "cell_type": "code",
   "execution_count": null,
   "id": "2c1c01ce",
   "metadata": {},
   "outputs": [],
   "source": []
  },
  {
   "cell_type": "code",
   "execution_count": null,
   "id": "1d62d123",
   "metadata": {},
   "outputs": [],
   "source": []
  },
  {
   "cell_type": "code",
   "execution_count": null,
   "id": "077a03c7",
   "metadata": {},
   "outputs": [],
   "source": []
  },
  {
   "cell_type": "code",
   "execution_count": null,
   "id": "9b89477e",
   "metadata": {},
   "outputs": [],
   "source": []
  },
  {
   "cell_type": "code",
   "execution_count": null,
   "id": "b69a4b4a",
   "metadata": {},
   "outputs": [],
   "source": []
  },
  {
   "cell_type": "code",
   "execution_count": null,
   "id": "4733f190",
   "metadata": {},
   "outputs": [],
   "source": []
  },
  {
   "cell_type": "code",
   "execution_count": null,
   "id": "755616a6",
   "metadata": {},
   "outputs": [],
   "source": []
  },
  {
   "cell_type": "code",
   "execution_count": null,
   "id": "390b95ac",
   "metadata": {},
   "outputs": [],
   "source": []
  },
  {
   "cell_type": "code",
   "execution_count": null,
   "id": "984d825c",
   "metadata": {},
   "outputs": [],
   "source": []
  },
  {
   "cell_type": "code",
   "execution_count": null,
   "id": "8d38d6af",
   "metadata": {},
   "outputs": [],
   "source": []
  },
  {
   "cell_type": "code",
   "execution_count": null,
   "id": "fcfe955f",
   "metadata": {},
   "outputs": [],
   "source": []
  },
  {
   "cell_type": "code",
   "execution_count": null,
   "id": "eadf8a3c",
   "metadata": {},
   "outputs": [],
   "source": []
  },
  {
   "cell_type": "code",
   "execution_count": null,
   "id": "bd05604a",
   "metadata": {},
   "outputs": [],
   "source": []
  },
  {
   "cell_type": "code",
   "execution_count": null,
   "id": "88def19e",
   "metadata": {},
   "outputs": [],
   "source": []
  },
  {
   "cell_type": "code",
   "execution_count": null,
   "id": "6fa2da13",
   "metadata": {},
   "outputs": [],
   "source": []
  },
  {
   "cell_type": "code",
   "execution_count": null,
   "id": "7b523563",
   "metadata": {},
   "outputs": [],
   "source": []
  },
  {
   "cell_type": "code",
   "execution_count": null,
   "id": "6981503a",
   "metadata": {},
   "outputs": [],
   "source": []
  },
  {
   "cell_type": "code",
   "execution_count": null,
   "id": "0696e134",
   "metadata": {},
   "outputs": [],
   "source": []
  },
  {
   "cell_type": "code",
   "execution_count": null,
   "id": "2abac4ba",
   "metadata": {},
   "outputs": [],
   "source": []
  },
  {
   "cell_type": "code",
   "execution_count": null,
   "id": "4b3c75f0",
   "metadata": {},
   "outputs": [],
   "source": []
  },
  {
   "cell_type": "code",
   "execution_count": null,
   "id": "524bc2e1",
   "metadata": {},
   "outputs": [],
   "source": []
  },
  {
   "cell_type": "code",
   "execution_count": null,
   "id": "98430129",
   "metadata": {},
   "outputs": [],
   "source": []
  },
  {
   "cell_type": "code",
   "execution_count": null,
   "id": "d8d31dd2",
   "metadata": {},
   "outputs": [],
   "source": []
  },
  {
   "cell_type": "code",
   "execution_count": null,
   "id": "87089c6b",
   "metadata": {},
   "outputs": [],
   "source": []
  },
  {
   "cell_type": "code",
   "execution_count": null,
   "id": "f9b2cc9a",
   "metadata": {},
   "outputs": [],
   "source": []
  },
  {
   "cell_type": "code",
   "execution_count": null,
   "id": "6f35fe08",
   "metadata": {},
   "outputs": [],
   "source": []
  },
  {
   "cell_type": "code",
   "execution_count": null,
   "id": "59c58c98",
   "metadata": {},
   "outputs": [],
   "source": []
  },
  {
   "cell_type": "code",
   "execution_count": null,
   "id": "da663957",
   "metadata": {},
   "outputs": [],
   "source": []
  },
  {
   "cell_type": "code",
   "execution_count": null,
   "id": "e335c226",
   "metadata": {},
   "outputs": [],
   "source": []
  },
  {
   "cell_type": "code",
   "execution_count": null,
   "id": "26f7c7b5",
   "metadata": {},
   "outputs": [],
   "source": []
  },
  {
   "cell_type": "code",
   "execution_count": null,
   "id": "b8e13a6d",
   "metadata": {},
   "outputs": [],
   "source": []
  },
  {
   "cell_type": "code",
   "execution_count": null,
   "id": "6b7fd79d",
   "metadata": {},
   "outputs": [],
   "source": []
  },
  {
   "cell_type": "code",
   "execution_count": null,
   "id": "823cdde7",
   "metadata": {},
   "outputs": [],
   "source": []
  },
  {
   "cell_type": "code",
   "execution_count": null,
   "id": "141f5e83",
   "metadata": {},
   "outputs": [],
   "source": []
  },
  {
   "cell_type": "code",
   "execution_count": null,
   "id": "6670ec48",
   "metadata": {},
   "outputs": [],
   "source": []
  },
  {
   "cell_type": "code",
   "execution_count": null,
   "id": "8f2b0d89",
   "metadata": {},
   "outputs": [],
   "source": []
  },
  {
   "cell_type": "code",
   "execution_count": null,
   "id": "18d1c3f9",
   "metadata": {},
   "outputs": [],
   "source": []
  },
  {
   "cell_type": "code",
   "execution_count": null,
   "id": "78e76a66",
   "metadata": {},
   "outputs": [],
   "source": []
  },
  {
   "cell_type": "code",
   "execution_count": null,
   "id": "a09f4cf2",
   "metadata": {},
   "outputs": [],
   "source": []
  },
  {
   "cell_type": "code",
   "execution_count": null,
   "id": "8729ab25",
   "metadata": {},
   "outputs": [],
   "source": []
  },
  {
   "cell_type": "code",
   "execution_count": null,
   "id": "eede6f52",
   "metadata": {},
   "outputs": [],
   "source": []
  },
  {
   "cell_type": "code",
   "execution_count": null,
   "id": "8ad3611d",
   "metadata": {},
   "outputs": [],
   "source": []
  },
  {
   "cell_type": "code",
   "execution_count": null,
   "id": "bb8721ae",
   "metadata": {},
   "outputs": [],
   "source": []
  },
  {
   "cell_type": "code",
   "execution_count": null,
   "id": "277189d0",
   "metadata": {},
   "outputs": [],
   "source": []
  },
  {
   "cell_type": "code",
   "execution_count": null,
   "id": "034b05c6",
   "metadata": {},
   "outputs": [],
   "source": []
  },
  {
   "cell_type": "code",
   "execution_count": null,
   "id": "a54981b9",
   "metadata": {},
   "outputs": [],
   "source": []
  },
  {
   "cell_type": "code",
   "execution_count": null,
   "id": "9ee49c84",
   "metadata": {},
   "outputs": [],
   "source": []
  },
  {
   "cell_type": "code",
   "execution_count": null,
   "id": "856e8e2f",
   "metadata": {},
   "outputs": [],
   "source": []
  },
  {
   "cell_type": "code",
   "execution_count": null,
   "id": "ce38acb5",
   "metadata": {},
   "outputs": [],
   "source": []
  },
  {
   "cell_type": "code",
   "execution_count": null,
   "id": "76e90894",
   "metadata": {},
   "outputs": [],
   "source": []
  },
  {
   "cell_type": "code",
   "execution_count": null,
   "id": "c3e5eca0",
   "metadata": {},
   "outputs": [],
   "source": []
  },
  {
   "cell_type": "code",
   "execution_count": null,
   "id": "465432ce",
   "metadata": {},
   "outputs": [],
   "source": []
  },
  {
   "cell_type": "code",
   "execution_count": null,
   "id": "4b5cc446",
   "metadata": {},
   "outputs": [],
   "source": []
  },
  {
   "cell_type": "code",
   "execution_count": null,
   "id": "11caeefe",
   "metadata": {},
   "outputs": [],
   "source": []
  },
  {
   "cell_type": "code",
   "execution_count": null,
   "id": "576d35b2",
   "metadata": {},
   "outputs": [],
   "source": []
  },
  {
   "cell_type": "code",
   "execution_count": null,
   "id": "ef273d16",
   "metadata": {},
   "outputs": [],
   "source": []
  },
  {
   "cell_type": "code",
   "execution_count": null,
   "id": "35082d27",
   "metadata": {},
   "outputs": [],
   "source": []
  },
  {
   "cell_type": "code",
   "execution_count": null,
   "id": "6567f15b",
   "metadata": {},
   "outputs": [],
   "source": []
  },
  {
   "cell_type": "code",
   "execution_count": null,
   "id": "06af08fd",
   "metadata": {},
   "outputs": [],
   "source": []
  },
  {
   "cell_type": "code",
   "execution_count": null,
   "id": "8dcbb3b2",
   "metadata": {},
   "outputs": [],
   "source": []
  },
  {
   "cell_type": "code",
   "execution_count": null,
   "id": "27939518",
   "metadata": {},
   "outputs": [],
   "source": []
  },
  {
   "cell_type": "code",
   "execution_count": null,
   "id": "103e0c77",
   "metadata": {},
   "outputs": [],
   "source": []
  },
  {
   "cell_type": "code",
   "execution_count": null,
   "id": "1690b281",
   "metadata": {},
   "outputs": [],
   "source": []
  },
  {
   "cell_type": "code",
   "execution_count": null,
   "id": "2e25cc09",
   "metadata": {},
   "outputs": [],
   "source": []
  },
  {
   "cell_type": "code",
   "execution_count": null,
   "id": "8853ed64",
   "metadata": {},
   "outputs": [],
   "source": []
  },
  {
   "cell_type": "code",
   "execution_count": null,
   "id": "04a8cf81",
   "metadata": {},
   "outputs": [],
   "source": []
  }
 ],
 "metadata": {
  "kernelspec": {
   "display_name": "Python 3 (ipykernel)",
   "language": "python",
   "name": "python3"
  },
  "language_info": {
   "codemirror_mode": {
    "name": "ipython",
    "version": 3
   },
   "file_extension": ".py",
   "mimetype": "text/x-python",
   "name": "python",
   "nbconvert_exporter": "python",
   "pygments_lexer": "ipython3",
   "version": "3.10.9"
  },
  "toc": {
   "base_numbering": 1,
   "nav_menu": {},
   "number_sections": true,
   "sideBar": true,
   "skip_h1_title": false,
   "title_cell": "Table of Contents",
   "title_sidebar": "Contents",
   "toc_cell": false,
   "toc_position": {},
   "toc_section_display": true,
   "toc_window_display": false
  }
 },
 "nbformat": 4,
 "nbformat_minor": 5
}
